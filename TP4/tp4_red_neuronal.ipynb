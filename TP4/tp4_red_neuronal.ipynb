{
  "cells": [
    {
      "cell_type": "markdown",
      "metadata": {
        "id": "mV3FpAYD7EQc"
      },
      "source": [
        "#Trabajo Practico 4"
      ]
    },
    {
      "cell_type": "markdown",
      "metadata": {
        "id": "0cCC-qT_7VHi"
      },
      "source": [
        "Pinto, Nicolas \\\\\n",
        "Padron: 105064"
      ]
    },
    {
      "cell_type": "markdown",
      "metadata": {
        "id": "04-6k7rq7HLN"
      },
      "source": [
        "La tarea consiste en construir un clasificador que dada una imagen devuelva la categoría a la que corresponde. ¿Qué tan bien funciona la validación?"
      ]
    },
    {
      "cell_type": "markdown",
      "metadata": {
        "id": "_RVLrldu7v1e"
      },
      "source": [
        "##Imports"
      ]
    },
    {
      "cell_type": "code",
      "execution_count": null,
      "metadata": {
        "id": "KWOeu58-6dUC"
      },
      "outputs": [],
      "source": [
        "import pandas as pd\n",
        "import numpy as np\n",
        "import seaborn as sns\n",
        "import matplotlib.pyplot as plt\n",
        "from google.colab import drive\n",
        "from matplotlib import pyplot\n",
        "from PIL import Image\n",
        "\n",
        "import keras\n",
        "from keras.models import Sequential\n",
        "from keras.layers import Dense, Dropout, Flatten\n",
        "from keras.layers import Conv2D, MaxPooling2D\n",
        "from sklearn.model_selection import train_test_split\n",
        "\n",
        "from sklearn.preprocessing import OneHotEncoder\n",
        "from sklearn.preprocessing import MultiLabelBinarizer\n",
        "\n",
        "import os\n",
        "import os.path\n",
        "\n",
        "from sklearn.metrics import classification_report, confusion_matrix, accuracy_score"
      ]
    },
    {
      "cell_type": "code",
      "execution_count": null,
      "metadata": {
        "colab": {
          "base_uri": "https://localhost:8080/"
        },
        "id": "n5n-PtOXEeJv",
        "outputId": "1313a7bd-196a-478d-f69d-8de2778b40d6"
      },
      "outputs": [
        {
          "name": "stdout",
          "output_type": "stream",
          "text": [
            "Mounted at /content/gdrive\n"
          ]
        }
      ],
      "source": [
        "drive.mount('/content/gdrive')"
      ]
    },
    {
      "cell_type": "markdown",
      "metadata": {
        "id": "ECs7snhm75FL"
      },
      "source": [
        "##Datasets"
      ]
    },
    {
      "cell_type": "code",
      "execution_count": null,
      "metadata": {
        "id": "s-MhLmy2CcF-"
      },
      "outputs": [],
      "source": [
        "!unzip gdrive/My\\ Drive/Datasets\\ TP4/silkroad2_images.zip  > /dev/null"
      ]
    },
    {
      "cell_type": "code",
      "execution_count": null,
      "metadata": {
        "id": "tyvVtLfkOrH3"
      },
      "outputs": [],
      "source": [
        "silkroad_items = pd.read_csv('gdrive/My Drive/Datasets TP4/silkroad2_csvs.zip (Unzipped Files)/silkroad_items.csv')"
      ]
    },
    {
      "cell_type": "code",
      "execution_count": null,
      "metadata": {
        "id": "616DauNGh9vg"
      },
      "outputs": [],
      "source": [
        "image_folder = '/content/images_by_id/'"
      ]
    },
    {
      "cell_type": "markdown",
      "metadata": {
        "id": "tvx4DpILmplv"
      },
      "source": [
        "##Preparo el dataset"
      ]
    },
    {
      "cell_type": "code",
      "execution_count": null,
      "metadata": {
        "id": "xf5kX5QEWLTi"
      },
      "outputs": [],
      "source": [
        "dictionary = {}\n",
        "for photo in os.listdir(image_folder):         \n",
        "  image_path= os.path.join(image_folder, photo)         \n",
        "  image= Image.open(image_path) \n",
        "  image = np.asarray(Image.open(image_path), dtype='uint8')\n",
        "  if image.shape == (135, 180, 3):\n",
        "    name = float(photo.replace(\".jpg\", \"\"))\n",
        "    dictionary[name] = image\n",
        "  del(image)"
      ]
    },
    {
      "cell_type": "code",
      "execution_count": null,
      "metadata": {
        "id": "y_CkZfCC3zlx"
      },
      "outputs": [],
      "source": [
        "filtered_by_id = silkroad_items.loc[silkroad_items['image_id'].isin(dictionary), :].copy()\n",
        "filtered_images = filtered_by_id[['category','image_id']].copy()\n",
        "del(filtered_by_id)"
      ]
    },
    {
      "cell_type": "markdown",
      "metadata": {
        "id": "wcG5u56HMbWv"
      },
      "source": [
        "Las fotos de alcohol no corresponden a esa categoria y las de other tambien las saque porque quiero calificar cosas en concreto"
      ]
    },
    {
      "cell_type": "code",
      "execution_count": null,
      "metadata": {
        "id": "HjjiiddbLJF2"
      },
      "outputs": [],
      "source": [
        "filtered_images = filtered_images[filtered_images['category'] != \"Alcohol\"].copy()\n",
        "filtered_images = filtered_images[filtered_images['category'] != \"Other\"].copy()"
      ]
    },
    {
      "cell_type": "code",
      "execution_count": null,
      "metadata": {
        "id": "uJw-FqyiTRpy"
      },
      "outputs": [],
      "source": [
        "categories_frecuency = filtered_images['category'].value_counts()\n",
        "top_frecuency = categories_frecuency.head(6)\n",
        "df_frecuency = pd.DataFrame(top_frecuency)\n",
        "df_frecuency.reset_index(inplace = True)"
      ]
    },
    {
      "cell_type": "code",
      "execution_count": null,
      "metadata": {
        "id": "m4-hKZTeanXL"
      },
      "outputs": [],
      "source": [
        "top_frecuency = df_frecuency['index'].to_list()"
      ]
    },
    {
      "cell_type": "code",
      "execution_count": null,
      "metadata": {
        "id": "Y6F3EqsMPktF"
      },
      "outputs": [],
      "source": [
        "final_df = filtered_images.loc[(filtered_images['category'].isin(top_frecuency)) ,:].copy()"
      ]
    },
    {
      "cell_type": "code",
      "execution_count": null,
      "metadata": {
        "id": "fQX4zOTeT18b"
      },
      "outputs": [],
      "source": [
        "final_df = final_df.sample(frac = 1, random_state = 2)"
      ]
    },
    {
      "cell_type": "markdown",
      "metadata": {
        "id": "NY07_NSEmrqA"
      },
      "source": [
        "##Divido el dataset"
      ]
    },
    {
      "cell_type": "code",
      "execution_count": null,
      "metadata": {
        "id": "7Rp33zgeTshP"
      },
      "outputs": [],
      "source": [
        "train_len = int((final_df.shape[0])*0.95)\n",
        "test_len = int((final_df.shape[0])-train_len)"
      ]
    },
    {
      "cell_type": "code",
      "execution_count": null,
      "metadata": {
        "id": "6tHiwgL0Txh_"
      },
      "outputs": [],
      "source": [
        "train_set = final_df.head(train_len).copy()\n",
        "test_set = final_df.tail(test_len).copy()"
      ]
    },
    {
      "cell_type": "code",
      "execution_count": null,
      "metadata": {
        "id": "kfQdSdKcRU_r"
      },
      "outputs": [],
      "source": [
        "test_set.drop_duplicates(inplace= True)\n",
        "train_set.drop_duplicates(inplace=True)"
      ]
    },
    {
      "cell_type": "code",
      "execution_count": null,
      "metadata": {
        "colab": {
          "base_uri": "https://localhost:8080/"
        },
        "id": "AhrnJ7nYVK3H",
        "outputId": "8bfa3c88-cbcb-485e-8afa-a151be61d0c4"
      },
      "outputs": [
        {
          "data": {
            "text/plain": [
              "(11322, 2)"
            ]
          },
          "execution_count": 16,
          "metadata": {},
          "output_type": "execute_result"
        }
      ],
      "source": [
        "train_set.shape"
      ]
    },
    {
      "cell_type": "code",
      "execution_count": null,
      "metadata": {
        "colab": {
          "base_uri": "https://localhost:8080/"
        },
        "id": "7DRwjHggVMNh",
        "outputId": "1a48b29d-e08a-4c11-91e3-a3571fc01ae1"
      },
      "outputs": [
        {
          "data": {
            "text/plain": [
              "(3226, 2)"
            ]
          },
          "execution_count": 17,
          "metadata": {},
          "output_type": "execute_result"
        }
      ],
      "source": [
        "test_set.shape"
      ]
    },
    {
      "cell_type": "code",
      "execution_count": null,
      "metadata": {
        "id": "ozxhk-FQOrxS"
      },
      "outputs": [],
      "source": [
        "del(top_frecuency)"
      ]
    },
    {
      "cell_type": "code",
      "execution_count": null,
      "metadata": {
        "id": "Ozd7gov1OvKr"
      },
      "outputs": [],
      "source": [
        "del(silkroad_items)"
      ]
    },
    {
      "cell_type": "markdown",
      "metadata": {
        "id": "MPuh1HyWm654"
      },
      "source": [
        "##Encoding"
      ]
    },
    {
      "cell_type": "code",
      "execution_count": null,
      "metadata": {
        "colab": {
          "base_uri": "https://localhost:8080/",
          "height": 424
        },
        "id": "wW_2Xd-DggB6",
        "outputId": "1dee4253-e43f-4d14-f118-36f7b1a41df7"
      },
      "outputs": [
        {
          "data": {
            "text/html": [
              "\n",
              "  <div id=\"df-bd4c6633-d33d-4e4f-824e-a574ca1ad221\">\n",
              "    <div class=\"colab-df-container\">\n",
              "      <div>\n",
              "<style scoped>\n",
              "    .dataframe tbody tr th:only-of-type {\n",
              "        vertical-align: middle;\n",
              "    }\n",
              "\n",
              "    .dataframe tbody tr th {\n",
              "        vertical-align: top;\n",
              "    }\n",
              "\n",
              "    .dataframe thead th {\n",
              "        text-align: right;\n",
              "    }\n",
              "</style>\n",
              "<table border=\"1\" class=\"dataframe\">\n",
              "  <thead>\n",
              "    <tr style=\"text-align: right;\">\n",
              "      <th></th>\n",
              "      <th>category</th>\n",
              "      <th>image_id</th>\n",
              "      <th>image_values</th>\n",
              "    </tr>\n",
              "  </thead>\n",
              "  <tbody>\n",
              "    <tr>\n",
              "      <th>192459</th>\n",
              "      <td>Weed</td>\n",
              "      <td>27160.0</td>\n",
              "      <td>[[[252, 253, 255], [252, 253, 255], [252, 253,...</td>\n",
              "    </tr>\n",
              "    <tr>\n",
              "      <th>375116</th>\n",
              "      <td>Ecstasy</td>\n",
              "      <td>42878.0</td>\n",
              "      <td>[[[123, 139, 112], [110, 126, 100], [99, 113, ...</td>\n",
              "    </tr>\n",
              "    <tr>\n",
              "      <th>332196</th>\n",
              "      <td>MDMA</td>\n",
              "      <td>19473.0</td>\n",
              "      <td>[[[140, 127, 111], [141, 127, 114], [138, 125,...</td>\n",
              "    </tr>\n",
              "    <tr>\n",
              "      <th>391888</th>\n",
              "      <td>Ecstasy</td>\n",
              "      <td>46178.0</td>\n",
              "      <td>[[[201, 199, 210], [201, 199, 210], [200, 200,...</td>\n",
              "    </tr>\n",
              "    <tr>\n",
              "      <th>318530</th>\n",
              "      <td>Weed</td>\n",
              "      <td>23067.0</td>\n",
              "      <td>[[[59, 61, 60], [57, 59, 58], [62, 66, 65], [7...</td>\n",
              "    </tr>\n",
              "    <tr>\n",
              "      <th>...</th>\n",
              "      <td>...</td>\n",
              "      <td>...</td>\n",
              "      <td>...</td>\n",
              "    </tr>\n",
              "    <tr>\n",
              "      <th>234945</th>\n",
              "      <td>Cannabis</td>\n",
              "      <td>48126.0</td>\n",
              "      <td>[[[158, 157, 137], [157, 156, 136], [157, 156,...</td>\n",
              "    </tr>\n",
              "    <tr>\n",
              "      <th>18018</th>\n",
              "      <td>Stimulants</td>\n",
              "      <td>19458.0</td>\n",
              "      <td>[[[0, 0, 0], [0, 0, 0], [0, 0, 0], [0, 0, 0], ...</td>\n",
              "    </tr>\n",
              "    <tr>\n",
              "      <th>374624</th>\n",
              "      <td>Cannabis</td>\n",
              "      <td>52513.0</td>\n",
              "      <td>[[[197, 189, 187], [197, 189, 187], [198, 190,...</td>\n",
              "    </tr>\n",
              "    <tr>\n",
              "      <th>58005</th>\n",
              "      <td>Cannabis</td>\n",
              "      <td>27858.0</td>\n",
              "      <td>[[[51, 39, 27], [51, 39, 27], [51, 39, 27], [5...</td>\n",
              "    </tr>\n",
              "    <tr>\n",
              "      <th>43892</th>\n",
              "      <td>Stimulants</td>\n",
              "      <td>27137.0</td>\n",
              "      <td>[[[165, 138, 108], [166, 139, 109], [168, 141,...</td>\n",
              "    </tr>\n",
              "  </tbody>\n",
              "</table>\n",
              "<p>11322 rows × 3 columns</p>\n",
              "</div>\n",
              "      <button class=\"colab-df-convert\" onclick=\"convertToInteractive('df-bd4c6633-d33d-4e4f-824e-a574ca1ad221')\"\n",
              "              title=\"Convert this dataframe to an interactive table.\"\n",
              "              style=\"display:none;\">\n",
              "        \n",
              "  <svg xmlns=\"http://www.w3.org/2000/svg\" height=\"24px\"viewBox=\"0 0 24 24\"\n",
              "       width=\"24px\">\n",
              "    <path d=\"M0 0h24v24H0V0z\" fill=\"none\"/>\n",
              "    <path d=\"M18.56 5.44l.94 2.06.94-2.06 2.06-.94-2.06-.94-.94-2.06-.94 2.06-2.06.94zm-11 1L8.5 8.5l.94-2.06 2.06-.94-2.06-.94L8.5 2.5l-.94 2.06-2.06.94zm10 10l.94 2.06.94-2.06 2.06-.94-2.06-.94-.94-2.06-.94 2.06-2.06.94z\"/><path d=\"M17.41 7.96l-1.37-1.37c-.4-.4-.92-.59-1.43-.59-.52 0-1.04.2-1.43.59L10.3 9.45l-7.72 7.72c-.78.78-.78 2.05 0 2.83L4 21.41c.39.39.9.59 1.41.59.51 0 1.02-.2 1.41-.59l7.78-7.78 2.81-2.81c.8-.78.8-2.07 0-2.86zM5.41 20L4 18.59l7.72-7.72 1.47 1.35L5.41 20z\"/>\n",
              "  </svg>\n",
              "      </button>\n",
              "      \n",
              "  <style>\n",
              "    .colab-df-container {\n",
              "      display:flex;\n",
              "      flex-wrap:wrap;\n",
              "      gap: 12px;\n",
              "    }\n",
              "\n",
              "    .colab-df-convert {\n",
              "      background-color: #E8F0FE;\n",
              "      border: none;\n",
              "      border-radius: 50%;\n",
              "      cursor: pointer;\n",
              "      display: none;\n",
              "      fill: #1967D2;\n",
              "      height: 32px;\n",
              "      padding: 0 0 0 0;\n",
              "      width: 32px;\n",
              "    }\n",
              "\n",
              "    .colab-df-convert:hover {\n",
              "      background-color: #E2EBFA;\n",
              "      box-shadow: 0px 1px 2px rgba(60, 64, 67, 0.3), 0px 1px 3px 1px rgba(60, 64, 67, 0.15);\n",
              "      fill: #174EA6;\n",
              "    }\n",
              "\n",
              "    [theme=dark] .colab-df-convert {\n",
              "      background-color: #3B4455;\n",
              "      fill: #D2E3FC;\n",
              "    }\n",
              "\n",
              "    [theme=dark] .colab-df-convert:hover {\n",
              "      background-color: #434B5C;\n",
              "      box-shadow: 0px 1px 3px 1px rgba(0, 0, 0, 0.15);\n",
              "      filter: drop-shadow(0px 1px 2px rgba(0, 0, 0, 0.3));\n",
              "      fill: #FFFFFF;\n",
              "    }\n",
              "  </style>\n",
              "\n",
              "      <script>\n",
              "        const buttonEl =\n",
              "          document.querySelector('#df-bd4c6633-d33d-4e4f-824e-a574ca1ad221 button.colab-df-convert');\n",
              "        buttonEl.style.display =\n",
              "          google.colab.kernel.accessAllowed ? 'block' : 'none';\n",
              "\n",
              "        async function convertToInteractive(key) {\n",
              "          const element = document.querySelector('#df-bd4c6633-d33d-4e4f-824e-a574ca1ad221');\n",
              "          const dataTable =\n",
              "            await google.colab.kernel.invokeFunction('convertToInteractive',\n",
              "                                                     [key], {});\n",
              "          if (!dataTable) return;\n",
              "\n",
              "          const docLinkHtml = 'Like what you see? Visit the ' +\n",
              "            '<a target=\"_blank\" href=https://colab.research.google.com/notebooks/data_table.ipynb>data table notebook</a>'\n",
              "            + ' to learn more about interactive tables.';\n",
              "          element.innerHTML = '';\n",
              "          dataTable['output_type'] = 'display_data';\n",
              "          await google.colab.output.renderOutput(dataTable, element);\n",
              "          const docLink = document.createElement('div');\n",
              "          docLink.innerHTML = docLinkHtml;\n",
              "          element.appendChild(docLink);\n",
              "        }\n",
              "      </script>\n",
              "    </div>\n",
              "  </div>\n",
              "  "
            ],
            "text/plain": [
              "          category  image_id                                       image_values\n",
              "192459        Weed   27160.0  [[[252, 253, 255], [252, 253, 255], [252, 253,...\n",
              "375116     Ecstasy   42878.0  [[[123, 139, 112], [110, 126, 100], [99, 113, ...\n",
              "332196        MDMA   19473.0  [[[140, 127, 111], [141, 127, 114], [138, 125,...\n",
              "391888     Ecstasy   46178.0  [[[201, 199, 210], [201, 199, 210], [200, 200,...\n",
              "318530        Weed   23067.0  [[[59, 61, 60], [57, 59, 58], [62, 66, 65], [7...\n",
              "...            ...       ...                                                ...\n",
              "234945    Cannabis   48126.0  [[[158, 157, 137], [157, 156, 136], [157, 156,...\n",
              "18018   Stimulants   19458.0  [[[0, 0, 0], [0, 0, 0], [0, 0, 0], [0, 0, 0], ...\n",
              "374624    Cannabis   52513.0  [[[197, 189, 187], [197, 189, 187], [198, 190,...\n",
              "58005     Cannabis   27858.0  [[[51, 39, 27], [51, 39, 27], [51, 39, 27], [5...\n",
              "43892   Stimulants   27137.0  [[[165, 138, 108], [166, 139, 109], [168, 141,...\n",
              "\n",
              "[11322 rows x 3 columns]"
            ]
          },
          "execution_count": 20,
          "metadata": {},
          "output_type": "execute_result"
        }
      ],
      "source": [
        "train_set['image_values'] = train_set['image_id'].map(dictionary)\n",
        "train_set"
      ]
    },
    {
      "cell_type": "code",
      "execution_count": null,
      "metadata": {
        "colab": {
          "base_uri": "https://localhost:8080/",
          "height": 424
        },
        "id": "Jz8aVQqqWGB_",
        "outputId": "5bfcebb7-72e9-486c-a762-5fbf5c7dfddd"
      },
      "outputs": [
        {
          "data": {
            "text/html": [
              "\n",
              "  <div id=\"df-ba1db16f-a30e-4df1-83c6-36b1c967edf5\">\n",
              "    <div class=\"colab-df-container\">\n",
              "      <div>\n",
              "<style scoped>\n",
              "    .dataframe tbody tr th:only-of-type {\n",
              "        vertical-align: middle;\n",
              "    }\n",
              "\n",
              "    .dataframe tbody tr th {\n",
              "        vertical-align: top;\n",
              "    }\n",
              "\n",
              "    .dataframe thead th {\n",
              "        text-align: right;\n",
              "    }\n",
              "</style>\n",
              "<table border=\"1\" class=\"dataframe\">\n",
              "  <thead>\n",
              "    <tr style=\"text-align: right;\">\n",
              "      <th></th>\n",
              "      <th>category</th>\n",
              "      <th>image_id</th>\n",
              "      <th>image_values</th>\n",
              "    </tr>\n",
              "  </thead>\n",
              "  <tbody>\n",
              "    <tr>\n",
              "      <th>122128</th>\n",
              "      <td>MDMA</td>\n",
              "      <td>36832.0</td>\n",
              "      <td>[[[242, 203, 164], [245, 206, 167], [247, 207,...</td>\n",
              "    </tr>\n",
              "    <tr>\n",
              "      <th>369375</th>\n",
              "      <td>Cocaine</td>\n",
              "      <td>38596.0</td>\n",
              "      <td>[[[18, 19, 14], [18, 19, 14], [18, 19, 14], [1...</td>\n",
              "    </tr>\n",
              "    <tr>\n",
              "      <th>319739</th>\n",
              "      <td>Stimulants</td>\n",
              "      <td>51169.0</td>\n",
              "      <td>[[[43, 102, 74], [50, 107, 72], [50, 107, 66],...</td>\n",
              "    </tr>\n",
              "    <tr>\n",
              "      <th>233357</th>\n",
              "      <td>Cannabis</td>\n",
              "      <td>45858.0</td>\n",
              "      <td>[[[194, 180, 169], [197, 183, 172], [200, 186,...</td>\n",
              "    </tr>\n",
              "    <tr>\n",
              "      <th>112978</th>\n",
              "      <td>Weed</td>\n",
              "      <td>23647.0</td>\n",
              "      <td>[[[1, 1, 1], [1, 1, 1], [1, 1, 1], [1, 1, 1], ...</td>\n",
              "    </tr>\n",
              "    <tr>\n",
              "      <th>...</th>\n",
              "      <td>...</td>\n",
              "      <td>...</td>\n",
              "      <td>...</td>\n",
              "    </tr>\n",
              "    <tr>\n",
              "      <th>153485</th>\n",
              "      <td>Weed</td>\n",
              "      <td>8504.0</td>\n",
              "      <td>[[[83, 82, 61], [84, 83, 62], [80, 77, 58], [7...</td>\n",
              "    </tr>\n",
              "    <tr>\n",
              "      <th>212103</th>\n",
              "      <td>MDMA</td>\n",
              "      <td>45028.0</td>\n",
              "      <td>[[[184, 189, 227], [186, 192, 228], [186, 192,...</td>\n",
              "    </tr>\n",
              "    <tr>\n",
              "      <th>158453</th>\n",
              "      <td>Weed</td>\n",
              "      <td>19188.0</td>\n",
              "      <td>[[[241, 244, 233], [251, 254, 245], [245, 250,...</td>\n",
              "    </tr>\n",
              "    <tr>\n",
              "      <th>355993</th>\n",
              "      <td>Ecstasy</td>\n",
              "      <td>45041.0</td>\n",
              "      <td>[[[131, 128, 97], [163, 158, 126], [200, 192, ...</td>\n",
              "    </tr>\n",
              "    <tr>\n",
              "      <th>212723</th>\n",
              "      <td>Ecstasy</td>\n",
              "      <td>44705.0</td>\n",
              "      <td>[[[1, 17, 4], [14, 30, 19], [22, 39, 29], [18,...</td>\n",
              "    </tr>\n",
              "  </tbody>\n",
              "</table>\n",
              "<p>3226 rows × 3 columns</p>\n",
              "</div>\n",
              "      <button class=\"colab-df-convert\" onclick=\"convertToInteractive('df-ba1db16f-a30e-4df1-83c6-36b1c967edf5')\"\n",
              "              title=\"Convert this dataframe to an interactive table.\"\n",
              "              style=\"display:none;\">\n",
              "        \n",
              "  <svg xmlns=\"http://www.w3.org/2000/svg\" height=\"24px\"viewBox=\"0 0 24 24\"\n",
              "       width=\"24px\">\n",
              "    <path d=\"M0 0h24v24H0V0z\" fill=\"none\"/>\n",
              "    <path d=\"M18.56 5.44l.94 2.06.94-2.06 2.06-.94-2.06-.94-.94-2.06-.94 2.06-2.06.94zm-11 1L8.5 8.5l.94-2.06 2.06-.94-2.06-.94L8.5 2.5l-.94 2.06-2.06.94zm10 10l.94 2.06.94-2.06 2.06-.94-2.06-.94-.94-2.06-.94 2.06-2.06.94z\"/><path d=\"M17.41 7.96l-1.37-1.37c-.4-.4-.92-.59-1.43-.59-.52 0-1.04.2-1.43.59L10.3 9.45l-7.72 7.72c-.78.78-.78 2.05 0 2.83L4 21.41c.39.39.9.59 1.41.59.51 0 1.02-.2 1.41-.59l7.78-7.78 2.81-2.81c.8-.78.8-2.07 0-2.86zM5.41 20L4 18.59l7.72-7.72 1.47 1.35L5.41 20z\"/>\n",
              "  </svg>\n",
              "      </button>\n",
              "      \n",
              "  <style>\n",
              "    .colab-df-container {\n",
              "      display:flex;\n",
              "      flex-wrap:wrap;\n",
              "      gap: 12px;\n",
              "    }\n",
              "\n",
              "    .colab-df-convert {\n",
              "      background-color: #E8F0FE;\n",
              "      border: none;\n",
              "      border-radius: 50%;\n",
              "      cursor: pointer;\n",
              "      display: none;\n",
              "      fill: #1967D2;\n",
              "      height: 32px;\n",
              "      padding: 0 0 0 0;\n",
              "      width: 32px;\n",
              "    }\n",
              "\n",
              "    .colab-df-convert:hover {\n",
              "      background-color: #E2EBFA;\n",
              "      box-shadow: 0px 1px 2px rgba(60, 64, 67, 0.3), 0px 1px 3px 1px rgba(60, 64, 67, 0.15);\n",
              "      fill: #174EA6;\n",
              "    }\n",
              "\n",
              "    [theme=dark] .colab-df-convert {\n",
              "      background-color: #3B4455;\n",
              "      fill: #D2E3FC;\n",
              "    }\n",
              "\n",
              "    [theme=dark] .colab-df-convert:hover {\n",
              "      background-color: #434B5C;\n",
              "      box-shadow: 0px 1px 3px 1px rgba(0, 0, 0, 0.15);\n",
              "      filter: drop-shadow(0px 1px 2px rgba(0, 0, 0, 0.3));\n",
              "      fill: #FFFFFF;\n",
              "    }\n",
              "  </style>\n",
              "\n",
              "      <script>\n",
              "        const buttonEl =\n",
              "          document.querySelector('#df-ba1db16f-a30e-4df1-83c6-36b1c967edf5 button.colab-df-convert');\n",
              "        buttonEl.style.display =\n",
              "          google.colab.kernel.accessAllowed ? 'block' : 'none';\n",
              "\n",
              "        async function convertToInteractive(key) {\n",
              "          const element = document.querySelector('#df-ba1db16f-a30e-4df1-83c6-36b1c967edf5');\n",
              "          const dataTable =\n",
              "            await google.colab.kernel.invokeFunction('convertToInteractive',\n",
              "                                                     [key], {});\n",
              "          if (!dataTable) return;\n",
              "\n",
              "          const docLinkHtml = 'Like what you see? Visit the ' +\n",
              "            '<a target=\"_blank\" href=https://colab.research.google.com/notebooks/data_table.ipynb>data table notebook</a>'\n",
              "            + ' to learn more about interactive tables.';\n",
              "          element.innerHTML = '';\n",
              "          dataTable['output_type'] = 'display_data';\n",
              "          await google.colab.output.renderOutput(dataTable, element);\n",
              "          const docLink = document.createElement('div');\n",
              "          docLink.innerHTML = docLinkHtml;\n",
              "          element.appendChild(docLink);\n",
              "        }\n",
              "      </script>\n",
              "    </div>\n",
              "  </div>\n",
              "  "
            ],
            "text/plain": [
              "          category  image_id                                       image_values\n",
              "122128        MDMA   36832.0  [[[242, 203, 164], [245, 206, 167], [247, 207,...\n",
              "369375     Cocaine   38596.0  [[[18, 19, 14], [18, 19, 14], [18, 19, 14], [1...\n",
              "319739  Stimulants   51169.0  [[[43, 102, 74], [50, 107, 72], [50, 107, 66],...\n",
              "233357    Cannabis   45858.0  [[[194, 180, 169], [197, 183, 172], [200, 186,...\n",
              "112978        Weed   23647.0  [[[1, 1, 1], [1, 1, 1], [1, 1, 1], [1, 1, 1], ...\n",
              "...            ...       ...                                                ...\n",
              "153485        Weed    8504.0  [[[83, 82, 61], [84, 83, 62], [80, 77, 58], [7...\n",
              "212103        MDMA   45028.0  [[[184, 189, 227], [186, 192, 228], [186, 192,...\n",
              "158453        Weed   19188.0  [[[241, 244, 233], [251, 254, 245], [245, 250,...\n",
              "355993     Ecstasy   45041.0  [[[131, 128, 97], [163, 158, 126], [200, 192, ...\n",
              "212723     Ecstasy   44705.0  [[[1, 17, 4], [14, 30, 19], [22, 39, 29], [18,...\n",
              "\n",
              "[3226 rows x 3 columns]"
            ]
          },
          "execution_count": 21,
          "metadata": {},
          "output_type": "execute_result"
        }
      ],
      "source": [
        "test_set['image_values'] = test_set['image_id'].map(dictionary)\n",
        "test_set"
      ]
    },
    {
      "cell_type": "code",
      "execution_count": null,
      "metadata": {
        "id": "xWVvfpPyOz6D"
      },
      "outputs": [],
      "source": [
        "del(dictionary)"
      ]
    },
    {
      "cell_type": "code",
      "execution_count": null,
      "metadata": {
        "id": "VMeDctI6hGnU"
      },
      "outputs": [],
      "source": [
        "column_one_hot = []\n",
        "column_one_hot.append('category')"
      ]
    },
    {
      "cell_type": "code",
      "execution_count": null,
      "metadata": {
        "id": "KnZ7GXykkZBY"
      },
      "outputs": [],
      "source": [
        "onehotencoder = OneHotEncoder()\n",
        "y_train = onehotencoder.fit_transform(train_set['category'].values.reshape(-1,1)).toarray()"
      ]
    },
    {
      "cell_type": "code",
      "execution_count": null,
      "metadata": {
        "colab": {
          "base_uri": "https://localhost:8080/"
        },
        "id": "J1vvBFiLW1Pu",
        "outputId": "9f3a076b-0011-43df-91a5-5d9fbbe88ea8"
      },
      "outputs": [
        {
          "data": {
            "text/plain": [
              "array([[0., 0., 0., 1., 0., 0.],\n",
              "       [0., 1., 0., 0., 0., 0.],\n",
              "       [0., 0., 0., 0., 1., 0.],\n",
              "       ...,\n",
              "       [0., 0., 0., 0., 0., 1.],\n",
              "       [0., 0., 1., 0., 0., 0.],\n",
              "       [0., 0., 1., 0., 0., 0.]])"
            ]
          },
          "execution_count": 25,
          "metadata": {},
          "output_type": "execute_result"
        }
      ],
      "source": [
        "y_test = onehotencoder.fit_transform(test_set['category'].values.reshape(-1,1)).toarray()\n",
        "y_test"
      ]
    },
    {
      "cell_type": "code",
      "execution_count": null,
      "metadata": {
        "id": "oxW_WIuM5wmd"
      },
      "outputs": [],
      "source": [
        "x_train = train_set['image_values'].tolist()"
      ]
    },
    {
      "cell_type": "code",
      "execution_count": null,
      "metadata": {
        "id": "gkMPon5a6I7r"
      },
      "outputs": [],
      "source": [
        "x_train = np.array(x_train)"
      ]
    },
    {
      "cell_type": "code",
      "execution_count": null,
      "metadata": {
        "colab": {
          "base_uri": "https://localhost:8080/"
        },
        "id": "jd4L9kVL6eZ9",
        "outputId": "dad11059-78c4-47a2-f387-ba321a39db04"
      },
      "outputs": [
        {
          "data": {
            "text/plain": [
              "(11322, 135, 180, 3)"
            ]
          },
          "execution_count": 28,
          "metadata": {},
          "output_type": "execute_result"
        }
      ],
      "source": [
        "x_train.shape"
      ]
    },
    {
      "cell_type": "code",
      "execution_count": null,
      "metadata": {
        "colab": {
          "base_uri": "https://localhost:8080/"
        },
        "id": "cHO2oWzuhZXa",
        "outputId": "c337c6b5-2727-4f2e-c77e-313bac1069c7"
      },
      "outputs": [
        {
          "data": {
            "text/plain": [
              "(11322, 6)"
            ]
          },
          "execution_count": 29,
          "metadata": {},
          "output_type": "execute_result"
        }
      ],
      "source": [
        "y_train.shape"
      ]
    },
    {
      "cell_type": "code",
      "execution_count": null,
      "metadata": {
        "colab": {
          "base_uri": "https://localhost:8080/"
        },
        "id": "2j0CkuIHXNKO",
        "outputId": "b5af0acf-ce49-46fa-f5ad-217b37f0a66d"
      },
      "outputs": [
        {
          "data": {
            "text/plain": [
              "(3226, 135, 180, 3)"
            ]
          },
          "execution_count": 30,
          "metadata": {},
          "output_type": "execute_result"
        }
      ],
      "source": [
        "x_test = test_set['image_values'].tolist()\n",
        "x_test = np.array(x_test)\n",
        "x_test.shape"
      ]
    },
    {
      "cell_type": "code",
      "execution_count": null,
      "metadata": {
        "colab": {
          "base_uri": "https://localhost:8080/"
        },
        "id": "gZvKCyIKHU4a",
        "outputId": "fdb0285c-b4d5-466d-99e6-23b1e326d7d1"
      },
      "outputs": [
        {
          "data": {
            "text/plain": [
              "(3226, 135, 180, 3)"
            ]
          },
          "execution_count": 38,
          "metadata": {},
          "output_type": "execute_result"
        }
      ],
      "source": [
        "x_test.shape"
      ]
    },
    {
      "cell_type": "code",
      "execution_count": null,
      "metadata": {
        "colab": {
          "base_uri": "https://localhost:8080/"
        },
        "id": "OvoqChgPXTKE",
        "outputId": "f1e3cd84-5bd3-42fd-9d9f-8db089df2ab6"
      },
      "outputs": [
        {
          "data": {
            "text/plain": [
              "(3226, 6)"
            ]
          },
          "execution_count": 31,
          "metadata": {},
          "output_type": "execute_result"
        }
      ],
      "source": [
        "y_test.shape"
      ]
    },
    {
      "cell_type": "code",
      "execution_count": null,
      "metadata": {
        "id": "ICTnwKdsSrK0"
      },
      "outputs": [],
      "source": [
        "del(final_df)"
      ]
    },
    {
      "cell_type": "markdown",
      "metadata": {
        "id": "u4CNfaJ5qeA0"
      },
      "source": [
        "##CNN"
      ]
    },
    {
      "cell_type": "markdown",
      "metadata": {
        "id": "xC-_5csPqvET"
      },
      "source": [
        "###Modelo"
      ]
    },
    {
      "cell_type": "code",
      "execution_count": null,
      "metadata": {
        "id": "USpGwFj6oUzm"
      },
      "outputs": [],
      "source": [
        "import tensorflow as tf\n",
        "from tensorflow import keras\n",
        "from keras.layers import Dense,Conv2D,Flatten,MaxPool2D,Dropout\n",
        "from keras.models import Sequential\n",
        "\n",
        "\n",
        "from sklearn.model_selection import train_test_split"
      ]
    },
    {
      "cell_type": "code",
      "execution_count": null,
      "metadata": {
        "id": "kcucJpH5o_wx"
      },
      "outputs": [],
      "source": [
        "x_train,x_val,y_train,y_val = train_test_split(x_train,y_train,random_state=1)"
      ]
    },
    {
      "cell_type": "code",
      "execution_count": null,
      "metadata": {
        "id": "iIjyOqvNoQpx"
      },
      "outputs": [],
      "source": [
        "np.random.seed(1)\n",
        "tf.random.set_seed(1)\n",
        "\n",
        "model= Sequential()\n",
        "model.add(Conv2D(kernel_size=(3,3), filters=32, activation='tanh', input_shape=(135,180,3,)))\n",
        "model.add(Conv2D(filters=10,kernel_size = (3,3),activation='tanh'))\n",
        "model.add(MaxPool2D(2,2))\n",
        "model.add(Conv2D(filters=10,kernel_size = (3,3),activation='tanh'))\n",
        "model.add(MaxPool2D(3,3))\n",
        "model.add(Conv2D(filters=10,kernel_size = (3,3),activation='tanh'))\n",
        "\n",
        "model.add(Flatten())\n",
        "\n",
        "model.add(Dense(30,activation='relu'))\n",
        "model.add(Dropout(0.25))\n",
        "model.add(Dense(20,activation='relu'))\n",
        "model.add(Dense(6,activation = 'softmax'))\n",
        "    \n",
        "model.compile(\n",
        "              loss='categorical_crossentropy', \n",
        "              metrics=['acc'],\n",
        "              optimizer= keras.optimizers.Adam(learning_rate=0.0005)\n",
        "             )"
      ]
    },
    {
      "cell_type": "code",
      "execution_count": null,
      "metadata": {
        "colab": {
          "base_uri": "https://localhost:8080/"
        },
        "id": "ldOJ9t80ohje",
        "outputId": "0dcf5e54-2b5d-4f13-ebd3-1b46171648fe"
      },
      "outputs": [
        {
          "name": "stdout",
          "output_type": "stream",
          "text": [
            "Model: \"sequential\"\n",
            "_________________________________________________________________\n",
            " Layer (type)                Output Shape              Param #   \n",
            "=================================================================\n",
            " conv2d (Conv2D)             (None, 133, 178, 32)      896       \n",
            "                                                                 \n",
            " conv2d_1 (Conv2D)           (None, 131, 176, 10)      2890      \n",
            "                                                                 \n",
            " max_pooling2d (MaxPooling2D  (None, 65, 88, 10)       0         \n",
            " )                                                               \n",
            "                                                                 \n",
            " conv2d_2 (Conv2D)           (None, 63, 86, 10)        910       \n",
            "                                                                 \n",
            " max_pooling2d_1 (MaxPooling  (None, 21, 28, 10)       0         \n",
            " 2D)                                                             \n",
            "                                                                 \n",
            " conv2d_3 (Conv2D)           (None, 19, 26, 10)        910       \n",
            "                                                                 \n",
            " flatten (Flatten)           (None, 4940)              0         \n",
            "                                                                 \n",
            " dense (Dense)               (None, 30)                148230    \n",
            "                                                                 \n",
            " dropout (Dropout)           (None, 30)                0         \n",
            "                                                                 \n",
            " dense_1 (Dense)             (None, 20)                620       \n",
            "                                                                 \n",
            " dense_2 (Dense)             (None, 6)                 126       \n",
            "                                                                 \n",
            "=================================================================\n",
            "Total params: 154,582\n",
            "Trainable params: 154,582\n",
            "Non-trainable params: 0\n",
            "_________________________________________________________________\n"
          ]
        }
      ],
      "source": [
        "model.summary()"
      ]
    },
    {
      "cell_type": "code",
      "execution_count": null,
      "metadata": {
        "colab": {
          "base_uri": "https://localhost:8080/"
        },
        "id": "Q70hu09koxJX",
        "outputId": "90a1bda0-38c3-4fed-fbc0-af53a7cfc3e8"
      },
      "outputs": [
        {
          "name": "stdout",
          "output_type": "stream",
          "text": [
            "Epoch 1/40\n",
            "133/133 [==============================] - 416s 3s/step - loss: 1.6615 - acc: 0.2864 - val_loss: 1.5412 - val_acc: 0.3642\n",
            "Epoch 2/40\n",
            "133/133 [==============================] - 400s 3s/step - loss: 1.4542 - acc: 0.3952 - val_loss: 1.3445 - val_acc: 0.4546\n",
            "Epoch 3/40\n",
            "133/133 [==============================] - 405s 3s/step - loss: 1.3005 - acc: 0.4667 - val_loss: 1.1923 - val_acc: 0.5224\n",
            "Epoch 4/40\n",
            "133/133 [==============================] - 404s 3s/step - loss: 1.1364 - acc: 0.5613 - val_loss: 1.0670 - val_acc: 0.6079\n",
            "Epoch 5/40\n",
            "133/133 [==============================] - 400s 3s/step - loss: 0.9503 - acc: 0.6469 - val_loss: 0.9572 - val_acc: 0.6627\n",
            "Epoch 6/40\n",
            "133/133 [==============================] - 398s 3s/step - loss: 0.7954 - acc: 0.7082 - val_loss: 0.8362 - val_acc: 0.7199\n",
            "Epoch 7/40\n",
            "133/133 [==============================] - 396s 3s/step - loss: 0.6830 - acc: 0.7564 - val_loss: 0.7853 - val_acc: 0.7425\n",
            "Epoch 8/40\n",
            "133/133 [==============================] - 396s 3s/step - loss: 0.5945 - acc: 0.7860 - val_loss: 0.7595 - val_acc: 0.7619\n",
            "Epoch 9/40\n",
            "133/133 [==============================] - 397s 3s/step - loss: 0.5185 - acc: 0.8147 - val_loss: 0.7463 - val_acc: 0.7743\n",
            "Epoch 10/40\n",
            "133/133 [==============================] - 396s 3s/step - loss: 0.4649 - acc: 0.8357 - val_loss: 0.6796 - val_acc: 0.7927\n",
            "Epoch 11/40\n",
            "133/133 [==============================] - 396s 3s/step - loss: 0.4085 - acc: 0.8567 - val_loss: 0.6745 - val_acc: 0.7962\n",
            "Epoch 12/40\n",
            "133/133 [==============================] - 397s 3s/step - loss: 0.3693 - acc: 0.8705 - val_loss: 0.6937 - val_acc: 0.7944\n",
            "Epoch 13/40\n",
            "133/133 [==============================] - 396s 3s/step - loss: 0.3303 - acc: 0.8854 - val_loss: 0.6980 - val_acc: 0.8011\n",
            "Epoch 14/40\n",
            "133/133 [==============================] - 398s 3s/step - loss: 0.3199 - acc: 0.8868 - val_loss: 0.7128 - val_acc: 0.8107\n",
            "Epoch 15/40\n",
            "133/133 [==============================] - 399s 3s/step - loss: 0.2891 - acc: 0.8981 - val_loss: 0.7076 - val_acc: 0.8096\n",
            "Epoch 16/40\n",
            "133/133 [==============================] - 397s 3s/step - loss: 0.2650 - acc: 0.9080 - val_loss: 0.7159 - val_acc: 0.8096\n",
            "Epoch 17/40\n",
            "133/133 [==============================] - 397s 3s/step - loss: 0.2512 - acc: 0.9087 - val_loss: 0.7434 - val_acc: 0.8177\n",
            "Epoch 18/40\n",
            "133/133 [==============================] - 397s 3s/step - loss: 0.2380 - acc: 0.9128 - val_loss: 0.7302 - val_acc: 0.8202\n",
            "Epoch 19/40\n",
            "133/133 [==============================] - 397s 3s/step - loss: 0.2200 - acc: 0.9219 - val_loss: 0.7528 - val_acc: 0.8085\n",
            "Epoch 20/40\n",
            "133/133 [==============================] - 397s 3s/step - loss: 0.2184 - acc: 0.9239 - val_loss: 0.8093 - val_acc: 0.8163\n",
            "Epoch 21/40\n",
            "133/133 [==============================] - 396s 3s/step - loss: 0.2086 - acc: 0.9246 - val_loss: 0.7780 - val_acc: 0.8110\n",
            "Epoch 22/40\n",
            "133/133 [==============================] - 396s 3s/step - loss: 0.1961 - acc: 0.9291 - val_loss: 0.8536 - val_acc: 0.8040\n"
          ]
        }
      ],
      "source": [
        "from keras.callbacks import EarlyStopping\n",
        "early_stopping = EarlyStopping(monitor='val_acc', patience=4, restore_best_weights=True)\n",
        "history = model.fit(x_train,y_train,epochs=40,batch_size=64 , callbacks=[early_stopping],validation_data=(x_val,y_val))"
      ]
    },
    {
      "cell_type": "code",
      "execution_count": null,
      "metadata": {
        "colab": {
          "base_uri": "https://localhost:8080/"
        },
        "id": "LZXvwgMNpM_s",
        "outputId": "1cb4dde3-915d-4119-da60-7e687b9651d4"
      },
      "outputs": [
        {
          "name": "stdout",
          "output_type": "stream",
          "text": [
            "INFO:tensorflow:Assets written to: ram://20ad8b73-a940-4f6f-a29f-a0364139dda9/assets\n"
          ]
        }
      ],
      "source": [
        "import pickle\n",
        "with open('data_backup', 'wb') as model_backup_file:\n",
        "  pickle.dump(history, model_backup_file)"
      ]
    },
    {
      "cell_type": "markdown",
      "metadata": {
        "id": "2cPT2ZTIqh25"
      },
      "source": [
        "###Graphs"
      ]
    },
    {
      "cell_type": "code",
      "execution_count": null,
      "metadata": {
        "colab": {
          "base_uri": "https://localhost:8080/",
          "height": 295
        },
        "id": "7HIVZMTgJQOQ",
        "outputId": "fe3e3209-f387-4b28-85b1-038832673e68"
      },
      "outputs": [
        {
          "data": {
            "image/png": "[encoded data removed]",
            "text/plain": [
              "<Figure size 432x288 with 1 Axes>"
            ]
          },
          "metadata": {
            "needs_background": "light"
          },
          "output_type": "display_data"
        }
      ],
      "source": [
        "plt.plot(history.history['acc'])\n",
        "plt.plot(history.history['val_acc'])\n",
        "plt.title('model accuracy')\n",
        "plt.ylabel('accuracy')\n",
        "plt.xlabel('epoch')\n",
        "plt.legend(['train', 'validation'], loc='upper left')\n",
        "plt.show()"
      ]
    },
    {
      "cell_type": "code",
      "execution_count": null,
      "metadata": {
        "colab": {
          "base_uri": "https://localhost:8080/",
          "height": 295
        },
        "id": "RlT1PGd_JQGI",
        "outputId": "65434cce-7135-49db-a7ae-a3570bebc0ea"
      },
      "outputs": [
        {
          "data": {
            "image/png": "[encoded data removed]",
            "text/plain": [
              "<Figure size 432x288 with 1 Axes>"
            ]
          },
          "metadata": {
            "needs_background": "light"
          },
          "output_type": "display_data"
        }
      ],
      "source": [
        "plt.plot(history.history['loss'])\n",
        "plt.plot(history.history['val_loss'])\n",
        "plt.title('model loss')\n",
        "plt.ylabel('loss')\n",
        "plt.xlabel('epoch')\n",
        "plt.legend(['train', 'validation'], loc='upper left')\n",
        "plt.show()"
      ]
    },
    {
      "cell_type": "code",
      "execution_count": null,
      "metadata": {
        "colab": {
          "base_uri": "https://localhost:8080/"
        },
        "id": "HA_KBFYIJYpj",
        "outputId": "7af43d73-c437-4c2e-f14b-f9f235235264"
      },
      "outputs": [
        {
          "name": "stdout",
          "output_type": "stream",
          "text": [
            "89/89 [==============================] - 32s 362ms/step - loss: 0.7302 - acc: 0.8202\n",
            "[0.7301729321479797, 0.8202048540115356]\n"
          ]
        }
      ],
      "source": [
        "evaluate = model.evaluate(x_val,y_val)\n",
        "print(evaluate)"
      ]
    },
    {
      "cell_type": "markdown",
      "metadata": {
        "id": "K1iAqw2Dqk4f"
      },
      "source": [
        "###Testing"
      ]
    },
    {
      "cell_type": "code",
      "execution_count": null,
      "metadata": {
        "id": "prd-92GTLeSW"
      },
      "outputs": [],
      "source": [
        "output = { 0:'Cannabis',1:'Cocaine',2:'Ecstasy',3:'MDMA',4:'Stimulants',5:'Weed'}"
      ]
    },
    {
      "cell_type": "code",
      "execution_count": null,
      "metadata": {
        "id": "LPQT9874jKRK"
      },
      "outputs": [],
      "source": [
        "preds = model.predict(x_test)"
      ]
    },
    {
      "cell_type": "code",
      "execution_count": null,
      "metadata": {
        "colab": {
          "base_uri": "https://localhost:8080/"
        },
        "id": "IzYjmPk6xkhq",
        "outputId": "4b9863ea-9dfc-4975-a9ef-d1b616f2737c"
      },
      "outputs": [
        {
          "data": {
            "text/plain": [
              "array([3, 1, 4, ..., 5, 2, 2])"
            ]
          },
          "execution_count": 47,
          "metadata": {},
          "output_type": "execute_result"
        }
      ],
      "source": [
        "preds = np.argmax(preds, axis=1)\n",
        "preds"
      ]
    },
    {
      "cell_type": "code",
      "execution_count": null,
      "metadata": {
        "colab": {
          "base_uri": "https://localhost:8080/"
        },
        "id": "cVH71FZVk5tH",
        "outputId": "bfeaf145-b49f-43b6-bbfa-3ee37c26d042"
      },
      "outputs": [
        {
          "data": {
            "text/plain": [
              "array([3, 1, 4, ..., 5, 2, 2])"
            ]
          },
          "execution_count": 48,
          "metadata": {},
          "output_type": "execute_result"
        }
      ],
      "source": [
        "y_test = np.argmax(y_test, axis=1)\n",
        "y_test"
      ]
    },
    {
      "cell_type": "code",
      "execution_count": null,
      "metadata": {
        "id": "p2oZExHtyNKf"
      },
      "outputs": [],
      "source": [
        "from sklearn.metrics import classification_report, accuracy_score, roc_auc_score, ConfusionMatrixDisplay, confusion_matrix"
      ]
    },
    {
      "cell_type": "code",
      "execution_count": null,
      "metadata": {
        "colab": {
          "base_uri": "https://localhost:8080/"
        },
        "id": "UVM_1UBXyPvK",
        "outputId": "b39393cc-776a-4949-a354-34a9fec46f8c"
      },
      "outputs": [
        {
          "name": "stdout",
          "output_type": "stream",
          "text": [
            "              precision    recall  f1-score   support\n",
            "\n",
            "           0       0.93      0.92      0.92       473\n",
            "           1       0.94      0.91      0.92       372\n",
            "           2       0.92      0.92      0.92       656\n",
            "           3       0.92      0.88      0.90       441\n",
            "           4       0.91      0.94      0.93       659\n",
            "           5       0.94      0.95      0.95       625\n",
            "\n",
            "    accuracy                           0.93      3226\n",
            "   macro avg       0.93      0.92      0.92      3226\n",
            "weighted avg       0.93      0.93      0.93      3226\n",
            "\n"
          ]
        }
      ],
      "source": [
        "print(classification_report(y_test, preds))"
      ]
    },
    {
      "cell_type": "code",
      "execution_count": null,
      "metadata": {
        "colab": {
          "base_uri": "https://localhost:8080/"
        },
        "id": "mObRx2nFyVgP",
        "outputId": "6483a512-6058-4ba3-c3cf-ef14c6c803fc"
      },
      "outputs": [
        {
          "data": {
            "text/plain": [
              "0.9252944823310602"
            ]
          },
          "execution_count": 51,
          "metadata": {},
          "output_type": "execute_result"
        }
      ],
      "source": [
        "accuracy_score(y_test, preds)"
      ]
    },
    {
      "cell_type": "code",
      "execution_count": null,
      "metadata": {
        "colab": {
          "base_uri": "https://localhost:8080/",
          "height": 296
        },
        "id": "xZGxcTgSCBse",
        "outputId": "55d5b43f-8e24-44cb-bd9b-e6984cc5cac6"
      },
      "outputs": [
        {
          "data": {
            "text/plain": [
              "<sklearn.metrics._plot.confusion_matrix.ConfusionMatrixDisplay at 0x7f4656a488d0>"
            ]
          },
          "execution_count": 52,
          "metadata": {},
          "output_type": "execute_result"
        },
        {
          "data": {
            "image/png": "[encoded data removed]",
            "text/plain": [
              "<Figure size 432x288 with 2 Axes>"
            ]
          },
          "metadata": {
            "needs_background": "light"
          },
          "output_type": "display_data"
        }
      ],
      "source": [
        "matrix = confusion_matrix(y_test, preds)\n",
        "disp = ConfusionMatrixDisplay(matrix)\n",
        "disp.plot()"
      ]
    },
    {
      "cell_type": "code",
      "execution_count": null,
      "metadata": {
        "colab": {
          "base_uri": "https://localhost:8080/"
        },
        "id": "2DRxf4atFcFT",
        "outputId": "8eb997cc-a60c-4308-9687-0399f19c7d7b"
      },
      "outputs": [
        {
          "name": "stdout",
          "output_type": "stream",
          "text": [
            "Predicted :-  Weed\n",
            "Real :-  Weed\n"
          ]
        }
      ],
      "source": [
        "print(\"Predicted :- \",output[preds[10]])\n",
        "print(\"Real :- \",output[y_test[10]])"
      ]
    }
  ],
  "metadata": {
    "colab": {
      "collapsed_sections": [],
      "name": "tp4 datos.ipynb",
      "provenance": []
    },
    "kernelspec": {
      "display_name": "Python 3",
      "name": "python3"
    },
    "language_info": {
      "name": "python"
    }
  },
  "nbformat": 4,
  "nbformat_minor": 0
}
