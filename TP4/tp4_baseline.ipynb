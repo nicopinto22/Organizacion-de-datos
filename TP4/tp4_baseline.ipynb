{
  "nbformat": 4,
  "nbformat_minor": 0,
  "metadata": {
    "colab": {
      "name": "tp4 datos baseline.ipynb",
      "provenance": [],
      "collapsed_sections": []
    },
    "kernelspec": {
      "name": "python3",
      "display_name": "Python 3"
    },
    "language_info": {
      "name": "python"
    }
  },
  "cells": [
    {
      "cell_type": "markdown",
      "metadata": {
        "id": "mV3FpAYD7EQc"
      },
      "source": [
        "#Trabajo Practico 4"
      ]
    },
    {
      "cell_type": "markdown",
      "metadata": {
        "id": "0cCC-qT_7VHi"
      },
      "source": [
        "Pinto, Nicolas \\\\\n",
        "Padron: 105064"
      ]
    },
    {
      "cell_type": "markdown",
      "metadata": {
        "id": "04-6k7rq7HLN"
      },
      "source": [
        "La tarea consiste en construir un clasificador que dada una imagen devuelva la categoría a la que corresponde. ¿Qué tan bien funciona la validación?"
      ]
    },
    {
      "cell_type": "markdown",
      "metadata": {
        "id": "_RVLrldu7v1e"
      },
      "source": [
        "##Imports"
      ]
    },
    {
      "cell_type": "code",
      "metadata": {
        "id": "KWOeu58-6dUC"
      },
      "source": [
        "import pandas as pd\n",
        "import numpy as np\n",
        "import seaborn as sns\n",
        "import matplotlib.pyplot as plt\n",
        "from google.colab import drive\n",
        "from matplotlib import pyplot\n",
        "from PIL import Image\n",
        "from sklearn.metrics import classification_report, accuracy_score, roc_auc_score, ConfusionMatrixDisplay, confusion_matrix\n",
        "import keras\n",
        "from keras.models import Sequential\n",
        "\n",
        "from sklearn.model_selection import train_test_split\n",
        "\n",
        "from sklearn.preprocessing import OneHotEncoder\n",
        "\n",
        "import os\n",
        "import os.path\n",
        "\n",
        "from sklearn.metrics import classification_report, confusion_matrix, accuracy_score"
      ],
      "execution_count": null,
      "outputs": []
    },
    {
      "cell_type": "code",
      "metadata": {
        "colab": {
          "base_uri": "https://localhost:8080/"
        },
        "id": "n5n-PtOXEeJv",
        "outputId": "3f0e1d05-e0b9-4c4d-8f45-aa71f2c4a9f5"
      },
      "source": [
        "drive.mount('/content/gdrive')"
      ],
      "execution_count": null,
      "outputs": [
        {
          "output_type": "stream",
          "name": "stdout",
          "text": [
            "Mounted at /content/gdrive\n"
          ]
        }
      ]
    },
    {
      "cell_type": "markdown",
      "metadata": {
        "id": "ECs7snhm75FL"
      },
      "source": [
        "##Datasets"
      ]
    },
    {
      "cell_type": "code",
      "metadata": {
        "id": "s-MhLmy2CcF-"
      },
      "source": [
        "!unzip gdrive/My\\ Drive/Datasets\\ TP4/silkroad2_images.zip  > /dev/null"
      ],
      "execution_count": null,
      "outputs": []
    },
    {
      "cell_type": "code",
      "metadata": {
        "id": "tyvVtLfkOrH3"
      },
      "source": [
        "silkroad_items = pd.read_csv('gdrive/My Drive/Datasets TP4/silkroad2_csvs.zip (Unzipped Files)/silkroad_items.csv')"
      ],
      "execution_count": null,
      "outputs": []
    },
    {
      "cell_type": "code",
      "metadata": {
        "id": "616DauNGh9vg"
      },
      "source": [
        "image_folder = '/content/images_by_id/'"
      ],
      "execution_count": null,
      "outputs": []
    },
    {
      "cell_type": "markdown",
      "source": [
        "##Preparo el dataset"
      ],
      "metadata": {
        "id": "tvx4DpILmplv"
      }
    },
    {
      "cell_type": "code",
      "source": [
        "dictionary = {}\n",
        "for photo in os.listdir(image_folder):         \n",
        "  image_path= os.path.join(image_folder, photo)         \n",
        "  image= Image.open(image_path) \n",
        "  image = np.asarray(Image.open(image_path), dtype='uint8')\n",
        "  if image.shape == (135, 180, 3):\n",
        "    name = float(photo.replace(\".jpg\", \"\"))\n",
        "    dictionary[name] = image\n",
        "  del(image)"
      ],
      "metadata": {
        "id": "xf5kX5QEWLTi"
      },
      "execution_count": null,
      "outputs": []
    },
    {
      "cell_type": "code",
      "metadata": {
        "id": "y_CkZfCC3zlx"
      },
      "source": [
        "filtered_by_id = silkroad_items.loc[silkroad_items['image_id'].isin(dictionary), :].copy()\n",
        "filtered_images = filtered_by_id[['category','image_id']].copy()\n",
        "del(filtered_by_id)"
      ],
      "execution_count": null,
      "outputs": []
    },
    {
      "cell_type": "markdown",
      "source": [
        "Las fotos de alcohol no corresponden a esa categoria y las de other tambien las saque porque quiero calificar cosas en concreto"
      ],
      "metadata": {
        "id": "wcG5u56HMbWv"
      }
    },
    {
      "cell_type": "code",
      "source": [
        "filtered_images = filtered_images[filtered_images['category'] != \"Alcohol\"].copy()\n",
        "filtered_images = filtered_images[filtered_images['category'] != \"Other\"].copy()"
      ],
      "metadata": {
        "id": "HjjiiddbLJF2"
      },
      "execution_count": null,
      "outputs": []
    },
    {
      "cell_type": "code",
      "source": [
        "categories_frecuency = filtered_images['category'].value_counts()\n",
        "top_frecuency = categories_frecuency.head(6)\n",
        "df_frecuency = pd.DataFrame(top_frecuency)\n",
        "df_frecuency.reset_index(inplace = True)"
      ],
      "metadata": {
        "id": "uJw-FqyiTRpy"
      },
      "execution_count": null,
      "outputs": []
    },
    {
      "cell_type": "code",
      "source": [
        "top_frecuency = df_frecuency['index'].to_list()"
      ],
      "metadata": {
        "id": "m4-hKZTeanXL"
      },
      "execution_count": null,
      "outputs": []
    },
    {
      "cell_type": "code",
      "source": [
        "final_df = filtered_images.loc[(filtered_images['category'].isin(top_frecuency)) ,:].copy()"
      ],
      "metadata": {
        "id": "Y6F3EqsMPktF"
      },
      "execution_count": null,
      "outputs": []
    },
    {
      "cell_type": "code",
      "source": [
        "final_df = final_df.sample(frac = 1, random_state = 2)"
      ],
      "metadata": {
        "id": "fQX4zOTeT18b"
      },
      "execution_count": null,
      "outputs": []
    },
    {
      "cell_type": "markdown",
      "source": [
        "##Divido el dataset"
      ],
      "metadata": {
        "id": "NY07_NSEmrqA"
      }
    },
    {
      "cell_type": "code",
      "source": [
        "train_len = int((final_df.shape[0])*0.95)\n",
        "test_len = int((final_df.shape[0])-train_len)"
      ],
      "metadata": {
        "id": "7Rp33zgeTshP"
      },
      "execution_count": null,
      "outputs": []
    },
    {
      "cell_type": "code",
      "source": [
        "train_set = final_df.head(train_len).copy()\n",
        "test_set = final_df.tail(test_len).copy()"
      ],
      "metadata": {
        "id": "6tHiwgL0Txh_"
      },
      "execution_count": null,
      "outputs": []
    },
    {
      "cell_type": "code",
      "source": [
        "test_set.drop_duplicates(inplace= True)\n",
        "train_set.drop_duplicates(inplace=True)"
      ],
      "metadata": {
        "id": "kfQdSdKcRU_r"
      },
      "execution_count": null,
      "outputs": []
    },
    {
      "cell_type": "code",
      "source": [
        "train_set.shape"
      ],
      "metadata": {
        "colab": {
          "base_uri": "https://localhost:8080/"
        },
        "id": "AhrnJ7nYVK3H",
        "outputId": "fdbf7279-b449-45f5-ab0b-4fe69984795e"
      },
      "execution_count": null,
      "outputs": [
        {
          "output_type": "execute_result",
          "data": {
            "text/plain": [
              "(11322, 2)"
            ]
          },
          "metadata": {},
          "execution_count": 20
        }
      ]
    },
    {
      "cell_type": "code",
      "source": [
        "test_set.shape"
      ],
      "metadata": {
        "colab": {
          "base_uri": "https://localhost:8080/"
        },
        "id": "7DRwjHggVMNh",
        "outputId": "a6a0fd0d-9b17-41d7-e04c-c608e4c261f2"
      },
      "execution_count": null,
      "outputs": [
        {
          "output_type": "execute_result",
          "data": {
            "text/plain": [
              "(3226, 2)"
            ]
          },
          "metadata": {},
          "execution_count": 21
        }
      ]
    },
    {
      "cell_type": "code",
      "source": [
        "del(top_frecuency)"
      ],
      "metadata": {
        "id": "ozxhk-FQOrxS"
      },
      "execution_count": null,
      "outputs": []
    },
    {
      "cell_type": "code",
      "source": [
        "del(silkroad_items)"
      ],
      "metadata": {
        "id": "Ozd7gov1OvKr"
      },
      "execution_count": null,
      "outputs": []
    },
    {
      "cell_type": "markdown",
      "source": [
        "##Encoding"
      ],
      "metadata": {
        "id": "MPuh1HyWm654"
      }
    },
    {
      "cell_type": "code",
      "source": [
        "train_set['image_values'] = train_set['image_id'].map(dictionary)\n",
        "train_set"
      ],
      "metadata": {
        "id": "wW_2Xd-DggB6",
        "colab": {
          "base_uri": "https://localhost:8080/",
          "height": 424
        },
        "outputId": "50b005fe-3b95-4523-ca8b-34651ebbdeb1"
      },
      "execution_count": null,
      "outputs": [
        {
          "output_type": "execute_result",
          "data": {
            "text/html": [
              "\n",
              "  <div id=\"df-37f36e10-87d8-4614-b006-c985aae156c7\">\n",
              "    <div class=\"colab-df-container\">\n",
              "      <div>\n",
              "<style scoped>\n",
              "    .dataframe tbody tr th:only-of-type {\n",
              "        vertical-align: middle;\n",
              "    }\n",
              "\n",
              "    .dataframe tbody tr th {\n",
              "        vertical-align: top;\n",
              "    }\n",
              "\n",
              "    .dataframe thead th {\n",
              "        text-align: right;\n",
              "    }\n",
              "</style>\n",
              "<table border=\"1\" class=\"dataframe\">\n",
              "  <thead>\n",
              "    <tr style=\"text-align: right;\">\n",
              "      <th></th>\n",
              "      <th>category</th>\n",
              "      <th>image_id</th>\n",
              "      <th>image_values</th>\n",
              "    </tr>\n",
              "  </thead>\n",
              "  <tbody>\n",
              "    <tr>\n",
              "      <th>192459</th>\n",
              "      <td>Weed</td>\n",
              "      <td>27160.0</td>\n",
              "      <td>[[[252, 253, 255], [252, 253, 255], [252, 253,...</td>\n",
              "    </tr>\n",
              "    <tr>\n",
              "      <th>375116</th>\n",
              "      <td>Ecstasy</td>\n",
              "      <td>42878.0</td>\n",
              "      <td>[[[123, 139, 112], [110, 126, 100], [99, 113, ...</td>\n",
              "    </tr>\n",
              "    <tr>\n",
              "      <th>332196</th>\n",
              "      <td>MDMA</td>\n",
              "      <td>19473.0</td>\n",
              "      <td>[[[140, 127, 111], [141, 127, 114], [138, 125,...</td>\n",
              "    </tr>\n",
              "    <tr>\n",
              "      <th>391888</th>\n",
              "      <td>Ecstasy</td>\n",
              "      <td>46178.0</td>\n",
              "      <td>[[[201, 199, 210], [201, 199, 210], [200, 200,...</td>\n",
              "    </tr>\n",
              "    <tr>\n",
              "      <th>318530</th>\n",
              "      <td>Weed</td>\n",
              "      <td>23067.0</td>\n",
              "      <td>[[[59, 61, 60], [57, 59, 58], [62, 66, 65], [7...</td>\n",
              "    </tr>\n",
              "    <tr>\n",
              "      <th>...</th>\n",
              "      <td>...</td>\n",
              "      <td>...</td>\n",
              "      <td>...</td>\n",
              "    </tr>\n",
              "    <tr>\n",
              "      <th>234945</th>\n",
              "      <td>Cannabis</td>\n",
              "      <td>48126.0</td>\n",
              "      <td>[[[158, 157, 137], [157, 156, 136], [157, 156,...</td>\n",
              "    </tr>\n",
              "    <tr>\n",
              "      <th>18018</th>\n",
              "      <td>Stimulants</td>\n",
              "      <td>19458.0</td>\n",
              "      <td>[[[0, 0, 0], [0, 0, 0], [0, 0, 0], [0, 0, 0], ...</td>\n",
              "    </tr>\n",
              "    <tr>\n",
              "      <th>374624</th>\n",
              "      <td>Cannabis</td>\n",
              "      <td>52513.0</td>\n",
              "      <td>[[[197, 189, 187], [197, 189, 187], [198, 190,...</td>\n",
              "    </tr>\n",
              "    <tr>\n",
              "      <th>58005</th>\n",
              "      <td>Cannabis</td>\n",
              "      <td>27858.0</td>\n",
              "      <td>[[[51, 39, 27], [51, 39, 27], [51, 39, 27], [5...</td>\n",
              "    </tr>\n",
              "    <tr>\n",
              "      <th>43892</th>\n",
              "      <td>Stimulants</td>\n",
              "      <td>27137.0</td>\n",
              "      <td>[[[165, 138, 108], [166, 139, 109], [168, 141,...</td>\n",
              "    </tr>\n",
              "  </tbody>\n",
              "</table>\n",
              "<p>11322 rows × 3 columns</p>\n",
              "</div>\n",
              "      <button class=\"colab-df-convert\" onclick=\"convertToInteractive('df-37f36e10-87d8-4614-b006-c985aae156c7')\"\n",
              "              title=\"Convert this dataframe to an interactive table.\"\n",
              "              style=\"display:none;\">\n",
              "        \n",
              "  <svg xmlns=\"http://www.w3.org/2000/svg\" height=\"24px\"viewBox=\"0 0 24 24\"\n",
              "       width=\"24px\">\n",
              "    <path d=\"M0 0h24v24H0V0z\" fill=\"none\"/>\n",
              "    <path d=\"M18.56 5.44l.94 2.06.94-2.06 2.06-.94-2.06-.94-.94-2.06-.94 2.06-2.06.94zm-11 1L8.5 8.5l.94-2.06 2.06-.94-2.06-.94L8.5 2.5l-.94 2.06-2.06.94zm10 10l.94 2.06.94-2.06 2.06-.94-2.06-.94-.94-2.06-.94 2.06-2.06.94z\"/><path d=\"M17.41 7.96l-1.37-1.37c-.4-.4-.92-.59-1.43-.59-.52 0-1.04.2-1.43.59L10.3 9.45l-7.72 7.72c-.78.78-.78 2.05 0 2.83L4 21.41c.39.39.9.59 1.41.59.51 0 1.02-.2 1.41-.59l7.78-7.78 2.81-2.81c.8-.78.8-2.07 0-2.86zM5.41 20L4 18.59l7.72-7.72 1.47 1.35L5.41 20z\"/>\n",
              "  </svg>\n",
              "      </button>\n",
              "      \n",
              "  <style>\n",
              "    .colab-df-container {\n",
              "      display:flex;\n",
              "      flex-wrap:wrap;\n",
              "      gap: 12px;\n",
              "    }\n",
              "\n",
              "    .colab-df-convert {\n",
              "      background-color: #E8F0FE;\n",
              "      border: none;\n",
              "      border-radius: 50%;\n",
              "      cursor: pointer;\n",
              "      display: none;\n",
              "      fill: #1967D2;\n",
              "      height: 32px;\n",
              "      padding: 0 0 0 0;\n",
              "      width: 32px;\n",
              "    }\n",
              "\n",
              "    .colab-df-convert:hover {\n",
              "      background-color: #E2EBFA;\n",
              "      box-shadow: 0px 1px 2px rgba(60, 64, 67, 0.3), 0px 1px 3px 1px rgba(60, 64, 67, 0.15);\n",
              "      fill: #174EA6;\n",
              "    }\n",
              "\n",
              "    [theme=dark] .colab-df-convert {\n",
              "      background-color: #3B4455;\n",
              "      fill: #D2E3FC;\n",
              "    }\n",
              "\n",
              "    [theme=dark] .colab-df-convert:hover {\n",
              "      background-color: #434B5C;\n",
              "      box-shadow: 0px 1px 3px 1px rgba(0, 0, 0, 0.15);\n",
              "      filter: drop-shadow(0px 1px 2px rgba(0, 0, 0, 0.3));\n",
              "      fill: #FFFFFF;\n",
              "    }\n",
              "  </style>\n",
              "\n",
              "      <script>\n",
              "        const buttonEl =\n",
              "          document.querySelector('#df-37f36e10-87d8-4614-b006-c985aae156c7 button.colab-df-convert');\n",
              "        buttonEl.style.display =\n",
              "          google.colab.kernel.accessAllowed ? 'block' : 'none';\n",
              "\n",
              "        async function convertToInteractive(key) {\n",
              "          const element = document.querySelector('#df-37f36e10-87d8-4614-b006-c985aae156c7');\n",
              "          const dataTable =\n",
              "            await google.colab.kernel.invokeFunction('convertToInteractive',\n",
              "                                                     [key], {});\n",
              "          if (!dataTable) return;\n",
              "\n",
              "          const docLinkHtml = 'Like what you see? Visit the ' +\n",
              "            '<a target=\"_blank\" href=https://colab.research.google.com/notebooks/data_table.ipynb>data table notebook</a>'\n",
              "            + ' to learn more about interactive tables.';\n",
              "          element.innerHTML = '';\n",
              "          dataTable['output_type'] = 'display_data';\n",
              "          await google.colab.output.renderOutput(dataTable, element);\n",
              "          const docLink = document.createElement('div');\n",
              "          docLink.innerHTML = docLinkHtml;\n",
              "          element.appendChild(docLink);\n",
              "        }\n",
              "      </script>\n",
              "    </div>\n",
              "  </div>\n",
              "  "
            ],
            "text/plain": [
              "          category  image_id                                       image_values\n",
              "192459        Weed   27160.0  [[[252, 253, 255], [252, 253, 255], [252, 253,...\n",
              "375116     Ecstasy   42878.0  [[[123, 139, 112], [110, 126, 100], [99, 113, ...\n",
              "332196        MDMA   19473.0  [[[140, 127, 111], [141, 127, 114], [138, 125,...\n",
              "391888     Ecstasy   46178.0  [[[201, 199, 210], [201, 199, 210], [200, 200,...\n",
              "318530        Weed   23067.0  [[[59, 61, 60], [57, 59, 58], [62, 66, 65], [7...\n",
              "...            ...       ...                                                ...\n",
              "234945    Cannabis   48126.0  [[[158, 157, 137], [157, 156, 136], [157, 156,...\n",
              "18018   Stimulants   19458.0  [[[0, 0, 0], [0, 0, 0], [0, 0, 0], [0, 0, 0], ...\n",
              "374624    Cannabis   52513.0  [[[197, 189, 187], [197, 189, 187], [198, 190,...\n",
              "58005     Cannabis   27858.0  [[[51, 39, 27], [51, 39, 27], [51, 39, 27], [5...\n",
              "43892   Stimulants   27137.0  [[[165, 138, 108], [166, 139, 109], [168, 141,...\n",
              "\n",
              "[11322 rows x 3 columns]"
            ]
          },
          "metadata": {},
          "execution_count": 24
        }
      ]
    },
    {
      "cell_type": "code",
      "source": [
        "test_set['image_values'] = test_set['image_id'].map(dictionary)\n",
        "test_set"
      ],
      "metadata": {
        "colab": {
          "base_uri": "https://localhost:8080/",
          "height": 424
        },
        "id": "Jz8aVQqqWGB_",
        "outputId": "3143ef2f-6fc6-4296-8d51-af7e7ffdd896"
      },
      "execution_count": null,
      "outputs": [
        {
          "output_type": "execute_result",
          "data": {
            "text/html": [
              "\n",
              "  <div id=\"df-d5eef7c2-2ebe-45bf-81b9-7cedbc1737eb\">\n",
              "    <div class=\"colab-df-container\">\n",
              "      <div>\n",
              "<style scoped>\n",
              "    .dataframe tbody tr th:only-of-type {\n",
              "        vertical-align: middle;\n",
              "    }\n",
              "\n",
              "    .dataframe tbody tr th {\n",
              "        vertical-align: top;\n",
              "    }\n",
              "\n",
              "    .dataframe thead th {\n",
              "        text-align: right;\n",
              "    }\n",
              "</style>\n",
              "<table border=\"1\" class=\"dataframe\">\n",
              "  <thead>\n",
              "    <tr style=\"text-align: right;\">\n",
              "      <th></th>\n",
              "      <th>category</th>\n",
              "      <th>image_id</th>\n",
              "      <th>image_values</th>\n",
              "    </tr>\n",
              "  </thead>\n",
              "  <tbody>\n",
              "    <tr>\n",
              "      <th>122128</th>\n",
              "      <td>MDMA</td>\n",
              "      <td>36832.0</td>\n",
              "      <td>[[[242, 203, 164], [245, 206, 167], [247, 207,...</td>\n",
              "    </tr>\n",
              "    <tr>\n",
              "      <th>369375</th>\n",
              "      <td>Cocaine</td>\n",
              "      <td>38596.0</td>\n",
              "      <td>[[[18, 19, 14], [18, 19, 14], [18, 19, 14], [1...</td>\n",
              "    </tr>\n",
              "    <tr>\n",
              "      <th>319739</th>\n",
              "      <td>Stimulants</td>\n",
              "      <td>51169.0</td>\n",
              "      <td>[[[43, 102, 74], [50, 107, 72], [50, 107, 66],...</td>\n",
              "    </tr>\n",
              "    <tr>\n",
              "      <th>233357</th>\n",
              "      <td>Cannabis</td>\n",
              "      <td>45858.0</td>\n",
              "      <td>[[[194, 180, 169], [197, 183, 172], [200, 186,...</td>\n",
              "    </tr>\n",
              "    <tr>\n",
              "      <th>112978</th>\n",
              "      <td>Weed</td>\n",
              "      <td>23647.0</td>\n",
              "      <td>[[[1, 1, 1], [1, 1, 1], [1, 1, 1], [1, 1, 1], ...</td>\n",
              "    </tr>\n",
              "    <tr>\n",
              "      <th>...</th>\n",
              "      <td>...</td>\n",
              "      <td>...</td>\n",
              "      <td>...</td>\n",
              "    </tr>\n",
              "    <tr>\n",
              "      <th>153485</th>\n",
              "      <td>Weed</td>\n",
              "      <td>8504.0</td>\n",
              "      <td>[[[83, 82, 61], [84, 83, 62], [80, 77, 58], [7...</td>\n",
              "    </tr>\n",
              "    <tr>\n",
              "      <th>212103</th>\n",
              "      <td>MDMA</td>\n",
              "      <td>45028.0</td>\n",
              "      <td>[[[184, 189, 227], [186, 192, 228], [186, 192,...</td>\n",
              "    </tr>\n",
              "    <tr>\n",
              "      <th>158453</th>\n",
              "      <td>Weed</td>\n",
              "      <td>19188.0</td>\n",
              "      <td>[[[241, 244, 233], [251, 254, 245], [245, 250,...</td>\n",
              "    </tr>\n",
              "    <tr>\n",
              "      <th>355993</th>\n",
              "      <td>Ecstasy</td>\n",
              "      <td>45041.0</td>\n",
              "      <td>[[[131, 128, 97], [163, 158, 126], [200, 192, ...</td>\n",
              "    </tr>\n",
              "    <tr>\n",
              "      <th>212723</th>\n",
              "      <td>Ecstasy</td>\n",
              "      <td>44705.0</td>\n",
              "      <td>[[[1, 17, 4], [14, 30, 19], [22, 39, 29], [18,...</td>\n",
              "    </tr>\n",
              "  </tbody>\n",
              "</table>\n",
              "<p>3226 rows × 3 columns</p>\n",
              "</div>\n",
              "      <button class=\"colab-df-convert\" onclick=\"convertToInteractive('df-d5eef7c2-2ebe-45bf-81b9-7cedbc1737eb')\"\n",
              "              title=\"Convert this dataframe to an interactive table.\"\n",
              "              style=\"display:none;\">\n",
              "        \n",
              "  <svg xmlns=\"http://www.w3.org/2000/svg\" height=\"24px\"viewBox=\"0 0 24 24\"\n",
              "       width=\"24px\">\n",
              "    <path d=\"M0 0h24v24H0V0z\" fill=\"none\"/>\n",
              "    <path d=\"M18.56 5.44l.94 2.06.94-2.06 2.06-.94-2.06-.94-.94-2.06-.94 2.06-2.06.94zm-11 1L8.5 8.5l.94-2.06 2.06-.94-2.06-.94L8.5 2.5l-.94 2.06-2.06.94zm10 10l.94 2.06.94-2.06 2.06-.94-2.06-.94-.94-2.06-.94 2.06-2.06.94z\"/><path d=\"M17.41 7.96l-1.37-1.37c-.4-.4-.92-.59-1.43-.59-.52 0-1.04.2-1.43.59L10.3 9.45l-7.72 7.72c-.78.78-.78 2.05 0 2.83L4 21.41c.39.39.9.59 1.41.59.51 0 1.02-.2 1.41-.59l7.78-7.78 2.81-2.81c.8-.78.8-2.07 0-2.86zM5.41 20L4 18.59l7.72-7.72 1.47 1.35L5.41 20z\"/>\n",
              "  </svg>\n",
              "      </button>\n",
              "      \n",
              "  <style>\n",
              "    .colab-df-container {\n",
              "      display:flex;\n",
              "      flex-wrap:wrap;\n",
              "      gap: 12px;\n",
              "    }\n",
              "\n",
              "    .colab-df-convert {\n",
              "      background-color: #E8F0FE;\n",
              "      border: none;\n",
              "      border-radius: 50%;\n",
              "      cursor: pointer;\n",
              "      display: none;\n",
              "      fill: #1967D2;\n",
              "      height: 32px;\n",
              "      padding: 0 0 0 0;\n",
              "      width: 32px;\n",
              "    }\n",
              "\n",
              "    .colab-df-convert:hover {\n",
              "      background-color: #E2EBFA;\n",
              "      box-shadow: 0px 1px 2px rgba(60, 64, 67, 0.3), 0px 1px 3px 1px rgba(60, 64, 67, 0.15);\n",
              "      fill: #174EA6;\n",
              "    }\n",
              "\n",
              "    [theme=dark] .colab-df-convert {\n",
              "      background-color: #3B4455;\n",
              "      fill: #D2E3FC;\n",
              "    }\n",
              "\n",
              "    [theme=dark] .colab-df-convert:hover {\n",
              "      background-color: #434B5C;\n",
              "      box-shadow: 0px 1px 3px 1px rgba(0, 0, 0, 0.15);\n",
              "      filter: drop-shadow(0px 1px 2px rgba(0, 0, 0, 0.3));\n",
              "      fill: #FFFFFF;\n",
              "    }\n",
              "  </style>\n",
              "\n",
              "      <script>\n",
              "        const buttonEl =\n",
              "          document.querySelector('#df-d5eef7c2-2ebe-45bf-81b9-7cedbc1737eb button.colab-df-convert');\n",
              "        buttonEl.style.display =\n",
              "          google.colab.kernel.accessAllowed ? 'block' : 'none';\n",
              "\n",
              "        async function convertToInteractive(key) {\n",
              "          const element = document.querySelector('#df-d5eef7c2-2ebe-45bf-81b9-7cedbc1737eb');\n",
              "          const dataTable =\n",
              "            await google.colab.kernel.invokeFunction('convertToInteractive',\n",
              "                                                     [key], {});\n",
              "          if (!dataTable) return;\n",
              "\n",
              "          const docLinkHtml = 'Like what you see? Visit the ' +\n",
              "            '<a target=\"_blank\" href=https://colab.research.google.com/notebooks/data_table.ipynb>data table notebook</a>'\n",
              "            + ' to learn more about interactive tables.';\n",
              "          element.innerHTML = '';\n",
              "          dataTable['output_type'] = 'display_data';\n",
              "          await google.colab.output.renderOutput(dataTable, element);\n",
              "          const docLink = document.createElement('div');\n",
              "          docLink.innerHTML = docLinkHtml;\n",
              "          element.appendChild(docLink);\n",
              "        }\n",
              "      </script>\n",
              "    </div>\n",
              "  </div>\n",
              "  "
            ],
            "text/plain": [
              "          category  image_id                                       image_values\n",
              "122128        MDMA   36832.0  [[[242, 203, 164], [245, 206, 167], [247, 207,...\n",
              "369375     Cocaine   38596.0  [[[18, 19, 14], [18, 19, 14], [18, 19, 14], [1...\n",
              "319739  Stimulants   51169.0  [[[43, 102, 74], [50, 107, 72], [50, 107, 66],...\n",
              "233357    Cannabis   45858.0  [[[194, 180, 169], [197, 183, 172], [200, 186,...\n",
              "112978        Weed   23647.0  [[[1, 1, 1], [1, 1, 1], [1, 1, 1], [1, 1, 1], ...\n",
              "...            ...       ...                                                ...\n",
              "153485        Weed    8504.0  [[[83, 82, 61], [84, 83, 62], [80, 77, 58], [7...\n",
              "212103        MDMA   45028.0  [[[184, 189, 227], [186, 192, 228], [186, 192,...\n",
              "158453        Weed   19188.0  [[[241, 244, 233], [251, 254, 245], [245, 250,...\n",
              "355993     Ecstasy   45041.0  [[[131, 128, 97], [163, 158, 126], [200, 192, ...\n",
              "212723     Ecstasy   44705.0  [[[1, 17, 4], [14, 30, 19], [22, 39, 29], [18,...\n",
              "\n",
              "[3226 rows x 3 columns]"
            ]
          },
          "metadata": {},
          "execution_count": 25
        }
      ]
    },
    {
      "cell_type": "code",
      "source": [
        "del(dictionary)"
      ],
      "metadata": {
        "id": "xWVvfpPyOz6D"
      },
      "execution_count": null,
      "outputs": []
    },
    {
      "cell_type": "code",
      "source": [
        "column_one_hot = []\n",
        "column_one_hot.append('category')"
      ],
      "metadata": {
        "id": "VMeDctI6hGnU"
      },
      "execution_count": null,
      "outputs": []
    },
    {
      "cell_type": "code",
      "source": [
        "onehotencoder = OneHotEncoder()\n",
        "y_train = onehotencoder.fit_transform(train_set['category'].values.reshape(-1,1)).toarray()"
      ],
      "metadata": {
        "id": "KnZ7GXykkZBY"
      },
      "execution_count": null,
      "outputs": []
    },
    {
      "cell_type": "code",
      "source": [
        "y_test = onehotencoder.fit_transform(test_set['category'].values.reshape(-1,1)).toarray()\n",
        "y_test"
      ],
      "metadata": {
        "colab": {
          "base_uri": "https://localhost:8080/"
        },
        "id": "J1vvBFiLW1Pu",
        "outputId": "ce9ff1f8-73dc-4dad-96df-7748252189ef"
      },
      "execution_count": null,
      "outputs": [
        {
          "output_type": "execute_result",
          "data": {
            "text/plain": [
              "array([[0., 0., 0., 1., 0., 0.],\n",
              "       [0., 1., 0., 0., 0., 0.],\n",
              "       [0., 0., 0., 0., 1., 0.],\n",
              "       ...,\n",
              "       [0., 0., 0., 0., 0., 1.],\n",
              "       [0., 0., 1., 0., 0., 0.],\n",
              "       [0., 0., 1., 0., 0., 0.]])"
            ]
          },
          "metadata": {},
          "execution_count": 29
        }
      ]
    },
    {
      "cell_type": "code",
      "source": [
        "x_train = train_set['image_values'].tolist()"
      ],
      "metadata": {
        "id": "oxW_WIuM5wmd"
      },
      "execution_count": null,
      "outputs": []
    },
    {
      "cell_type": "code",
      "source": [
        "x_train = np.array(x_train)"
      ],
      "metadata": {
        "id": "gkMPon5a6I7r"
      },
      "execution_count": null,
      "outputs": []
    },
    {
      "cell_type": "code",
      "source": [
        "x_train.shape"
      ],
      "metadata": {
        "colab": {
          "base_uri": "https://localhost:8080/"
        },
        "id": "jd4L9kVL6eZ9",
        "outputId": "7910584b-c33c-4ff0-c15a-97c2ad2ce964"
      },
      "execution_count": null,
      "outputs": [
        {
          "output_type": "execute_result",
          "data": {
            "text/plain": [
              "(11322, 135, 180, 3)"
            ]
          },
          "metadata": {},
          "execution_count": 32
        }
      ]
    },
    {
      "cell_type": "code",
      "source": [
        "y_train.shape"
      ],
      "metadata": {
        "colab": {
          "base_uri": "https://localhost:8080/"
        },
        "id": "cHO2oWzuhZXa",
        "outputId": "fde39431-750d-4847-feea-c16d91bec718"
      },
      "execution_count": null,
      "outputs": [
        {
          "output_type": "execute_result",
          "data": {
            "text/plain": [
              "(11322, 6)"
            ]
          },
          "metadata": {},
          "execution_count": 33
        }
      ]
    },
    {
      "cell_type": "code",
      "source": [
        "x_test = test_set['image_values'].tolist()\n",
        "x_test = np.array(x_test)\n",
        "x_test.shape"
      ],
      "metadata": {
        "colab": {
          "base_uri": "https://localhost:8080/"
        },
        "id": "2j0CkuIHXNKO",
        "outputId": "7c94b322-69e6-4b7a-85dc-887cf01bede9"
      },
      "execution_count": null,
      "outputs": [
        {
          "output_type": "execute_result",
          "data": {
            "text/plain": [
              "(3226, 135, 180, 3)"
            ]
          },
          "metadata": {},
          "execution_count": 34
        }
      ]
    },
    {
      "cell_type": "code",
      "source": [
        "y_test.shape"
      ],
      "metadata": {
        "colab": {
          "base_uri": "https://localhost:8080/"
        },
        "id": "OvoqChgPXTKE",
        "outputId": "7177f2aa-bddb-4b45-e0d9-323eacf065f4"
      },
      "execution_count": null,
      "outputs": [
        {
          "output_type": "execute_result",
          "data": {
            "text/plain": [
              "(3226, 6)"
            ]
          },
          "metadata": {},
          "execution_count": 35
        }
      ]
    },
    {
      "cell_type": "code",
      "source": [
        "del(final_df)"
      ],
      "metadata": {
        "id": "ICTnwKdsSrK0"
      },
      "execution_count": null,
      "outputs": []
    },
    {
      "cell_type": "markdown",
      "source": [
        "##Baseline"
      ],
      "metadata": {
        "id": "SXoPLEtOm_AV"
      }
    },
    {
      "cell_type": "code",
      "source": [
        "from sklearn.neighbors import KNeighborsClassifier\n",
        "import tensorflow as tf\n",
        "np.random.seed(1)\n",
        "tf.random.set_seed(1)"
      ],
      "metadata": {
        "id": "K5ee_zXynAZn"
      },
      "execution_count": null,
      "outputs": []
    },
    {
      "cell_type": "code",
      "source": [
        "data = x_train.reshape((x_train.shape[0], 72900))\n",
        "x_test_data = x_test.reshape((x_test.shape[0], 72900))"
      ],
      "metadata": {
        "id": "YycDgiNEnUSi"
      },
      "execution_count": null,
      "outputs": []
    },
    {
      "cell_type": "code",
      "source": [
        "model = KNeighborsClassifier()\n",
        "model.fit(data, y_train)"
      ],
      "metadata": {
        "id": "kN3T68konY-9",
        "colab": {
          "base_uri": "https://localhost:8080/"
        },
        "outputId": "ebd32dce-a9d8-4915-9491-2d2bfde58b71"
      },
      "execution_count": null,
      "outputs": [
        {
          "output_type": "execute_result",
          "data": {
            "text/plain": [
              "KNeighborsClassifier()"
            ]
          },
          "metadata": {},
          "execution_count": 39
        }
      ]
    },
    {
      "cell_type": "code",
      "source": [
        "ypred_knn= model.predict(x_test_data)\n",
        "preds_knn = np.argmax(ypred_knn, axis=1)\n",
        "preds_knn"
      ],
      "metadata": {
        "id": "oueUzjn-nZ1S",
        "colab": {
          "base_uri": "https://localhost:8080/"
        },
        "outputId": "75214640-b73b-4431-e16c-1ca866a91d87"
      },
      "execution_count": null,
      "outputs": [
        {
          "output_type": "execute_result",
          "data": {
            "text/plain": [
              "array([3, 1, 4, ..., 5, 2, 4])"
            ]
          },
          "metadata": {},
          "execution_count": 40
        }
      ]
    },
    {
      "cell_type": "code",
      "source": [
        "y_test_arg = np.argmax(y_test, axis=1)\n",
        "y_test_arg"
      ],
      "metadata": {
        "id": "6dNKRCJEnoqC",
        "colab": {
          "base_uri": "https://localhost:8080/"
        },
        "outputId": "550f1db6-1d20-4167-da83-050a897f9b8d"
      },
      "execution_count": null,
      "outputs": [
        {
          "output_type": "execute_result",
          "data": {
            "text/plain": [
              "array([3, 1, 4, ..., 5, 2, 2])"
            ]
          },
          "metadata": {},
          "execution_count": 41
        }
      ]
    },
    {
      "cell_type": "code",
      "source": [
        "accuracy_score(y_test_arg, preds_knn)"
      ],
      "metadata": {
        "id": "AYAhUeaWnsTp",
        "colab": {
          "base_uri": "https://localhost:8080/"
        },
        "outputId": "0a432577-c5eb-4e83-bc95-636faae3b544"
      },
      "execution_count": null,
      "outputs": [
        {
          "output_type": "execute_result",
          "data": {
            "text/plain": [
              "0.8161810291382517"
            ]
          },
          "metadata": {},
          "execution_count": 43
        }
      ]
    },
    {
      "cell_type": "code",
      "source": [
        "matrix = confusion_matrix(y_test_arg, preds_knn)\n",
        "disp = ConfusionMatrixDisplay(matrix)\n",
        "disp.plot()"
      ],
      "metadata": {
        "id": "2cd_Z1tLn3_b",
        "colab": {
          "base_uri": "https://localhost:8080/",
          "height": 296
        },
        "outputId": "7bcb1780-7e17-461a-fb24-fbf29e003859"
      },
      "execution_count": null,
      "outputs": [
        {
          "output_type": "execute_result",
          "data": {
            "text/plain": [
              "<sklearn.metrics._plot.confusion_matrix.ConfusionMatrixDisplay at 0x7fb2d28f5590>"
            ]
          },
          "metadata": {},
          "execution_count": 44
        },
        {
          "output_type": "display_data",
          "data": {
            "image/png": "[encoded data removed]",
            "text/plain": [
              "<Figure size 432x288 with 2 Axes>"
            ]
          },
          "metadata": {
            "needs_background": "light"
          }
        }
      ]
    },
    {
      "cell_type": "code",
      "source": [
        "print(classification_report(y_test_arg, preds_knn))"
      ],
      "metadata": {
        "id": "-fqVPg17oJkk",
        "colab": {
          "base_uri": "https://localhost:8080/"
        },
        "outputId": "9c088aca-7c83-4d0b-9c74-6055c33ee29a"
      },
      "execution_count": null,
      "outputs": [
        {
          "output_type": "stream",
          "name": "stdout",
          "text": [
            "              precision    recall  f1-score   support\n",
            "\n",
            "           0       0.65      0.84      0.73       473\n",
            "           1       0.77      0.81      0.79       372\n",
            "           2       0.93      0.81      0.87       656\n",
            "           3       0.82      0.84      0.83       441\n",
            "           4       0.81      0.85      0.83       659\n",
            "           5       0.94      0.76      0.84       625\n",
            "\n",
            "    accuracy                           0.82      3226\n",
            "   macro avg       0.82      0.82      0.81      3226\n",
            "weighted avg       0.83      0.82      0.82      3226\n",
            "\n"
          ]
        }
      ]
    },
    {
      "cell_type": "code",
      "source": [
        "output = { 0:'Cannabis',1:'Cocaine',2:'Ecstasy',3:'MDMA',4:'Stimulants',5:'Weed'}"
      ],
      "metadata": {
        "id": "rDBE7XG-N-UZ"
      },
      "execution_count": null,
      "outputs": []
    },
    {
      "cell_type": "code",
      "source": [
        "test_set.reset_index(inplace=True)"
      ],
      "metadata": {
        "id": "K43VSKy5RPP7"
      },
      "execution_count": null,
      "outputs": []
    }
  ]
}
