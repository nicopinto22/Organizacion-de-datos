{
  "nbformat": 4,
  "nbformat_minor": 0,
  "metadata": {
    "colab": {
      "name": "tp2 datos",
      "provenance": [],
      "collapsed_sections": []
    },
    "kernelspec": {
      "display_name": "Python 3",
      "name": "python3"
    },
    "language_info": {
      "name": "python"
    }
  },
  "cells": [
    {
      "cell_type": "markdown",
      "metadata": {
        "id": "2DVWsgHq8K6N"
      },
      "source": [
        "#Trabajo Practico 2"
      ]
    },
    {
      "cell_type": "markdown",
      "metadata": {
        "id": "QT7wHN0k8VSp"
      },
      "source": [
        "Ejercicios a realizar: 3 11 17 39 29 5 \\\\\n"
      ]
    },
    {
      "cell_type": "markdown",
      "metadata": {
        "id": "8SFGOiSq8OW3"
      },
      "source": [
        "##Instalaciones"
      ]
    },
    {
      "cell_type": "code",
      "metadata": {
        "colab": {
          "base_uri": "https://localhost:8080/"
        },
        "id": "4yUqKYbV7nlp",
        "outputId": "53731701-83d6-41d7-98c0-69113b4b51fd"
      },
      "source": [
        "!pip install pyspark\n",
        "!pip install -U -q PyDrive\n",
        "!apt update\n",
        "!apt install openjdk-8-jdk-headless -qq\n",
        "#!apt install default-jre\n",
        "#!apt install default-jdk\n",
        "import os\n",
        "os.environ[\"JAVA_HOME\"] = \"/usr/lib/jvm/java-8-openjdk-amd64\""
      ],
      "execution_count": null,
      "outputs": [
        {
          "output_type": "stream",
          "name": "stdout",
          "text": [
            "Requirement already satisfied: pyspark in /usr/local/lib/python3.7/dist-packages (3.2.1)\n",
            "Requirement already satisfied: py4j==0.10.9.3 in /usr/local/lib/python3.7/dist-packages (from pyspark) (0.10.9.3)\n",
            "Ign:1 https://developer.download.nvidia.com/compute/cuda/repos/ubuntu1804/x86_64  InRelease\n",
            "Ign:2 https://developer.download.nvidia.com/compute/machine-learning/repos/ubuntu1804/x86_64  InRelease\n",
            "Hit:3 https://developer.download.nvidia.com/compute/cuda/repos/ubuntu1804/x86_64  Release\n",
            "Hit:4 https://cloud.r-project.org/bin/linux/ubuntu bionic-cran40/ InRelease\n",
            "Hit:5 https://developer.download.nvidia.com/compute/machine-learning/repos/ubuntu1804/x86_64  Release\n",
            "Hit:6 http://ppa.launchpad.net/c2d4u.team/c2d4u4.0+/ubuntu bionic InRelease\n",
            "Hit:7 http://security.ubuntu.com/ubuntu bionic-security InRelease\n",
            "Hit:8 http://archive.ubuntu.com/ubuntu bionic InRelease\n",
            "Hit:10 http://archive.ubuntu.com/ubuntu bionic-updates InRelease\n",
            "Hit:11 http://ppa.launchpad.net/cran/libgit2/ubuntu bionic InRelease\n",
            "Hit:12 http://archive.ubuntu.com/ubuntu bionic-backports InRelease\n",
            "Hit:13 http://ppa.launchpad.net/deadsnakes/ppa/ubuntu bionic InRelease\n",
            "Hit:15 http://ppa.launchpad.net/graphics-drivers/ppa/ubuntu bionic InRelease\n",
            "Reading package lists... Done\n",
            "Building dependency tree       \n",
            "Reading state information... Done\n",
            "69 packages can be upgraded. Run 'apt list --upgradable' to see them.\n",
            "openjdk-8-jdk-headless is already the newest version (8u312-b07-0ubuntu1~18.04).\n",
            "0 upgraded, 0 newly installed, 0 to remove and 69 not upgraded.\n"
          ]
        }
      ]
    },
    {
      "cell_type": "markdown",
      "metadata": {
        "id": "y0SNrrr68Rs5"
      },
      "source": [
        "##Imports"
      ]
    },
    {
      "cell_type": "code",
      "metadata": {
        "id": "eJmsPecw6VAC"
      },
      "source": [
        "from pydrive.auth import GoogleAuth\n",
        "from pydrive.drive import GoogleDrive\n",
        "from google.colab import auth\n",
        "from oauth2client.client import GoogleCredentials\n",
        "from pyspark.sql import *\n",
        "from pyspark.sql.functions import *\n",
        "from pyspark import SparkContext\n",
        "from google.colab import drive \n",
        "from pyspark.sql import SQLContext\n",
        "from nltk import word_tokenize\n",
        "from nltk.util import ngrams\n",
        "from pyspark.ml.feature import NGram\n",
        "import pandas as pd\n",
        "import nltk\n"
      ],
      "execution_count": null,
      "outputs": []
    },
    {
      "cell_type": "code",
      "metadata": {
        "id": "I-dV5zoENRh6",
        "colab": {
          "base_uri": "https://localhost:8080/"
        },
        "outputId": "aab16de1-bdc2-482a-8cfd-2528256b33d7"
      },
      "source": [
        "spark = SparkSession.builder.getOrCreate()\n",
        "sc = spark.sparkContext\n",
        "sqlContext = SQLContext(sc)\n"
      ],
      "execution_count": null,
      "outputs": [
        {
          "output_type": "stream",
          "name": "stderr",
          "text": [
            "/usr/local/lib/python3.7/dist-packages/pyspark/sql/context.py:79: FutureWarning: Deprecated in 3.0.0. Use SparkSession.builder.getOrCreate() instead.\n",
            "  FutureWarning\n"
          ]
        }
      ]
    },
    {
      "cell_type": "markdown",
      "metadata": {
        "id": "P-B7ykcrvK8F"
      },
      "source": [
        "##Descargas"
      ]
    },
    {
      "cell_type": "code",
      "metadata": {
        "colab": {
          "base_uri": "https://localhost:8080/"
        },
        "id": "7IDhUssgvg-M",
        "outputId": "683fe0f8-8d43-4665-fd17-dceb7fcc4648"
      },
      "source": [
        "drive.mount('/content/gdrive')"
      ],
      "execution_count": null,
      "outputs": [
        {
          "output_type": "stream",
          "name": "stdout",
          "text": [
            "Mounted at /content/gdrive\n"
          ]
        }
      ]
    },
    {
      "cell_type": "code",
      "metadata": {
        "id": "nJrM7SDKqr2d"
      },
      "source": [
        "auth.authenticate_user()\n",
        "gauth = GoogleAuth()\n",
        "gauth.credentials = GoogleCredentials.get_application_default()\n",
        "drive = GoogleDrive(gauth)"
      ],
      "execution_count": null,
      "outputs": []
    },
    {
      "cell_type": "markdown",
      "metadata": {
        "id": "KnuklAezvMGO"
      },
      "source": [
        "###Contents"
      ]
    },
    {
      "cell_type": "code",
      "metadata": {
        "id": "4nMr1FbeM6qB"
      },
      "source": [
        "contents = spark.read.format(\"csv\").option(\"header\", True).load('gdrive/My Drive/Wikipedia dataset 2c2021.zip (Unzipped Files)/contents.csv')\n",
        "rdd_contents = contents.rdd"
      ],
      "execution_count": null,
      "outputs": []
    },
    {
      "cell_type": "markdown",
      "metadata": {
        "id": "bSpQ2QIPR9ik"
      },
      "source": [
        "###Contents text sample"
      ]
    },
    {
      "cell_type": "code",
      "metadata": {
        "id": "cP_U4_xkSDyH"
      },
      "source": [
        "contents_text_sample = spark.read.format(\"csv\").option(\"header\", True).load('gdrive/My Drive/Wikipedia dataset 2c2021.zip (Unzipped Files)/contents_text_sample.csv')\n",
        "rdd_contents_text_sample = contents_text_sample.rdd"
      ],
      "execution_count": null,
      "outputs": []
    },
    {
      "cell_type": "markdown",
      "metadata": {
        "id": "PHu9-DzlvPxT"
      },
      "source": [
        "###Geo tags"
      ]
    },
    {
      "cell_type": "code",
      "metadata": {
        "id": "flocNh3yvRf6"
      },
      "source": [
        "geo_tags = spark.read.format(\"csv\").option(\"header\", True).load('gdrive/My Drive/Wikipedia dataset 2c2021.zip (Unzipped Files)/geo_tags.csv')\n",
        "rdd_geo_tags = geo_tags.rdd"
      ],
      "execution_count": null,
      "outputs": []
    },
    {
      "cell_type": "markdown",
      "metadata": {
        "id": "pqYj5GLjvY-i"
      },
      "source": [
        "###Logs"
      ]
    },
    {
      "cell_type": "code",
      "metadata": {
        "id": "LgdzDBsJvaBw"
      },
      "source": [
        "logs = spark.read.format(\"csv\").option(\"header\", True).load('gdrive/My Drive/Wikipedia dataset 2c2021.zip (Unzipped Files)/logs.csv')\n",
        "rdd_logs = logs.rdd"
      ],
      "execution_count": null,
      "outputs": []
    },
    {
      "cell_type": "markdown",
      "metadata": {
        "id": "lsZ2n510yrNd"
      },
      "source": [
        "###Page Links"
      ]
    },
    {
      "cell_type": "code",
      "metadata": {
        "id": "vk-BVAkHsU2Z"
      },
      "source": [
        "id='1kAulGJVgb8qk_hOUbuJUC-SglcpNincq'\n",
        "downloaded = drive.CreateFile({'id': id})\n",
        "downloaded.GetContentFile('contents.csv')\n",
        "contents_pd = pd.read_csv('contents.csv')\n",
        "\n"
      ],
      "execution_count": null,
      "outputs": []
    },
    {
      "cell_type": "code",
      "metadata": {
        "id": "hrrM6N6XqSH3"
      },
      "source": [
        "id='1yCOlwU0KD-VziLLNzUu1FZiR1T3QgJNZ'\n",
        "downloaded = drive.CreateFile({'id': id})\n",
        "downloaded.GetContentFile('pagelinks_sample.csv')\n",
        "pagelinks = pd.read_csv('pagelinks_sample.csv')"
      ],
      "execution_count": null,
      "outputs": []
    },
    {
      "cell_type": "markdown",
      "metadata": {
        "id": "qmK3R_5k_fGO"
      },
      "source": [
        "## 3) Realizar un análisis de stopwords del contenido de texto de la Wikipedia. En este punto esperamos que analicen, dada la frecuencia de los términos que hay en la wikipedia cuales deberian ser considerados stop words. "
      ]
    },
    {
      "cell_type": "markdown",
      "metadata": {
        "id": "ylute4WOANZs"
      },
      "source": [
        "Para resolver este ejercicio filtre los textos y los titulos que no eran vacios y luego los uni y obtuve la probabilidad de aparicion de cada palabra con casos favorables/casos totales. \\\n",
        "Para determinar cuales palabras eran stopword fui probando con distintas probabilidades de aparicion y filtrando y me quede con un filtro que aproximadamente se adapta a las stopwords mas comunes."
      ]
    },
    {
      "cell_type": "code",
      "metadata": {
        "id": "tME1rH_ROi03"
      },
      "source": [
        "textos = rdd_contents_text_sample.filter(lambda x: x.text != None).map(lambda x: x.text)\n",
        "titulos = rdd_contents_text_sample.filter(lambda x: x.title != None).map(lambda x: x.title)\n",
        "union = textos.union(titulos)\n"
      ],
      "execution_count": null,
      "outputs": []
    },
    {
      "cell_type": "code",
      "metadata": {
        "id": "P6qJyq3iqz6v"
      },
      "source": [
        "palabras = union.flatMap(lambda x: x.split())\n",
        "total_palabras = palabras.count()\n"
      ],
      "execution_count": null,
      "outputs": []
    },
    {
      "cell_type": "code",
      "metadata": {
        "id": "6qkTIUcyreq-"
      },
      "source": [
        "frecuencia_palabras = palabras.map(lambda x: (x.lower(), 1)).reduceByKey(lambda x,y: x+y)"
      ],
      "execution_count": null,
      "outputs": []
    },
    {
      "cell_type": "code",
      "metadata": {
        "colab": {
          "base_uri": "https://localhost:8080/"
        },
        "id": "Nx_MtcAHz3Hy",
        "outputId": "9cf5d837-562f-4b71-c700-147b72037206"
      },
      "source": [
        "stopwords = frecuencia_palabras.filter(lambda x: (((x[1])/total_palabras)*100) > 0.09)\n",
        "stopwords.takeOrdered(10, lambda x: x[1])"
      ],
      "execution_count": null,
      "outputs": [
        {
          "output_type": "execute_result",
          "data": {
            "text/plain": [
              "[('ser', 17462),\n",
              " ('durante', 17531),\n",
              " ('parte', 17787),\n",
              " ('son', 17801),\n",
              " ('años', 18003),\n",
              " ('ha', 18563),\n",
              " ('le', 18678),\n",
              " ('esta', 18815),\n",
              " ('and', 19129),\n",
              " ('hasta', 19197)]"
            ]
          },
          "metadata": {},
          "execution_count": 29
        }
      ]
    },
    {
      "cell_type": "markdown",
      "metadata": {
        "id": "t666eRscAefK"
      },
      "source": [
        "## 11) Generar una función genérica que dado un n nos permita obtener un RDD con los n-gramas del contenido de texto de wikipedia y su frecuencia"
      ]
    },
    {
      "cell_type": "code",
      "metadata": {
        "id": "K9koijec1WP9"
      },
      "source": [
        "textos = rdd_contents_text_sample.filter(lambda x: x.text != None).map(lambda x: x.text)\n",
        "titulos = rdd_contents_text_sample.filter(lambda x: x.title != None).map(lambda x: x.title)\n",
        "union = textos.union(titulos)"
      ],
      "execution_count": null,
      "outputs": []
    },
    {
      "cell_type": "markdown",
      "metadata": {
        "id": "4tVk3rzbSJyl"
      },
      "source": [
        "Con word tokenize me tarda 10 min los 2gram \\\n",
        "Con split y el espacio tarda 1min30 asi que use split\n"
      ]
    },
    {
      "cell_type": "code",
      "metadata": {
        "id": "Tqsauz8w2Bvl"
      },
      "source": [
        "def ngramas(cantidad):\n",
        "  palabras_parseadas = union.flatMap(lambda x: ngrams(x.split(), cantidad))\n",
        "  return palabras_parseadas.map(lambda x: (x, 1)).reduceByKey(lambda x,y: x+y)\n"
      ],
      "execution_count": null,
      "outputs": []
    },
    {
      "cell_type": "code",
      "metadata": {
        "colab": {
          "base_uri": "https://localhost:8080/"
        },
        "id": "1UyrI-FyPM-L",
        "outputId": "9acdf319-a07f-43fc-b842-554257c9272b"
      },
      "source": [
        "pip install nltk==3.4"
      ],
      "execution_count": null,
      "outputs": [
        {
          "output_type": "stream",
          "name": "stdout",
          "text": [
            "Requirement already satisfied: nltk==3.4 in /usr/local/lib/python3.7/dist-packages (3.4)\n",
            "Requirement already satisfied: singledispatch in /usr/local/lib/python3.7/dist-packages (from nltk==3.4) (3.7.0)\n",
            "Requirement already satisfied: six in /usr/local/lib/python3.7/dist-packages (from nltk==3.4) (1.15.0)\n"
          ]
        }
      ]
    },
    {
      "cell_type": "code",
      "metadata": {
        "colab": {
          "base_uri": "https://localhost:8080/"
        },
        "id": "ETriCjo72Swh",
        "outputId": "e7afe634-8707-4b23-8903-83b21adfe475"
      },
      "source": [
        "ngramas(3).take(5)"
      ],
      "execution_count": null,
      "outputs": [
        {
          "output_type": "execute_result",
          "data": {
            "text/plain": [
              "[(('D.', 'Anderson]]}}', 'encontró'), 1),\n",
              " (('de', 'niebla]]', '—un'), 1),\n",
              " (('partículas]]', 'donde', 'los'), 1),\n",
              " (('[[positrón|positrones]]', 'que', 'se'), 1),\n",
              " (('que', 'se', 'mueven'), 26)]"
            ]
          },
          "metadata": {},
          "execution_count": 38
        }
      ]
    },
    {
      "cell_type": "markdown",
      "metadata": {
        "id": "kAUww7qi719d"
      },
      "source": [
        "##17) . Para aquel contenido georeferenciado publicado anónimamente indicar por país, cuántas IPs de usuarios corresponden a IPv4 y cuantas a IPv6."
      ]
    },
    {
      "cell_type": "markdown",
      "metadata": {
        "id": "3FzFECZMJ2NJ"
      },
      "source": [
        "Los contenidos georeferenciados son los geo tags que estan en contents, entonces uni usando el id para tener el pais de cada ID y su tipo de IP"
      ]
    },
    {
      "cell_type": "code",
      "metadata": {
        "id": "Hdjjt3YR1og5"
      },
      "source": [
        "geo_tags_id_pais = rdd_geo_tags.filter(lambda x: x.gt_country != None).map(lambda x: (x.gt_page_id, x.gt_country))"
      ],
      "execution_count": null,
      "outputs": []
    },
    {
      "cell_type": "markdown",
      "metadata": {
        "id": "hvU5TU5pS9Nv"
      },
      "source": [
        "Aca filtro los id que son vacios porque se supone que si esta por IP no deberia tener un ID, hay algunos registros que si tienen ID e IP pero me fije y son unos 50 que se leen mal, tienen cualquier cosa en el ID y en el IP"
      ]
    },
    {
      "cell_type": "code",
      "metadata": {
        "id": "cf6_sS7tEqJp"
      },
      "source": [
        "contents_filtrado = rdd_contents.filter(lambda x: x.revisor_ip != None and x.revisor_id == None).map(lambda x: (x.id, x.revisor_ip))\n",
        "contents_id_ip = contents_filtrado.map(lambda x: (x[0], \"IPV6\" if \":\" in x[1] else \"IPV4\"))"
      ],
      "execution_count": null,
      "outputs": []
    },
    {
      "cell_type": "code",
      "metadata": {
        "id": "5FRVnnaJ1vD5"
      },
      "source": [
        "rdd_id_ip_pais = contents_id_ip.join(geo_tags_id_pais).map(lambda x: (x[1], 1))"
      ],
      "execution_count": null,
      "outputs": []
    },
    {
      "cell_type": "code",
      "metadata": {
        "id": "hO_J-NYRK_8k"
      },
      "source": [
        "frecuencia_ip = rdd_id_ip_pais.reduceByKey(lambda x,y: x+y)\n",
        "final = frecuencia_ip.map(lambda x: (x[0][1], (x[0][0], x[1]))).reduceByKey(lambda x,y: (x,y))"
      ],
      "execution_count": null,
      "outputs": []
    },
    {
      "cell_type": "code",
      "metadata": {
        "colab": {
          "base_uri": "https://localhost:8080/"
        },
        "id": "mdKF2R5wWJd2",
        "outputId": "2c7e1ecb-8e42-4343-ac3c-973bfafd8a8f"
      },
      "source": [
        "final.take(5)"
      ],
      "execution_count": null,
      "outputs": [
        {
          "output_type": "execute_result",
          "data": {
            "text/plain": [
              "[('AF', ('IPV4', 1)),\n",
              " ('CZ', ('IPV4', 1)),\n",
              " ('SB', ('IPV4', 1)),\n",
              " ('ES', (('IPV6', 4), ('IPV4', 557))),\n",
              " ('SN', ('IPV4', 1))]"
            ]
          },
          "metadata": {},
          "execution_count": 34
        }
      ]
    },
    {
      "cell_type": "markdown",
      "metadata": {
        "id": "nK5G2sytWh2y"
      },
      "source": [
        "## 29) Para los contenidos visibles en wikipedia, cuales son los artículos que tienen la máxima y mínima distancia entre ids de su revisión actual y la anterior"
      ]
    },
    {
      "cell_type": "markdown",
      "metadata": {
        "id": "mbIxTNt4XuJU"
      },
      "source": [
        "Aca lo mismo, filtro que haya id de la revision anterior, de la actual y que estas y el id sea numerico, por estos registros que se leen y tienen cualquier cosa"
      ]
    },
    {
      "cell_type": "code",
      "metadata": {
        "id": "zgWdpWxQWpFw"
      },
      "source": [
        "contents_con_ids = rdd_contents.filter(lambda x: x.revision_id != None and x.parent_revision != None and x.revision_id.isnumeric() and x.parent_revision.isnumeric() \\\n",
        "                                       and x.id.isnumeric()).cache()"
      ],
      "execution_count": null,
      "outputs": []
    },
    {
      "cell_type": "code",
      "metadata": {
        "colab": {
          "base_uri": "https://localhost:8080/"
        },
        "id": "H0Skx0TH-KXO",
        "outputId": "27ab0290-717b-419b-ae31-c62c463272d3"
      },
      "source": [
        "id_con_distancias = contents_con_ids.map(lambda x: (x.id, int(x.revision_id) - int(x.parent_revision) if int(x.revision_id) > int(x.parent_revision) \\\n",
        "                                                    else int(x.parent_revision) - int(x.revision_id))).cache()\n",
        "id_con_distancias.take(3)"
      ],
      "execution_count": null,
      "outputs": [
        {
          "output_type": "execute_result",
          "data": {
            "text/plain": [
              "[('5', 16676), ('7', 7582), ('10', 141661)]"
            ]
          },
          "metadata": {},
          "execution_count": 40
        }
      ]
    },
    {
      "cell_type": "code",
      "metadata": {
        "id": "IyMZ9gaE7e7r"
      },
      "source": [
        "distancia_minima = (id_con_distancias.takeOrdered(1, key=lambda x: x[1]))[0][1]"
      ],
      "execution_count": null,
      "outputs": []
    },
    {
      "cell_type": "code",
      "metadata": {
        "id": "T7Ebo_Gk7mGF"
      },
      "source": [
        "registros_distancia_minima = id_con_distancias.filter(lambda x: x[1] == distancia_minima)  "
      ],
      "execution_count": null,
      "outputs": []
    },
    {
      "cell_type": "markdown",
      "metadata": {
        "id": "WLZ0uYMZmCu7"
      },
      "source": [
        "Devuelvo un rdd con las distancias minimas, su ID y su titulo"
      ]
    },
    {
      "cell_type": "code",
      "metadata": {
        "colab": {
          "base_uri": "https://localhost:8080/"
        },
        "id": "ptQ2LH0n7uaH",
        "outputId": "d906dfb0-af73-47cf-85d8-3ed07f1b66f0"
      },
      "source": [
        "rdd_distancias_minimas = contents_con_ids.map(lambda x: (x.id, x.title)).join(registros_distancia_minima).map(lambda x: ( x[0],  x[1][0], x[1][1])) \n",
        "rdd_distancias_minimas.take(3)"
      ],
      "execution_count": null,
      "outputs": [
        {
          "output_type": "execute_result",
          "data": {
            "text/plain": [
              "[('299', 'Albaida (Valencia)', 1),\n",
              " ('336', 'Bomba lógica', 1),\n",
              " ('545', 'Cono', 1)]"
            ]
          },
          "metadata": {},
          "execution_count": 43
        }
      ]
    },
    {
      "cell_type": "code",
      "metadata": {
        "id": "T776pj-f24B3"
      },
      "source": [
        "distancia_maxima = id_con_distancias.reduce(lambda x,y: x if x[1]>y[1] else y)[1]  "
      ],
      "execution_count": null,
      "outputs": []
    },
    {
      "cell_type": "code",
      "metadata": {
        "id": "52wNTr9PeW-v"
      },
      "source": [
        "registros_distancia_maxima = id_con_distancias.filter(lambda x: x[1] == distancia_maxima)   "
      ],
      "execution_count": null,
      "outputs": []
    },
    {
      "cell_type": "code",
      "metadata": {
        "colab": {
          "base_uri": "https://localhost:8080/"
        },
        "id": "HtbLYEIJ81gf",
        "outputId": "aaab17fd-b85f-446d-ea8a-95132b1db5cc"
      },
      "source": [
        "rdd_distancias_maximas = contents_con_ids.map(lambda x: (x.id, x.title)).join(registros_distancia_maxima).map(lambda x: ( x[0],  x[1][0], x[1][1]))  \n",
        "rdd_distancias_maximas.take(1)"
      ],
      "execution_count": null,
      "outputs": [
        {
          "output_type": "execute_result",
          "data": {
            "text/plain": [
              "[('30623', 'CEDA', 137146746)]"
            ]
          },
          "metadata": {},
          "execution_count": 46
        }
      ]
    },
    {
      "cell_type": "markdown",
      "metadata": {
        "id": "Fhv2WU4tobVz"
      },
      "source": [
        "##39) . ¿Cuál es la acción más realizada por usuarios que no están registrados?"
      ]
    },
    {
      "cell_type": "code",
      "metadata": {
        "id": "xIrDri0XopfC"
      },
      "source": [
        "acciones_usuarios_no_registrados = rdd_logs.filter(lambda x:  x.contributor_id==None and x.contributor_ip != None and x.action!=None)\n"
      ],
      "execution_count": null,
      "outputs": []
    },
    {
      "cell_type": "code",
      "metadata": {
        "id": "S9ED6r-tkxGB"
      },
      "source": [
        "frecuencia_acciones = acciones_usuarios_no_registrados.map(lambda x: (x.action,1)).reduceByKey(lambda x,y: x+y)"
      ],
      "execution_count": null,
      "outputs": []
    },
    {
      "cell_type": "code",
      "metadata": {
        "colab": {
          "base_uri": "https://localhost:8080/"
        },
        "id": "9uezliOMpLS5",
        "outputId": "591d32c9-0eda-4d2c-fddb-0f12df0d7f33"
      },
      "source": [
        "frecuencia_acciones.reduce(lambda x,y: x if x[1]>y[1] else y)"
      ],
      "execution_count": null,
      "outputs": [
        {
          "output_type": "execute_result",
          "data": {
            "text/plain": [
              "('create', 123293)"
            ]
          },
          "metadata": {},
          "execution_count": 49
        }
      ]
    },
    {
      "cell_type": "markdown",
      "metadata": {
        "id": "mg7ks369JS5g"
      },
      "source": [
        "## 5) Considerando el pagelink_sample.csv representar como un grafo en Spark los contenidos de wikipedia (considerando los contenidos como nodos y los links como aristas) como una lista de adyacencia y mostrar un recorrido en la estructura.\n"
      ]
    },
    {
      "cell_type": "code",
      "metadata": {
        "id": "rT7_bByIri3e"
      },
      "source": [
        "pagelinks_booleano_reducido = pagelinks['pl_title'].isin(contents_pd['title'])\n",
        "df_pagelinks_reducido = pagelinks[pagelinks_booleano_reducido]\n"
      ],
      "execution_count": null,
      "outputs": []
    },
    {
      "cell_type": "code",
      "metadata": {
        "id": "ShXtUeLat6qJ"
      },
      "source": [
        "parquet_pagelinks = df_pagelinks_reducido.to_parquet('pagelinks_reducido.parquet')"
      ],
      "execution_count": null,
      "outputs": []
    },
    {
      "cell_type": "code",
      "metadata": {
        "id": "WMnjpuFYvYOX"
      },
      "source": [
        "pagelinks_reducido = spark.read.format(\"parquet\").option(\"header\", True).load('pagelinks_reducido.parquet')"
      ],
      "execution_count": null,
      "outputs": []
    },
    {
      "cell_type": "code",
      "metadata": {
        "id": "hIH2rhXwv0w0"
      },
      "source": [
        "rdd_pagelinks_reducido = pagelinks_reducido.rdd"
      ],
      "execution_count": null,
      "outputs": []
    },
    {
      "cell_type": "code",
      "metadata": {
        "id": "S4n0XvS_6DnX"
      },
      "source": [
        "del df_pagelinks_reducido\n",
        "del pagelinks\n",
        "del contents_pd"
      ],
      "execution_count": null,
      "outputs": []
    },
    {
      "cell_type": "code",
      "metadata": {
        "id": "fGKYPLWSxBLc"
      },
      "source": [
        "tupla_pagelinks = rdd_pagelinks_reducido.map(lambda x:(x.pl_title, x.pl_from))\n",
        "tupla_contents = rdd_contents.map(lambda x: (x.title, x.id))"
      ],
      "execution_count": null,
      "outputs": []
    },
    {
      "cell_type": "code",
      "metadata": {
        "id": "sKKexJCJYiL_"
      },
      "source": [
        "ids_destino = tupla_pagelinks.join(tupla_contents)"
      ],
      "execution_count": null,
      "outputs": []
    },
    {
      "cell_type": "code",
      "metadata": {
        "id": "ybJTVlW8YoDC"
      },
      "source": [
        "grafo = ids_destino.map(lambda x: (x[1][0], x[1][1])).groupByKey().cache()"
      ],
      "execution_count": null,
      "outputs": []
    },
    {
      "cell_type": "code",
      "metadata": {
        "id": "oYCzp-_NokC_"
      },
      "source": [
        "def camino_random(id, cantidad):\n",
        "  i = 0\n",
        "  rdd_inicial = grafo.filter(lambda x: x[0] == id)\n",
        "  rdd_final = rdd_inicial.map(lambda x: x[0])\n",
        "  vecinos = rdd_inicial.flatMap(lambda x: list(x[1]))\n",
        "  vecino_aleatorio = vecinos.takeSample(False, 1)\n",
        "  while vecino_aleatorio and i<cantidad:\n",
        "    rdd_vecino = grafo.filter(lambda x: x[0] == int(vecino_aleatorio[0]))\n",
        "    rdd_final = rdd_final.union(rdd_vecino.map(lambda x: x[0]))\n",
        "    vecinos = rdd_vecino.flatMap(lambda x: list(x[1]))\n",
        "    vecino_aleatorio = vecinos.takeSample(False, 1)\n",
        "    i+= 1\n",
        "  return rdd_final.collect()\n",
        "    "
      ],
      "execution_count": null,
      "outputs": []
    },
    {
      "cell_type": "code",
      "metadata": {
        "colab": {
          "base_uri": "https://localhost:8080/"
        },
        "id": "qlrpEjhJVmXi",
        "outputId": "0f0d102a-32be-4a46-85da-ec4835264811"
      },
      "source": [
        "camino_random(7965656, 5)"
      ],
      "execution_count": null,
      "outputs": [
        {
          "output_type": "execute_result",
          "data": {
            "text/plain": [
              "[7965656, 3080, 5209, 5722, 61122, 5276016]"
            ]
          },
          "metadata": {},
          "execution_count": 25
        }
      ]
    },
    {
      "cell_type": "code",
      "metadata": {
        "id": "ho5Vr9n_VD7e"
      },
      "source": [
        "graph_list = grafo.map(lambda x: (x[0],list(x[1]))).collect()"
      ],
      "execution_count": null,
      "outputs": []
    },
    {
      "cell_type": "code",
      "source": [
        "for i in range (10):\n",
        "  print (graph_list[i])"
      ],
      "metadata": {
        "colab": {
          "base_uri": "https://localhost:8080/"
        },
        "id": "6HQgYpcml6Jl",
        "outputId": "e703513b-f07d-4708-c073-1f08764bf607"
      },
      "execution_count": null,
      "outputs": [
        {
          "output_type": "stream",
          "name": "stdout",
          "text": [
            "(4557720, ['477552', '138058', '21609', '5179', '460', '1791', '488', '5182', '2780', '10582', '3444', '9420', '257439', '1317281', '21607', '21611'])\n",
            "(5521248, ['477552', '1516165', '410', '5291797', '5340', '5814209'])\n",
            "(9980440, ['477552', '44758', '13587', '1791', '5291797', '387', '12924', '4157', '4061', '5872222', '4046', '21623', '12862', '746977', '1367032', '5695'])\n",
            "(88, ['144193', '1118165', '31571', '1105298', '1181672', '1120342', '1979492', '14186', '6060648', '1118187', '1978650', '1120314', '1978645', '1327611', '4742212', '1705215', '1004359', '1122478', '1218136', '1122479', '5631650', '2070418', '74', '1358456', '1343850', '1120267', '1978405', '1118174', '3834', '1118157', '1118216', '1639171', '1120324', '1118219', '45199', '1122480', '6349418', '1118199', '946190', '1978436', '1978574', '967', '2296263', '3832191', '1120393', '1978331', '1120277', '6261674', '6353825', '126781', '1118182', '447', '1120335', '971081', '4585901', '1118179', '1118208', '1120285', '180977', '180247', '43312', '1120382', '1978489', '1120291', '1099216', '34575', '1677538', '1118171', '8663', '7380795', '1120276', '1120336', '1978511', '1120340', '1980817', '773147', '74330', '2336287', '1613834', '8639082', '1118181', '1978595', '1194', '320929', '1120326', '1120401', '207919', '89219', '971762', '1978505', '1055699', '1120350', '1037263', '1978525', '6349417', '185414', '1980421', '883780', '2336286', '1354845', '17161', '62664', '1359876', '2204', '1978537', '1238558', '1120358', '1033899', '225980', '1120279', '1118191', '1120372', '1120339', '1978362', '1978509', '211168', '77902', '6346178', '1012', '1074553', '997144', '1118160', '1978651', '461539', '1345205', '1118161', '1120286'])\n",
            "(9128752, ['144193', '7082561', '910058', '7082554', '7703454', '3252', '271447', '7731434', '322019', '102842', '868154', '5291797', '869354', '948222', '9147521', '7699837', '153605', '235', '868199', '540388', '7080437', '15632', '1984838', '6966804', '755569', '229100', '3185893', '222166', '7230102', '7702883', '910074', '9250158', '869594', '2980846', '7071042'])\n",
            "(1843056, ['144193', '16896', '5291797', '931594', '235', '840881', '1811925', '931590', '8636010', '211168', '34715'])\n",
            "(2052616, ['144193', '8786798', '5443825', '15875', '16411', '5291797', '11170', '2348218', '6037446', '33229', '7803', '235', '7421282', '2400685', '773147', '1194', '8636010', '6037514', '2935', '4474409', '8492', '6037476', '211168', '2052621'])\n",
            "(5636464, ['5683', '143528', '5291797', '2400685'])\n",
            "(869664, ['2537617', '2455', '4471', '500502', '758', '1895353', '5291797', '1435620', '387', '280429', '2360508', '90212'])\n",
            "(3547904, ['2537617', '5291797', '1173', '827711', '7518798', '2755595'])\n"
          ]
        }
      ]
    }
  ]
}