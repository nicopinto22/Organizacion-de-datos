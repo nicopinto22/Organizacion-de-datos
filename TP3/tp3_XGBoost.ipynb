{
  "nbformat": 4,
  "nbformat_minor": 0,
  "metadata": {
    "colab": {
      "name": "tp3 datos parte 3 2.ipynb",
      "provenance": [],
      "collapsed_sections": [
        "mzQLh7_s6Gvt",
        "ZrS_m1_T6MxP",
        "B_12z1Qy6Q-M",
        "y9NXKQkx6YCj",
        "l3-tJooihjQ0",
        "SjJi4geLhkaB",
        "Z5V9Bxh66yG8",
        "IslTQp3j62Ai",
        "TIipXzG5og5L"
      ]
    },
    "kernelspec": {
      "name": "python3",
      "display_name": "Python 3"
    },
    "language_info": {
      "name": "python"
    }
  },
  "cells": [
    {
      "cell_type": "markdown",
      "metadata": {
        "id": "Ql54MPdsfPzg"
      },
      "source": [
        "#Trabajo practico 3 Parte 3 XGBoost\n",
        "Pinto, Nicolas \\"
      ]
    },
    {
      "cell_type": "markdown",
      "metadata": {
        "id": "p8yA43LkhWYh"
      },
      "source": [
        "##Imports"
      ]
    },
    {
      "cell_type": "code",
      "metadata": {
        "id": "XmYfgOK3JDAJ"
      },
      "source": [
        "import pandas as pd\n",
        "import numpy as np\n",
        "\n",
        "from pydrive.auth import GoogleAuth\n",
        "from pydrive.drive import GoogleDrive\n",
        "from google.colab import auth\n",
        "from oauth2client.client import GoogleCredentials\n",
        "\n",
        "from sklearn.metrics import classification_report\n",
        "from sklearn.model_selection import KFold, StratifiedKFold\n",
        "from sklearn.metrics import roc_auc_score\n",
        "\n",
        "\n",
        "from sklearn.model_selection import RandomizedSearchCV\n",
        "from sklearn.metrics import classification_report, accuracy_score, roc_auc_score, ConfusionMatrixDisplay, confusion_matrix\n",
        "\n",
        "from sklearn.feature_extraction.text import CountVectorizer\n",
        "import matplotlib.pyplot as plt\n",
        "import seaborn as sns\n",
        "\n",
        "import xgboost as xgb"
      ],
      "execution_count": null,
      "outputs": []
    },
    {
      "cell_type": "markdown",
      "metadata": {
        "id": "Om-RL_P3hYRe"
      },
      "source": [
        "##Datasets"
      ]
    },
    {
      "cell_type": "code",
      "metadata": {
        "id": "7ENyH25-JDAK"
      },
      "source": [
        "auth.authenticate_user()\n",
        "gauth = GoogleAuth()\n",
        "gauth.credentials = GoogleCredentials.get_application_default()\n",
        "drive = GoogleDrive(gauth)"
      ],
      "execution_count": null,
      "outputs": []
    },
    {
      "cell_type": "code",
      "metadata": {
        "id": "UqYjI9GDJDAL"
      },
      "source": [
        "id= '1vAH4o97zYZ2RT8Mbgz3Be4AN2xxbA_4W'\n",
        "downloaded = drive.CreateFile({'id': id})\n",
        "downloaded.GetContentFile('train_transaction.csv')\n",
        "train_transaction = pd.read_csv('train_transaction.csv')"
      ],
      "execution_count": null,
      "outputs": []
    },
    {
      "cell_type": "code",
      "metadata": {
        "id": "5xbzO5J9JDAL"
      },
      "source": [
        "id= '1YGDFxRvxm1wMVaL3E5GpgP2KQqun8OFj'\n",
        "downloaded = drive.CreateFile({'id': id})\n",
        "downloaded.GetContentFile('train_identity.csv')\n",
        "train_identity = pd.read_csv('train_identity.csv')"
      ],
      "execution_count": null,
      "outputs": []
    },
    {
      "cell_type": "code",
      "metadata": {
        "id": "t7LHffM0JDAL"
      },
      "source": [
        "joineado = pd.merge(left=train_transaction, right=train_identity, left_on='TransactionID', right_on='TransactionID', how = 'left')\n",
        "del(train_transaction)\n",
        "del(train_identity)"
      ],
      "execution_count": null,
      "outputs": []
    },
    {
      "cell_type": "code",
      "metadata": {
        "id": "F-Y5cwSQJDAL"
      },
      "source": [
        "largo_train = int((joineado.shape[0])*0.8)\n",
        "largo_validation = (joineado.shape[0]) - largo_train\n"
      ],
      "execution_count": null,
      "outputs": []
    },
    {
      "cell_type": "code",
      "metadata": {
        "id": "myRAduptJDAM"
      },
      "source": [
        "features_importantes = ['isFraud','V101','id_27','V232','V40','V79','V233','V18','V81','V52','M4','M2','V17','V103','V281','V33','V231','V80','V16','V15',\n",
        " 'V34','V74','V39','V58','V51','V94','V93','V95','V85','DeviceType','C3','V73','V22','V43','V21','V27','V57','V28','V177','V92','V72','V60','V32','V31','V167',\n",
        " 'V89','V84','V64','V59','V42','V63','V71','V219','id_15','id_37','card6','id_04', 'TransactionAmt','TransactionDT', 'C1', 'C2','C4','C5','C6','C7','C8','C9','C10','C11','C12','C13',\n",
        " 'C14','card1','card2','card3','card4','card5','addr1','addr2','P_emaildomain','R_emaildomain','dist1','dist2', 'DeviceInfo', 'id_31', 'id_33', 'id_12', 'id_16',\n",
        " 'id_01', 'id_02', 'id_30', 'id_32', 'id_34','id_35','id_36','id_38', 'id_06','id_13','id_14','M3','M5','M6','M7','M8','M9', 'M1', 'id_28','id_29','id_11'] "
      ],
      "execution_count": null,
      "outputs": []
    },
    {
      "cell_type": "code",
      "metadata": {
        "id": "DbKwfI43JDAM"
      },
      "source": [
        "joineado_reducido = joineado.loc[:, features_importantes].copy()"
      ],
      "execution_count": null,
      "outputs": []
    },
    {
      "cell_type": "code",
      "metadata": {
        "id": "FyEoABysJDAM"
      },
      "source": [
        "train_set = joineado_reducido.iloc[:int((joineado.shape[0])*0.8)].copy()"
      ],
      "execution_count": null,
      "outputs": []
    },
    {
      "cell_type": "code",
      "metadata": {
        "id": "5aoY8qd8JDAN"
      },
      "source": [
        "validation_set = joineado_reducido.iloc[largo_train:].copy()"
      ],
      "execution_count": null,
      "outputs": []
    },
    {
      "cell_type": "code",
      "metadata": {
        "id": "IOhMWkNHJDAN"
      },
      "source": [
        "del(joineado)\n",
        "del(joineado_reducido)"
      ],
      "execution_count": null,
      "outputs": []
    },
    {
      "cell_type": "markdown",
      "metadata": {
        "id": "cLmkqcWGhbFK"
      },
      "source": [
        "##Encoding"
      ]
    },
    {
      "cell_type": "markdown",
      "metadata": {
        "id": "mzQLh7_s6Gvt"
      },
      "source": [
        "###Funciones auxiliares"
      ]
    },
    {
      "cell_type": "code",
      "metadata": {
        "id": "S7-yJR8sJDAN"
      },
      "source": [
        "def llenar_nan_con_promedio(df, columna, promedios_numerica):\n",
        "  promedio = df[columna].mean()\n",
        "  promedios_numerica[columna] = promedio\n",
        "  df[columna].fillna(promedio, inplace = True)"
      ],
      "execution_count": null,
      "outputs": []
    },
    {
      "cell_type": "code",
      "metadata": {
        "id": "y6tCB0J_JDAO"
      },
      "source": [
        "def aplicar_mean_encoding(df, columna, promedios_por_columna):\n",
        "    df[columna].fillna('Desconocido', inplace = True)\n",
        "    dicc = df[columna].value_counts().to_dict()\n",
        "    df['aux'] = df[columna].map(dicc)\n",
        "    df.loc[df['aux']<500, columna]='Otro'\n",
        "    mean_encoded = df.groupby([columna])['isFraud'].mean().to_dict()\n",
        "    df[columna] = df[columna].map(mean_encoded)\n",
        "    train_set.drop(['aux'], axis=1, inplace = True)\n",
        "    promedios_por_columna[columna] = mean_encoded"
      ],
      "execution_count": null,
      "outputs": []
    },
    {
      "cell_type": "code",
      "metadata": {
        "id": "I1YrOQvTJDAO"
      },
      "source": [
        "def aplicar_one_hot_encoding(df, columnas):\n",
        "    return pd.get_dummies(df, dummy_na=True, drop_first=True, columns=columnas)   "
      ],
      "execution_count": null,
      "outputs": []
    },
    {
      "cell_type": "markdown",
      "metadata": {
        "id": "ZrS_m1_T6MxP"
      },
      "source": [
        "###Encoding train set"
      ]
    },
    {
      "cell_type": "code",
      "metadata": {
        "id": "0k1OlZfwvd7-"
      },
      "source": [
        "vectorizer = CountVectorizer(lowercase = True, max_features = 20)\n",
        "train_set['id_31'].fillna('Desconocido', inplace = True)\n",
        "matrix = vectorizer.fit_transform(train_set['id_31'])\n",
        "df = pd.DataFrame(matrix.toarray(), columns=vectorizer.get_feature_names_out())\n",
        "for columna in df:\n",
        "  train_set[columna] = df[columna]\n",
        "del(df)"
      ],
      "execution_count": null,
      "outputs": []
    },
    {
      "cell_type": "code",
      "metadata": {
        "id": "hsycxcdXJDAP"
      },
      "source": [
        "promedios_por_columna = {}\n",
        "for columna in train_set:\n",
        "  if(train_set[columna].dtype==object):\n",
        "    if(len(train_set[columna].value_counts()) > 5):\n",
        "       aplicar_mean_encoding(train_set, columna, promedios_por_columna)"
      ],
      "execution_count": null,
      "outputs": []
    },
    {
      "cell_type": "code",
      "metadata": {
        "id": "mfF-D6e6JDAP"
      },
      "source": [
        "columnas_one_hot = []\n",
        "for columna in train_set:\n",
        "  if(train_set[columna].dtype==object):\n",
        "    columnas_one_hot.append(columna)\n",
        "train_set = aplicar_one_hot_encoding(train_set, columnas_one_hot)"
      ],
      "execution_count": null,
      "outputs": []
    },
    {
      "cell_type": "code",
      "metadata": {
        "id": "d6X_fShJJDAP"
      },
      "source": [
        "promedios_numerica = {}\n",
        "llenar_nan_con_promedio(train_set, 'card1', promedios_numerica)\n",
        "for columna in train_set:\n",
        "  if(train_set[columna].dtype == float):\n",
        "    llenar_nan_con_promedio(train_set, columna, promedios_numerica)"
      ],
      "execution_count": null,
      "outputs": []
    },
    {
      "cell_type": "code",
      "metadata": {
        "id": "ZM2ttYr-6Tfc"
      },
      "source": [
        "train_set['TransactionDT']= train_set['TransactionDT'] % 86400"
      ],
      "execution_count": null,
      "outputs": []
    },
    {
      "cell_type": "markdown",
      "metadata": {
        "id": "B_12z1Qy6Q-M"
      },
      "source": [
        "###Encoding validation set"
      ]
    },
    {
      "cell_type": "code",
      "metadata": {
        "id": "OsELbcQxvudG"
      },
      "source": [
        "validation_set['id_31'].fillna('Desconocido', inplace = True)\n",
        "matrix = vectorizer.transform(validation_set['id_31'])\n",
        "df = pd.DataFrame(matrix.toarray(), columns=vectorizer.get_feature_names_out())\n",
        "validation_set.reset_index(inplace = True, drop = True)\n",
        "for columna in df:\n",
        "  validation_set[columna] = df[columna]\n",
        "del(df)"
      ],
      "execution_count": null,
      "outputs": []
    },
    {
      "cell_type": "code",
      "metadata": {
        "id": "dSVqe9hfJDAQ"
      },
      "source": [
        "for columna in promedios_por_columna:\n",
        "   promedios_numerica[columna] = promedios_por_columna[columna]['Desconocido']\n",
        "   validation_set[columna] = validation_set[columna].map(promedios_por_columna)"
      ],
      "execution_count": null,
      "outputs": []
    },
    {
      "cell_type": "code",
      "metadata": {
        "id": "-YTZxkx6JDAQ"
      },
      "source": [
        "for columna in promedios_numerica:\n",
        "  validation_set[columna].fillna(promedios_numerica[columna], inplace = True)"
      ],
      "execution_count": null,
      "outputs": []
    },
    {
      "cell_type": "code",
      "metadata": {
        "id": "R1J3yBtsJDAQ"
      },
      "source": [
        "validation_set = aplicar_one_hot_encoding(validation_set, columnas_one_hot)"
      ],
      "execution_count": null,
      "outputs": []
    },
    {
      "cell_type": "code",
      "metadata": {
        "id": "UKh3t76oJDAR"
      },
      "source": [
        "validation_set['TransactionDT']= validation_set['TransactionDT'] % 86400"
      ],
      "execution_count": null,
      "outputs": []
    },
    {
      "cell_type": "markdown",
      "metadata": {
        "id": "y9NXKQkx6YCj"
      },
      "source": [
        "##Divido los datasets"
      ]
    },
    {
      "cell_type": "code",
      "metadata": {
        "id": "ZvbpHQ2rJDAR"
      },
      "source": [
        "y_train = train_set['isFraud'].copy()\n",
        "train_set.drop(columns=['isFraud'],inplace=True)\n",
        "x_train = train_set"
      ],
      "execution_count": null,
      "outputs": []
    },
    {
      "cell_type": "code",
      "metadata": {
        "id": "Esg30bTuJDAR"
      },
      "source": [
        "y_validation = validation_set['isFraud'].copy()\n",
        "validation_set.drop(columns=['isFraud'],inplace=True)\n",
        "x_validation = validation_set"
      ],
      "execution_count": null,
      "outputs": []
    },
    {
      "cell_type": "code",
      "metadata": {
        "id": "sVktdpIcJDAS"
      },
      "source": [
        "for columna in train_set:\n",
        "  if columna not in validation_set:\n",
        "    validation_set[columna] = 0"
      ],
      "execution_count": null,
      "outputs": []
    },
    {
      "cell_type": "code",
      "metadata": {
        "id": "9TgdBjbqJDAS"
      },
      "source": [
        "x_validation = x_validation.reindex(columns=x_train.columns)"
      ],
      "execution_count": null,
      "outputs": []
    },
    {
      "cell_type": "markdown",
      "metadata": {
        "id": "pBBMvuJEX0DO"
      },
      "source": [
        "##Xgboost"
      ]
    },
    {
      "cell_type": "markdown",
      "metadata": {
        "id": "T7oJ5ILa6bV3"
      },
      "source": [
        "###Training"
      ]
    },
    {
      "cell_type": "code",
      "metadata": {
        "id": "y0_DjQgYzUT8"
      },
      "source": [
        "xgbs = xgb.XGBClassifier(random_state=1)\n",
        "param_dist = {'objective': ['reg:squarederror', 'binary:logistic'],\n",
        "              'booster': ['gbtree'],\n",
        "              'n_estimators': [100,200,300],\n",
        "              'learning_rate': [0.3, 0.2,0.4],\n",
        "              'max_depth': [6,7,8],\n",
        "              'min_child_weight': [1, 2, 3],\n",
        "              'colsample_bytree': [0.8, 0.9, 1]}\n",
        "\n",
        "\n",
        "xgboost = RandomizedSearchCV(xgbs, param_distributions = param_dist, cv = 3, n_iter = 5, scoring = 'roc_auc', verbose = 100, n_jobs = 1, random_state=1)"
      ],
      "execution_count": null,
      "outputs": []
    },
    {
      "cell_type": "code",
      "metadata": {
        "colab": {
          "base_uri": "https://localhost:8080/"
        },
        "id": "udyZeZAcizma",
        "outputId": "675f6311-43e1-4148-8ce8-0247d825e613"
      },
      "source": [
        "xgboost.fit(x_train.values, y_train.values)"
      ],
      "execution_count": null,
      "outputs": [
        {
          "output_type": "stream",
          "name": "stdout",
          "text": [
            "Fitting 3 folds for each of 5 candidates, totalling 15 fits\n",
            "[CV 1/3; 1/5] START booster=gbtree, colsample_bytree=0.8, learning_rate=0.4, max_depth=8, min_child_weight=1, n_estimators=200, objective=binary:logistic\n",
            "[CV 1/3; 1/5] END booster=gbtree, colsample_bytree=0.8, learning_rate=0.4, max_depth=8, min_child_weight=1, n_estimators=200, objective=binary:logistic;, score=0.873 total time= 7.7min\n",
            "[CV 2/3; 1/5] START booster=gbtree, colsample_bytree=0.8, learning_rate=0.4, max_depth=8, min_child_weight=1, n_estimators=200, objective=binary:logistic\n",
            "[CV 2/3; 1/5] END booster=gbtree, colsample_bytree=0.8, learning_rate=0.4, max_depth=8, min_child_weight=1, n_estimators=200, objective=binary:logistic;, score=0.893 total time= 7.7min\n",
            "[CV 3/3; 1/5] START booster=gbtree, colsample_bytree=0.8, learning_rate=0.4, max_depth=8, min_child_weight=1, n_estimators=200, objective=binary:logistic\n",
            "[CV 3/3; 1/5] END booster=gbtree, colsample_bytree=0.8, learning_rate=0.4, max_depth=8, min_child_weight=1, n_estimators=200, objective=binary:logistic;, score=0.857 total time= 7.7min\n",
            "[CV 1/3; 2/5] START booster=gbtree, colsample_bytree=0.8, learning_rate=0.4, max_depth=7, min_child_weight=3, n_estimators=100, objective=binary:logistic\n",
            "[CV 1/3; 2/5] END booster=gbtree, colsample_bytree=0.8, learning_rate=0.4, max_depth=7, min_child_weight=3, n_estimators=100, objective=binary:logistic;, score=0.887 total time= 3.4min\n",
            "[CV 2/3; 2/5] START booster=gbtree, colsample_bytree=0.8, learning_rate=0.4, max_depth=7, min_child_weight=3, n_estimators=100, objective=binary:logistic\n",
            "[CV 2/3; 2/5] END booster=gbtree, colsample_bytree=0.8, learning_rate=0.4, max_depth=7, min_child_weight=3, n_estimators=100, objective=binary:logistic;, score=0.896 total time= 3.4min\n",
            "[CV 3/3; 2/5] START booster=gbtree, colsample_bytree=0.8, learning_rate=0.4, max_depth=7, min_child_weight=3, n_estimators=100, objective=binary:logistic\n",
            "[CV 3/3; 2/5] END booster=gbtree, colsample_bytree=0.8, learning_rate=0.4, max_depth=7, min_child_weight=3, n_estimators=100, objective=binary:logistic;, score=0.881 total time= 3.4min\n",
            "[CV 1/3; 3/5] START booster=gbtree, colsample_bytree=0.9, learning_rate=0.3, max_depth=6, min_child_weight=1, n_estimators=200, objective=reg:squarederror\n",
            "[CV 1/3; 3/5] END booster=gbtree, colsample_bytree=0.9, learning_rate=0.3, max_depth=6, min_child_weight=1, n_estimators=200, objective=reg:squarederror;, score=0.867 total time= 6.4min\n",
            "[CV 2/3; 3/5] START booster=gbtree, colsample_bytree=0.9, learning_rate=0.3, max_depth=6, min_child_weight=1, n_estimators=200, objective=reg:squarederror\n",
            "[CV 2/3; 3/5] END booster=gbtree, colsample_bytree=0.9, learning_rate=0.3, max_depth=6, min_child_weight=1, n_estimators=200, objective=reg:squarederror;, score=0.880 total time= 6.5min\n",
            "[CV 3/3; 3/5] START booster=gbtree, colsample_bytree=0.9, learning_rate=0.3, max_depth=6, min_child_weight=1, n_estimators=200, objective=reg:squarederror\n",
            "[CV 3/3; 3/5] END booster=gbtree, colsample_bytree=0.9, learning_rate=0.3, max_depth=6, min_child_weight=1, n_estimators=200, objective=reg:squarederror;, score=0.862 total time= 6.5min\n",
            "[CV 1/3; 4/5] START booster=gbtree, colsample_bytree=1, learning_rate=0.2, max_depth=7, min_child_weight=2, n_estimators=300, objective=binary:logistic\n",
            "[CV 1/3; 4/5] END booster=gbtree, colsample_bytree=1, learning_rate=0.2, max_depth=7, min_child_weight=2, n_estimators=300, objective=binary:logistic;, score=0.882 total time=12.1min\n",
            "[CV 2/3; 4/5] START booster=gbtree, colsample_bytree=1, learning_rate=0.2, max_depth=7, min_child_weight=2, n_estimators=300, objective=binary:logistic\n",
            "[CV 2/3; 4/5] END booster=gbtree, colsample_bytree=1, learning_rate=0.2, max_depth=7, min_child_weight=2, n_estimators=300, objective=binary:logistic;, score=0.908 total time=12.3min\n",
            "[CV 3/3; 4/5] START booster=gbtree, colsample_bytree=1, learning_rate=0.2, max_depth=7, min_child_weight=2, n_estimators=300, objective=binary:logistic\n",
            "[CV 3/3; 4/5] END booster=gbtree, colsample_bytree=1, learning_rate=0.2, max_depth=7, min_child_weight=2, n_estimators=300, objective=binary:logistic;, score=0.878 total time=12.1min\n",
            "[CV 1/3; 5/5] START booster=gbtree, colsample_bytree=0.9, learning_rate=0.3, max_depth=8, min_child_weight=1, n_estimators=200, objective=binary:logistic\n",
            "[CV 1/3; 5/5] END booster=gbtree, colsample_bytree=0.9, learning_rate=0.3, max_depth=8, min_child_weight=1, n_estimators=200, objective=binary:logistic;, score=0.882 total time= 8.7min\n",
            "[CV 2/3; 5/5] START booster=gbtree, colsample_bytree=0.9, learning_rate=0.3, max_depth=8, min_child_weight=1, n_estimators=200, objective=binary:logistic\n",
            "[CV 2/3; 5/5] END booster=gbtree, colsample_bytree=0.9, learning_rate=0.3, max_depth=8, min_child_weight=1, n_estimators=200, objective=binary:logistic;, score=0.901 total time= 8.8min\n",
            "[CV 3/3; 5/5] START booster=gbtree, colsample_bytree=0.9, learning_rate=0.3, max_depth=8, min_child_weight=1, n_estimators=200, objective=binary:logistic\n",
            "[CV 3/3; 5/5] END booster=gbtree, colsample_bytree=0.9, learning_rate=0.3, max_depth=8, min_child_weight=1, n_estimators=200, objective=binary:logistic;, score=0.869 total time= 8.8min\n"
          ]
        },
        {
          "output_type": "execute_result",
          "data": {
            "text/plain": [
              "RandomizedSearchCV(cv=3, estimator=XGBClassifier(random_state=1), n_iter=5,\n",
              "                   n_jobs=1,\n",
              "                   param_distributions={'booster': ['gbtree'],\n",
              "                                        'colsample_bytree': [0.8, 0.9, 1],\n",
              "                                        'learning_rate': [0.3, 0.2, 0.4],\n",
              "                                        'max_depth': [6, 7, 8],\n",
              "                                        'min_child_weight': [1, 2, 3],\n",
              "                                        'n_estimators': [100, 200, 300],\n",
              "                                        'objective': ['reg:squarederror',\n",
              "                                                      'binary:logistic']},\n",
              "                   random_state=1, scoring='roc_auc', verbose=100)"
            ]
          },
          "metadata": {},
          "execution_count": 32
        }
      ]
    },
    {
      "cell_type": "code",
      "metadata": {
        "id": "1hfrwJREcuoB"
      },
      "source": [
        "import pickle\n",
        "with open('model_backup', 'wb') as model_backup_file:\n",
        "  pickle.dump(xgboost, model_backup_file)"
      ],
      "execution_count": null,
      "outputs": []
    },
    {
      "cell_type": "markdown",
      "metadata": {
        "id": "IwveE6cdhman"
      },
      "source": [
        "###Validation"
      ]
    },
    {
      "cell_type": "code",
      "metadata": {
        "colab": {
          "base_uri": "https://localhost:8080/"
        },
        "id": "1htqZN-EjU6C",
        "outputId": "0f458b08-e023-4de9-cacf-dfded33ebd86"
      },
      "source": [
        "roc_auc_score(y_validation.values, xgboost.predict_proba(x_validation.values)[:,1])"
      ],
      "execution_count": null,
      "outputs": [
        {
          "output_type": "execute_result",
          "data": {
            "text/plain": [
              "0.890837473249032"
            ]
          },
          "metadata": {},
          "execution_count": 57
        }
      ]
    },
    {
      "cell_type": "code",
      "metadata": {
        "colab": {
          "base_uri": "https://localhost:8080/"
        },
        "id": "T0pZc6JAjbW1",
        "outputId": "d7da8aad-bd3b-44bc-b0e6-334a7682886d"
      },
      "source": [
        "print(classification_report(y_validation.values, xgboost.predict(x_validation.values)))"
      ],
      "execution_count": null,
      "outputs": [
        {
          "output_type": "stream",
          "name": "stdout",
          "text": [
            "              precision    recall  f1-score   support\n",
            "\n",
            "           0       0.98      1.00      0.99    114044\n",
            "           1       0.80      0.30      0.44      4064\n",
            "\n",
            "    accuracy                           0.97    118108\n",
            "   macro avg       0.89      0.65      0.71    118108\n",
            "weighted avg       0.97      0.97      0.97    118108\n",
            "\n"
          ]
        }
      ]
    },
    {
      "cell_type": "markdown",
      "metadata": {
        "id": "l3-tJooihjQ0"
      },
      "source": [
        "###Test"
      ]
    },
    {
      "cell_type": "markdown",
      "metadata": {
        "id": "SjJi4geLhkaB"
      },
      "source": [
        "####Datasets"
      ]
    },
    {
      "cell_type": "code",
      "metadata": {
        "id": "s_vyY8mPhnvv"
      },
      "source": [
        "id= '16HGAtDL8NdWSnqE-5WThosY2q0QIoeX-'\n",
        "downloaded = drive.CreateFile({'id': id})\n",
        "downloaded.GetContentFile('test_identity.csv')\n",
        "test_identity = pd.read_csv('test_identity.csv')"
      ],
      "execution_count": null,
      "outputs": []
    },
    {
      "cell_type": "code",
      "metadata": {
        "id": "pv63PCw6hqIa"
      },
      "source": [
        "id= '1w-hO21eHxYs8NgW_NhXZpckfGuQEL22j'\n",
        "downloaded = drive.CreateFile({'id': id})\n",
        "downloaded.GetContentFile('test_transaction.csv')\n",
        "test_transaction = pd.read_csv('test_transaction.csv')"
      ],
      "execution_count": null,
      "outputs": []
    },
    {
      "cell_type": "code",
      "metadata": {
        "id": "qGRqvBSlhsPQ"
      },
      "source": [
        "test_set = pd.merge(left=test_transaction, right=test_identity, left_on='TransactionID', right_on='TransactionID', how = 'left')\n",
        "del(test_transaction)\n",
        "del(test_identity)\n",
        "transaction_id = test_set['TransactionID']"
      ],
      "execution_count": null,
      "outputs": []
    },
    {
      "cell_type": "code",
      "metadata": {
        "id": "E1h7cIj7hv0r"
      },
      "source": [
        "for columnas in test_set:\n",
        "  test_set.rename(columns=lambda x: x.replace('id-', 'id_'), inplace = True)"
      ],
      "execution_count": null,
      "outputs": []
    },
    {
      "cell_type": "code",
      "metadata": {
        "id": "Z1xks972hyHb"
      },
      "source": [
        "features_importantes_test = ['V101','id_27','V232','V40','V79','V233','V18','V81','V52','M4','M2','V17','V103','V281','V33','V231','V80','V16','V15',\n",
        " 'V34','V74','V39','V58','V51','V94','V93','V95','V85','DeviceType','C3','V73','V22','V43','V21','V27','V57','V28','V177','V92','V72','V60','V32','V31','V167',\n",
        " 'V89','V84','V64','V59','V42','V63','V71','V219','id_15','id_37','card6','id_04', 'TransactionAmt','TransactionDT', 'C1', 'C2','C4','C5','C6','C7','C8','C9','C10','C11','C12','C13',\n",
        " 'C14','card1','card2','card3','card4','card5','addr1','addr2','P_emaildomain','R_emaildomain','dist1','dist2', 'DeviceInfo', 'id_31', 'id_33', 'id_12', 'id_16',\n",
        " 'id_01', 'id_02', 'id_30', 'id_32', 'id_34','id_35','id_36','id_38', 'id_06','id_13','id_14','M3','M5','M6','M7','M8','M9', 'M1', 'id_28','id_29','id_11'] "
      ],
      "execution_count": null,
      "outputs": []
    },
    {
      "cell_type": "code",
      "metadata": {
        "id": "-tFxe6fHh0M8"
      },
      "source": [
        "test_set = test_set.loc[:, features_importantes_test]"
      ],
      "execution_count": null,
      "outputs": []
    },
    {
      "cell_type": "markdown",
      "metadata": {
        "id": "tM1_Z_9yBbyX"
      },
      "source": [
        "####Encoding"
      ]
    },
    {
      "cell_type": "code",
      "metadata": {
        "id": "HkZ6oeZ7h2KH"
      },
      "source": [
        "test_set['TransactionDT']= test_set['TransactionDT'] % 86400"
      ],
      "execution_count": null,
      "outputs": []
    },
    {
      "cell_type": "code",
      "metadata": {
        "id": "kmLUNnhlh3of"
      },
      "source": [
        "test_set['id_31'].fillna('Desconocido', inplace = True)\n",
        "matrix = vectorizer.transform(test_set['id_31'])\n",
        "df = pd.DataFrame(matrix.toarray(), columns=vectorizer.get_feature_names_out())\n",
        "test_set.reset_index(inplace = True, drop = True)\n",
        "for columna in df:\n",
        "  test_set[columna] = df[columna]\n",
        "del(df)"
      ],
      "execution_count": null,
      "outputs": []
    },
    {
      "cell_type": "code",
      "metadata": {
        "id": "Imb302u7h6Iv"
      },
      "source": [
        "test_set = aplicar_one_hot_encoding(test_set, columnas_one_hot)"
      ],
      "execution_count": null,
      "outputs": []
    },
    {
      "cell_type": "code",
      "metadata": {
        "id": "bW1pwI23h7pf"
      },
      "source": [
        "for columna in promedios_por_columna:\n",
        "   test_set[columna] = test_set[columna].map(promedios_por_columna)"
      ],
      "execution_count": null,
      "outputs": []
    },
    {
      "cell_type": "code",
      "metadata": {
        "id": "j9tpCASPh9MA"
      },
      "source": [
        "for columna in promedios_numerica:\n",
        "  test_set[columna].fillna(promedios_numerica[columna], inplace = True)"
      ],
      "execution_count": null,
      "outputs": []
    },
    {
      "cell_type": "code",
      "metadata": {
        "id": "VAxLlM7Rh_Ja"
      },
      "source": [
        "for columna in train_set:\n",
        "  if columna not in test_set:\n",
        "    test_set[columna] = 0"
      ],
      "execution_count": null,
      "outputs": []
    },
    {
      "cell_type": "code",
      "metadata": {
        "id": "lHVrhc2qiAaq"
      },
      "source": [
        "test_set = test_set.reindex(columns=x_train.columns)"
      ],
      "execution_count": null,
      "outputs": []
    },
    {
      "cell_type": "markdown",
      "metadata": {
        "id": "IslTQp3j62Ai"
      },
      "source": [
        "####Predicciones"
      ]
    },
    {
      "cell_type": "code",
      "metadata": {
        "colab": {
          "base_uri": "https://localhost:8080/"
        },
        "id": "QfaskgfWiCLd",
        "outputId": "57b80860-1ad2-4f90-8c9d-cccd27cee066"
      },
      "source": [
        "xgboost.predict_proba(test_set.values)[:,1]"
      ],
      "execution_count": null,
      "outputs": [
        {
          "output_type": "execute_result",
          "data": {
            "text/plain": [
              "array([0.00027437, 0.00409   , 0.00861356, ..., 0.01295536, 0.01276204,\n",
              "       0.00210381], dtype=float32)"
            ]
          },
          "metadata": {},
          "execution_count": 59
        }
      ]
    },
    {
      "cell_type": "markdown",
      "metadata": {
        "id": "TIipXzG5og5L"
      },
      "source": [
        "##Score de la competencia"
      ]
    },
    {
      "cell_type": "code",
      "metadata": {
        "id": "024OlTSzohs5"
      },
      "source": [
        "predicciones_fraude_xgboost = pd.DataFrame()\n",
        "predicciones_fraude_xgboost['isFraud'] = xgboost.predict_proba(test_set.values)[:,1]\n",
        "predicciones_fraude_xgboost['TransactionID']= transaction_id.values\n",
        "predicciones_fraude_xgboost.to_csv('predicciones_fraude_xgboost.csv', index=False)"
      ],
      "execution_count": null,
      "outputs": []
    },
    {
      "cell_type": "markdown",
      "metadata": {
        "id": "AFrvEDdCol_b"
      },
      "source": [
        "<img src= \"https://drive.google.com/uc?id=1rksJNQBHlljTzsexqfs-jshRSrsBNh1k\" width=\"100%\">\n"
      ]
    }
  ]
}
