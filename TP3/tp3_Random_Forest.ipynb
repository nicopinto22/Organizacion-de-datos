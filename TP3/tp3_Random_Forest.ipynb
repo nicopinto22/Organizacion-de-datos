{
  "nbformat": 4,
  "nbformat_minor": 0,
  "metadata": {
    "colab": {
      "name": "tp3 datos parte 3.ipynb",
      "provenance": [],
      "collapsed_sections": [
        "ZPew0UXjmQCy",
        "qNqigdyymRUT",
        "pZEuetDomTe1",
        "xxhW5rYLna6Y",
        "OEkgROHa5cZz",
        "TIipXzG5og5L",
        "0KMkNv9DPLLm"
      ]
    },
    "kernelspec": {
      "name": "python3",
      "display_name": "Python 3"
    },
    "language_info": {
      "name": "python"
    }
  },
  "cells": [
    {
      "cell_type": "markdown",
      "metadata": {
        "id": "DMaz7SDEmNgD"
      },
      "source": [
        "#Trabajo practico 3 Parte 3 Random Forest\n",
        "Pinto, Nicolas \\"
      ]
    },
    {
      "cell_type": "markdown",
      "metadata": {
        "id": "ZPew0UXjmQCy"
      },
      "source": [
        "##Imports"
      ]
    },
    {
      "cell_type": "code",
      "metadata": {
        "id": "WA_L3q1bYmNb"
      },
      "source": [
        "import pandas as pd\n",
        "import numpy as np\n",
        "\n",
        "from pydrive.auth import GoogleAuth\n",
        "from pydrive.drive import GoogleDrive\n",
        "from google.colab import auth\n",
        "from oauth2client.client import GoogleCredentials\n",
        "\n",
        "from sklearn import tree\n",
        "from sklearn.metrics import confusion_matrix\n",
        "from sklearn.model_selection import train_test_split\n",
        "from sklearn.metrics import classification_report\n",
        "from sklearn.model_selection import KFold, StratifiedKFold\n",
        "from sklearn.metrics import roc_auc_score\n",
        "from sklearn.model_selection import GridSearchCV\n",
        "from sklearn.tree import DecisionTreeClassifier\n",
        "\n",
        "from sklearn.ensemble import RandomForestClassifier\n",
        "from sklearn.model_selection import RandomizedSearchCV\n",
        "from sklearn.metrics import classification_report, accuracy_score, roc_auc_score, ConfusionMatrixDisplay, confusion_matrix\n",
        "from scipy.stats import uniform\n",
        "\n",
        "from sklearn.feature_extraction.text import CountVectorizer\n",
        "import matplotlib.pyplot as plt\n",
        "import seaborn as sns\n",
        "\n",
        "from sklearn.feature_selection import SequentialFeatureSelector"
      ],
      "execution_count": null,
      "outputs": []
    },
    {
      "cell_type": "markdown",
      "metadata": {
        "id": "qNqigdyymRUT"
      },
      "source": [
        "##Datasets"
      ]
    },
    {
      "cell_type": "code",
      "metadata": {
        "id": "6Hl3uAYF_MWo"
      },
      "source": [
        "auth.authenticate_user()\n",
        "gauth = GoogleAuth()\n",
        "gauth.credentials = GoogleCredentials.get_application_default()\n",
        "drive = GoogleDrive(gauth)"
      ],
      "execution_count": null,
      "outputs": []
    },
    {
      "cell_type": "code",
      "metadata": {
        "id": "ZCeLeurZADDQ"
      },
      "source": [
        "id= '1vAH4o97zYZ2RT8Mbgz3Be4AN2xxbA_4W'\n",
        "downloaded = drive.CreateFile({'id': id})\n",
        "downloaded.GetContentFile('train_transaction.csv')\n",
        "train_transaction = pd.read_csv('train_transaction.csv')"
      ],
      "execution_count": null,
      "outputs": []
    },
    {
      "cell_type": "code",
      "metadata": {
        "id": "nQihdIX1AEDs"
      },
      "source": [
        "id= '1YGDFxRvxm1wMVaL3E5GpgP2KQqun8OFj'\n",
        "downloaded = drive.CreateFile({'id': id})\n",
        "downloaded.GetContentFile('train_identity.csv')\n",
        "train_identity = pd.read_csv('train_identity.csv')"
      ],
      "execution_count": null,
      "outputs": []
    },
    {
      "cell_type": "code",
      "metadata": {
        "id": "0HTm_bQLAlfY"
      },
      "source": [
        "joineado = pd.merge(left=train_transaction, right=train_identity, left_on='TransactionID', right_on='TransactionID', how = 'left')\n",
        "del(train_transaction)\n",
        "del(train_identity)"
      ],
      "execution_count": null,
      "outputs": []
    },
    {
      "cell_type": "markdown",
      "metadata": {
        "id": "GeO_7jbQ2R6o"
      },
      "source": [
        "Para dividir el dataset es mejor hacerlo siguiendo un orden para evitar el time traveling, ya que no podemos agarrar datos al azar pues podriamos estar entrenando el modelo con datos que pasaron en el futuro y sacar conclusiones erroneas"
      ]
    },
    {
      "cell_type": "code",
      "metadata": {
        "id": "u1u79O9LBGSc"
      },
      "source": [
        "largo_train = int((joineado.shape[0])*0.8)\n",
        "largo_validation = (joineado.shape[0]) - largo_train\n"
      ],
      "execution_count": null,
      "outputs": []
    },
    {
      "cell_type": "code",
      "metadata": {
        "id": "AL8syaylEReI"
      },
      "source": [
        "features_importantes = ['isFraud','V101','id_27','V232','V40','V79','V233','V18','V81','V52','M4','M2','V17','V103','V281','V33','V231','V80','V16','V15',\n",
        " 'V34','V74','V39','V58','V51','V94','V93','V95','V85','DeviceType','C3','V73','V22','V43','V21','V27','V57','V28','V177','V92','V72','V60','V32','V31', 'V167',\n",
        " 'V89','V84','V64','V59','V42','V63','V71','V219','id_15','id_37','card6','id_04', 'TransactionAmt','TransactionDT', 'C1', 'C2','C4','C5','C6','C7','C8','C9','C10','C11','C12','C13',\n",
        " 'C14','card1','card2','card3','card4','card5','addr1','addr2','P_emaildomain','R_emaildomain','dist1','dist2', 'DeviceInfo', 'id_31', 'id_33', 'id_12', 'id_16',\n",
        " 'id_01', 'id_02', 'id_30', 'id_32', 'id_34','id_35','id_36','id_38', 'id_06','id_13','id_14','M3','M5','M6','M7','M8','M9', 'M1', 'id_28','id_29','id_11'] "
      ],
      "execution_count": null,
      "outputs": []
    },
    {
      "cell_type": "code",
      "metadata": {
        "id": "LdHIJLRFJySL"
      },
      "source": [
        "joineado_reducido = joineado.loc[:, features_importantes].copy()"
      ],
      "execution_count": null,
      "outputs": []
    },
    {
      "cell_type": "code",
      "metadata": {
        "id": "x_mlHE6zK6Ks"
      },
      "source": [
        "train_set = joineado_reducido.iloc[:int((joineado.shape[0])*0.8)].copy()"
      ],
      "execution_count": null,
      "outputs": []
    },
    {
      "cell_type": "code",
      "metadata": {
        "id": "1eJCDD042xN9"
      },
      "source": [
        "validation_set = joineado_reducido.iloc[largo_train:].copy()"
      ],
      "execution_count": null,
      "outputs": []
    },
    {
      "cell_type": "code",
      "metadata": {
        "id": "JHVpMItM2yFI"
      },
      "source": [
        "del(joineado)\n",
        "del(joineado_reducido)"
      ],
      "execution_count": null,
      "outputs": []
    },
    {
      "cell_type": "markdown",
      "metadata": {
        "id": "pZEuetDomTe1"
      },
      "source": [
        "##Encoding"
      ]
    },
    {
      "cell_type": "markdown",
      "metadata": {
        "id": "gmanV6wXm9xu"
      },
      "source": [
        "###Funciones auxiliares"
      ]
    },
    {
      "cell_type": "code",
      "metadata": {
        "id": "Hii-GAyZAoR-"
      },
      "source": [
        "def llenar_nan_con_promedio(df, columna, promedios_numerica):\n",
        "  promedio = df[columna].mean()\n",
        "  promedios_numerica[columna] = promedio\n",
        "  df[columna].fillna(promedio, inplace = True)"
      ],
      "execution_count": null,
      "outputs": []
    },
    {
      "cell_type": "code",
      "metadata": {
        "id": "ywil-M-GAvl6"
      },
      "source": [
        "def aplicar_mean_encoding(df, columna, promedios_por_columna):\n",
        "    df[columna].fillna('Desconocido', inplace = True)\n",
        "    dicc = df[columna].value_counts().to_dict()\n",
        "    df['aux'] = df[columna].map(dicc)\n",
        "    df.loc[df['aux']<500, columna]='Otro'\n",
        "    mean_encoded = df.groupby([columna])['isFraud'].mean().to_dict()\n",
        "    df[columna] = df[columna].map(mean_encoded)\n",
        "    train_set.drop(['aux'], axis=1, inplace = True)\n",
        "    promedios_por_columna[columna] = mean_encoded"
      ],
      "execution_count": null,
      "outputs": []
    },
    {
      "cell_type": "code",
      "metadata": {
        "id": "SXUMQdJeAv_E"
      },
      "source": [
        "def aplicar_one_hot_encoding(df, columnas):\n",
        "    return pd.get_dummies(df, dummy_na=True, drop_first=True, columns=columnas)   "
      ],
      "execution_count": null,
      "outputs": []
    },
    {
      "cell_type": "markdown",
      "metadata": {
        "id": "Woj-kQuwmivN"
      },
      "source": [
        "###Encoding train set"
      ]
    },
    {
      "cell_type": "code",
      "metadata": {
        "id": "0k1OlZfwvd7-"
      },
      "source": [
        "vectorizer = CountVectorizer(lowercase = True, max_features = 20)\n",
        "train_set['id_31'].fillna('Desconocido', inplace = True)\n",
        "matrix = vectorizer.fit_transform(train_set['id_31'])\n",
        "df = pd.DataFrame(matrix.toarray(), columns=vectorizer.get_feature_names_out())\n",
        "for columna in df:\n",
        "  train_set[columna] = df[columna]\n",
        "del(df)"
      ],
      "execution_count": null,
      "outputs": []
    },
    {
      "cell_type": "code",
      "metadata": {
        "id": "D5DQzLsMAzA6"
      },
      "source": [
        "promedios_por_columna = {}\n",
        "for columna in train_set:\n",
        "  if(train_set[columna].dtype==object):\n",
        "    if(len(train_set[columna].value_counts()) > 5):\n",
        "       aplicar_mean_encoding(train_set, columna, promedios_por_columna)"
      ],
      "execution_count": null,
      "outputs": []
    },
    {
      "cell_type": "code",
      "metadata": {
        "id": "7s9ylfSJAzbi"
      },
      "source": [
        "columnas_one_hot = []\n",
        "for columna in train_set:\n",
        "  if(train_set[columna].dtype==object):\n",
        "    columnas_one_hot.append(columna)\n",
        "train_set = aplicar_one_hot_encoding(train_set, columnas_one_hot)"
      ],
      "execution_count": null,
      "outputs": []
    },
    {
      "cell_type": "code",
      "metadata": {
        "id": "RcesCt_AA0lx"
      },
      "source": [
        "promedios_numerica = {}\n",
        "llenar_nan_con_promedio(train_set, 'card1', promedios_numerica)\n",
        "for columna in train_set:\n",
        "  if(train_set[columna].dtype == float):\n",
        "    llenar_nan_con_promedio(train_set, columna, promedios_numerica)"
      ],
      "execution_count": null,
      "outputs": []
    },
    {
      "cell_type": "code",
      "metadata": {
        "id": "cBGm6X8rnYFh"
      },
      "source": [
        "train_set['TransactionDT']= train_set['TransactionDT'] % 86400"
      ],
      "execution_count": null,
      "outputs": []
    },
    {
      "cell_type": "markdown",
      "metadata": {
        "id": "HyO79fAYmn0W"
      },
      "source": [
        "###Encoding validation set"
      ]
    },
    {
      "cell_type": "code",
      "metadata": {
        "id": "OsELbcQxvudG"
      },
      "source": [
        "validation_set['id_31'].fillna('Desconocido', inplace = True)\n",
        "matrix = vectorizer.transform(validation_set['id_31'])\n",
        "df = pd.DataFrame(matrix.toarray(), columns=vectorizer.get_feature_names_out())\n",
        "validation_set.reset_index(inplace = True, drop = True)\n",
        "for columna in df:\n",
        "  validation_set[columna] = df[columna]\n",
        "del(df)"
      ],
      "execution_count": null,
      "outputs": []
    },
    {
      "cell_type": "code",
      "metadata": {
        "id": "vh0h5op922fa"
      },
      "source": [
        "for columna in promedios_por_columna:\n",
        "   promedios_numerica[columna] = promedios_por_columna[columna]['Desconocido']\n",
        "   validation_set[columna] = validation_set[columna].map(promedios_por_columna)"
      ],
      "execution_count": null,
      "outputs": []
    },
    {
      "cell_type": "code",
      "metadata": {
        "id": "0ZW1UoOd22yy"
      },
      "source": [
        "for columna in promedios_numerica:\n",
        "  validation_set[columna].fillna(promedios_numerica[columna], inplace = True)"
      ],
      "execution_count": null,
      "outputs": []
    },
    {
      "cell_type": "code",
      "metadata": {
        "id": "Km0YYfr525nG"
      },
      "source": [
        "validation_set = aplicar_one_hot_encoding(validation_set, columnas_one_hot)"
      ],
      "execution_count": null,
      "outputs": []
    },
    {
      "cell_type": "code",
      "metadata": {
        "id": "9Oap9mVR26a1"
      },
      "source": [
        "validation_set['TransactionDT']= validation_set['TransactionDT'] % 86400"
      ],
      "execution_count": null,
      "outputs": []
    },
    {
      "cell_type": "markdown",
      "metadata": {
        "id": "xxhW5rYLna6Y"
      },
      "source": [
        "##Divido los datasets"
      ]
    },
    {
      "cell_type": "code",
      "metadata": {
        "id": "DHL6EA_iA1w6"
      },
      "source": [
        "y_train = train_set['isFraud'].copy()\n",
        "train_set.drop(columns=['isFraud'],inplace=True)\n",
        "x_train = train_set"
      ],
      "execution_count": null,
      "outputs": []
    },
    {
      "cell_type": "code",
      "metadata": {
        "id": "g1-Z-l1H4vD_"
      },
      "source": [
        "y_validation = validation_set['isFraud'].copy()\n",
        "validation_set.drop(columns=['isFraud'],inplace=True)\n",
        "x_validation = validation_set"
      ],
      "execution_count": null,
      "outputs": []
    },
    {
      "cell_type": "code",
      "metadata": {
        "id": "7OeUaUq647x_"
      },
      "source": [
        "for columna in train_set:\n",
        "  if columna not in validation_set:\n",
        "    validation_set[columna] = 0"
      ],
      "execution_count": null,
      "outputs": []
    },
    {
      "cell_type": "code",
      "metadata": {
        "id": "uFuQ6oXA48G9"
      },
      "source": [
        "x_validation = x_validation.reindex(columns=x_train.columns)"
      ],
      "execution_count": null,
      "outputs": []
    },
    {
      "cell_type": "markdown",
      "metadata": {
        "id": "OEkgROHa5cZz"
      },
      "source": [
        "##Random forest"
      ]
    },
    {
      "cell_type": "markdown",
      "metadata": {
        "id": "rmLxcLiWmWlD"
      },
      "source": [
        "###Training"
      ]
    },
    {
      "cell_type": "code",
      "metadata": {
        "id": "DAOJkd0JkHG6"
      },
      "source": [
        "modelo = RandomForestClassifier(random_state=1)"
      ],
      "execution_count": null,
      "outputs": []
    },
    {
      "cell_type": "code",
      "metadata": {
        "id": "i8_C6ceBk3Ql"
      },
      "source": [
        "params = {'bootstrap': [True, False],\n",
        "               'max_depth': [30, 50, 70, 90, 100, 110, None],\n",
        "               'max_features': ['auto', 'sqrt'],\n",
        "               'min_samples_leaf': [1, 2, 4],\n",
        "               'min_samples_split': [2, 5, 10],\n",
        "               'n_estimators': [130, 180, 230]}"
      ],
      "execution_count": null,
      "outputs": []
    },
    {
      "cell_type": "code",
      "metadata": {
        "id": "IWrr55uNmLeG"
      },
      "source": [
        "rf_random = RandomizedSearchCV(estimator = modelo, param_distributions = params, n_iter = 7, scoring = 'roc_auc', cv = 4, verbose=100, random_state=1, n_jobs = 1)"
      ],
      "execution_count": null,
      "outputs": []
    },
    {
      "cell_type": "code",
      "metadata": {
        "id": "kuFG-VNlk_yd",
        "colab": {
          "base_uri": "https://localhost:8080/"
        },
        "outputId": "2cc9d174-e577-45d9-f3d5-515e899a33b3"
      },
      "source": [
        "rf_random.fit(x_train.values, y_train.values)"
      ],
      "execution_count": null,
      "outputs": [
        {
          "output_type": "stream",
          "name": "stdout",
          "text": [
            "Fitting 4 folds for each of 7 candidates, totalling 28 fits\n",
            "[CV 1/4; 1/7] START bootstrap=True, max_depth=30, max_features=sqrt, min_samples_leaf=2, min_samples_split=2, n_estimators=180\n",
            "[CV 1/4; 1/7] END bootstrap=True, max_depth=30, max_features=sqrt, min_samples_leaf=2, min_samples_split=2, n_estimators=180;, score=0.881 total time= 3.0min\n",
            "[CV 2/4; 1/7] START bootstrap=True, max_depth=30, max_features=sqrt, min_samples_leaf=2, min_samples_split=2, n_estimators=180\n",
            "[CV 2/4; 1/7] END bootstrap=True, max_depth=30, max_features=sqrt, min_samples_leaf=2, min_samples_split=2, n_estimators=180;, score=0.919 total time= 3.4min\n",
            "[CV 3/4; 1/7] START bootstrap=True, max_depth=30, max_features=sqrt, min_samples_leaf=2, min_samples_split=2, n_estimators=180\n",
            "[CV 3/4; 1/7] END bootstrap=True, max_depth=30, max_features=sqrt, min_samples_leaf=2, min_samples_split=2, n_estimators=180;, score=0.911 total time= 3.3min\n",
            "[CV 4/4; 1/7] START bootstrap=True, max_depth=30, max_features=sqrt, min_samples_leaf=2, min_samples_split=2, n_estimators=180\n",
            "[CV 4/4; 1/7] END bootstrap=True, max_depth=30, max_features=sqrt, min_samples_leaf=2, min_samples_split=2, n_estimators=180;, score=0.912 total time= 3.3min\n",
            "[CV 1/4; 2/7] START bootstrap=True, max_depth=100, max_features=auto, min_samples_leaf=4, min_samples_split=2, n_estimators=180\n",
            "[CV 1/4; 2/7] END bootstrap=True, max_depth=100, max_features=auto, min_samples_leaf=4, min_samples_split=2, n_estimators=180;, score=0.882 total time= 3.0min\n",
            "[CV 2/4; 2/7] START bootstrap=True, max_depth=100, max_features=auto, min_samples_leaf=4, min_samples_split=2, n_estimators=180\n",
            "[CV 2/4; 2/7] END bootstrap=True, max_depth=100, max_features=auto, min_samples_leaf=4, min_samples_split=2, n_estimators=180;, score=0.919 total time= 3.3min\n",
            "[CV 3/4; 2/7] START bootstrap=True, max_depth=100, max_features=auto, min_samples_leaf=4, min_samples_split=2, n_estimators=180\n",
            "[CV 3/4; 2/7] END bootstrap=True, max_depth=100, max_features=auto, min_samples_leaf=4, min_samples_split=2, n_estimators=180;, score=0.911 total time= 3.1min\n",
            "[CV 4/4; 2/7] START bootstrap=True, max_depth=100, max_features=auto, min_samples_leaf=4, min_samples_split=2, n_estimators=180\n",
            "[CV 4/4; 2/7] END bootstrap=True, max_depth=100, max_features=auto, min_samples_leaf=4, min_samples_split=2, n_estimators=180;, score=0.913 total time= 3.2min\n",
            "[CV 1/4; 3/7] START bootstrap=True, max_depth=50, max_features=auto, min_samples_leaf=4, min_samples_split=2, n_estimators=130\n",
            "[CV 1/4; 3/7] END bootstrap=True, max_depth=50, max_features=auto, min_samples_leaf=4, min_samples_split=2, n_estimators=130;, score=0.882 total time= 2.2min\n",
            "[CV 2/4; 3/7] START bootstrap=True, max_depth=50, max_features=auto, min_samples_leaf=4, min_samples_split=2, n_estimators=130\n",
            "[CV 2/4; 3/7] END bootstrap=True, max_depth=50, max_features=auto, min_samples_leaf=4, min_samples_split=2, n_estimators=130;, score=0.918 total time= 2.3min\n",
            "[CV 3/4; 3/7] START bootstrap=True, max_depth=50, max_features=auto, min_samples_leaf=4, min_samples_split=2, n_estimators=130\n",
            "[CV 3/4; 3/7] END bootstrap=True, max_depth=50, max_features=auto, min_samples_leaf=4, min_samples_split=2, n_estimators=130;, score=0.909 total time= 2.3min\n",
            "[CV 4/4; 3/7] START bootstrap=True, max_depth=50, max_features=auto, min_samples_leaf=4, min_samples_split=2, n_estimators=130\n",
            "[CV 4/4; 3/7] END bootstrap=True, max_depth=50, max_features=auto, min_samples_leaf=4, min_samples_split=2, n_estimators=130;, score=0.911 total time= 2.3min\n",
            "[CV 1/4; 4/7] START bootstrap=False, max_depth=None, max_features=auto, min_samples_leaf=2, min_samples_split=5, n_estimators=180\n",
            "[CV 1/4; 4/7] END bootstrap=False, max_depth=None, max_features=auto, min_samples_leaf=2, min_samples_split=5, n_estimators=180;, score=0.885 total time= 4.5min\n",
            "[CV 2/4; 4/7] START bootstrap=False, max_depth=None, max_features=auto, min_samples_leaf=2, min_samples_split=5, n_estimators=180\n",
            "[CV 2/4; 4/7] END bootstrap=False, max_depth=None, max_features=auto, min_samples_leaf=2, min_samples_split=5, n_estimators=180;, score=0.922 total time= 5.1min\n",
            "[CV 3/4; 4/7] START bootstrap=False, max_depth=None, max_features=auto, min_samples_leaf=2, min_samples_split=5, n_estimators=180\n",
            "[CV 3/4; 4/7] END bootstrap=False, max_depth=None, max_features=auto, min_samples_leaf=2, min_samples_split=5, n_estimators=180;, score=0.914 total time= 4.9min\n",
            "[CV 4/4; 4/7] START bootstrap=False, max_depth=None, max_features=auto, min_samples_leaf=2, min_samples_split=5, n_estimators=180\n",
            "[CV 4/4; 4/7] END bootstrap=False, max_depth=None, max_features=auto, min_samples_leaf=2, min_samples_split=5, n_estimators=180;, score=0.915 total time= 5.0min\n",
            "[CV 1/4; 5/7] START bootstrap=False, max_depth=100, max_features=sqrt, min_samples_leaf=4, min_samples_split=10, n_estimators=130\n",
            "[CV 1/4; 5/7] END bootstrap=False, max_depth=100, max_features=sqrt, min_samples_leaf=4, min_samples_split=10, n_estimators=130;, score=0.885 total time= 3.2min\n",
            "[CV 2/4; 5/7] START bootstrap=False, max_depth=100, max_features=sqrt, min_samples_leaf=4, min_samples_split=10, n_estimators=130\n",
            "[CV 2/4; 5/7] END bootstrap=False, max_depth=100, max_features=sqrt, min_samples_leaf=4, min_samples_split=10, n_estimators=130;, score=0.921 total time= 3.6min\n",
            "[CV 3/4; 5/7] START bootstrap=False, max_depth=100, max_features=sqrt, min_samples_leaf=4, min_samples_split=10, n_estimators=130\n",
            "[CV 3/4; 5/7] END bootstrap=False, max_depth=100, max_features=sqrt, min_samples_leaf=4, min_samples_split=10, n_estimators=130;, score=0.912 total time= 3.5min\n",
            "[CV 4/4; 5/7] START bootstrap=False, max_depth=100, max_features=sqrt, min_samples_leaf=4, min_samples_split=10, n_estimators=130\n",
            "[CV 4/4; 5/7] END bootstrap=False, max_depth=100, max_features=sqrt, min_samples_leaf=4, min_samples_split=10, n_estimators=130;, score=0.915 total time= 3.5min\n",
            "[CV 1/4; 6/7] START bootstrap=True, max_depth=70, max_features=sqrt, min_samples_leaf=2, min_samples_split=2, n_estimators=130\n",
            "[CV 1/4; 6/7] END bootstrap=True, max_depth=70, max_features=sqrt, min_samples_leaf=2, min_samples_split=2, n_estimators=130;, score=0.881 total time= 2.2min\n",
            "[CV 2/4; 6/7] START bootstrap=True, max_depth=70, max_features=sqrt, min_samples_leaf=2, min_samples_split=2, n_estimators=130\n",
            "[CV 2/4; 6/7] END bootstrap=True, max_depth=70, max_features=sqrt, min_samples_leaf=2, min_samples_split=2, n_estimators=130;, score=0.918 total time= 2.4min\n",
            "[CV 3/4; 6/7] START bootstrap=True, max_depth=70, max_features=sqrt, min_samples_leaf=2, min_samples_split=2, n_estimators=130\n",
            "[CV 3/4; 6/7] END bootstrap=True, max_depth=70, max_features=sqrt, min_samples_leaf=2, min_samples_split=2, n_estimators=130;, score=0.911 total time= 2.3min\n",
            "[CV 4/4; 6/7] START bootstrap=True, max_depth=70, max_features=sqrt, min_samples_leaf=2, min_samples_split=2, n_estimators=130\n",
            "[CV 4/4; 6/7] END bootstrap=True, max_depth=70, max_features=sqrt, min_samples_leaf=2, min_samples_split=2, n_estimators=130;, score=0.913 total time= 2.4min\n",
            "[CV 1/4; 7/7] START bootstrap=True, max_depth=70, max_features=auto, min_samples_leaf=4, min_samples_split=5, n_estimators=130\n",
            "[CV 1/4; 7/7] END bootstrap=True, max_depth=70, max_features=auto, min_samples_leaf=4, min_samples_split=5, n_estimators=130;, score=0.881 total time= 2.1min\n",
            "[CV 2/4; 7/7] START bootstrap=True, max_depth=70, max_features=auto, min_samples_leaf=4, min_samples_split=5, n_estimators=130\n",
            "[CV 2/4; 7/7] END bootstrap=True, max_depth=70, max_features=auto, min_samples_leaf=4, min_samples_split=5, n_estimators=130;, score=0.918 total time= 2.3min\n",
            "[CV 3/4; 7/7] START bootstrap=True, max_depth=70, max_features=auto, min_samples_leaf=4, min_samples_split=5, n_estimators=130\n",
            "[CV 3/4; 7/7] END bootstrap=True, max_depth=70, max_features=auto, min_samples_leaf=4, min_samples_split=5, n_estimators=130;, score=0.910 total time= 2.3min\n",
            "[CV 4/4; 7/7] START bootstrap=True, max_depth=70, max_features=auto, min_samples_leaf=4, min_samples_split=5, n_estimators=130\n",
            "[CV 4/4; 7/7] END bootstrap=True, max_depth=70, max_features=auto, min_samples_leaf=4, min_samples_split=5, n_estimators=130;, score=0.912 total time= 2.3min\n"
          ]
        },
        {
          "output_type": "execute_result",
          "data": {
            "text/plain": [
              "RandomizedSearchCV(cv=4, estimator=RandomForestClassifier(random_state=1),\n",
              "                   n_iter=7, n_jobs=1,\n",
              "                   param_distributions={'bootstrap': [True, False],\n",
              "                                        'max_depth': [30, 50, 70, 90, 100, 110,\n",
              "                                                      None],\n",
              "                                        'max_features': ['auto', 'sqrt'],\n",
              "                                        'min_samples_leaf': [1, 2, 4],\n",
              "                                        'min_samples_split': [2, 5, 10],\n",
              "                                        'n_estimators': [130, 180, 230]},\n",
              "                   random_state=1, scoring='roc_auc', verbose=100)"
            ]
          },
          "metadata": {},
          "execution_count": 38
        }
      ]
    },
    {
      "cell_type": "code",
      "metadata": {
        "id": "5f-KnoCnwC-9"
      },
      "source": [
        "#import pickle\n",
        "#with open('model_backup', 'wb') as model_backup_file:\n",
        "#  pickle.dump(rf_random, model_backup_file)"
      ],
      "execution_count": null,
      "outputs": []
    },
    {
      "cell_type": "code",
      "metadata": {
        "id": "lknmQZmewDRV"
      },
      "source": [
        "#import pickle \n",
        "#with open('model_backup', 'rb') as file:\n",
        "#  rf_random = pickle.load(file)"
      ],
      "execution_count": null,
      "outputs": []
    },
    {
      "cell_type": "markdown",
      "metadata": {
        "id": "mdZm2vhWmYMe"
      },
      "source": [
        "###Validation"
      ]
    },
    {
      "cell_type": "code",
      "metadata": {
        "colab": {
          "base_uri": "https://localhost:8080/"
        },
        "id": "KJyEGWZDwLwG",
        "outputId": "598f94d9-70b0-4a87-849e-fd2732dc5e7e"
      },
      "source": [
        "roc_auc_score(y_validation.values, rf_random.predict_proba(x_validation.values)[:,1])"
      ],
      "execution_count": null,
      "outputs": [
        {
          "output_type": "execute_result",
          "data": {
            "text/plain": [
              "0.8982119656313754"
            ]
          },
          "metadata": {},
          "execution_count": 66
        }
      ]
    },
    {
      "cell_type": "code",
      "metadata": {
        "colab": {
          "base_uri": "https://localhost:8080/"
        },
        "id": "USn35wPgeWYe",
        "outputId": "f3ca77a5-489e-44c2-e8bc-39afbd518e5f"
      },
      "source": [
        "print(classification_report(y_validation.values, rf_random.predict(x_validation.values)))"
      ],
      "execution_count": null,
      "outputs": [
        {
          "output_type": "stream",
          "name": "stdout",
          "text": [
            "              precision    recall  f1-score   support\n",
            "\n",
            "           0       0.97      1.00      0.99    114044\n",
            "           1       0.86      0.22      0.35      4064\n",
            "\n",
            "    accuracy                           0.97    118108\n",
            "   macro avg       0.92      0.61      0.67    118108\n",
            "weighted avg       0.97      0.97      0.96    118108\n",
            "\n"
          ]
        }
      ]
    },
    {
      "cell_type": "markdown",
      "metadata": {
        "id": "Ltdwb61F1a05"
      },
      "source": [
        "###Test"
      ]
    },
    {
      "cell_type": "markdown",
      "metadata": {
        "id": "l-7VanWZmbUg"
      },
      "source": [
        "####Datasets"
      ]
    },
    {
      "cell_type": "code",
      "metadata": {
        "id": "8sdEYCKx1aSc"
      },
      "source": [
        "id= '16HGAtDL8NdWSnqE-5WThosY2q0QIoeX-'\n",
        "downloaded = drive.CreateFile({'id': id})\n",
        "downloaded.GetContentFile('test_identity.csv')\n",
        "test_identity = pd.read_csv('test_identity.csv')"
      ],
      "execution_count": null,
      "outputs": []
    },
    {
      "cell_type": "code",
      "metadata": {
        "id": "yISHchLS1gX8"
      },
      "source": [
        "id= '1w-hO21eHxYs8NgW_NhXZpckfGuQEL22j'\n",
        "downloaded = drive.CreateFile({'id': id})\n",
        "downloaded.GetContentFile('test_transaction.csv')\n",
        "test_transaction = pd.read_csv('test_transaction.csv')"
      ],
      "execution_count": null,
      "outputs": []
    },
    {
      "cell_type": "code",
      "metadata": {
        "id": "-GgDb--_1h6P"
      },
      "source": [
        "test_set = pd.merge(left=test_transaction, right=test_identity, left_on='TransactionID', right_on='TransactionID', how = 'left')\n",
        "del(test_transaction)\n",
        "del(test_identity)"
      ],
      "execution_count": null,
      "outputs": []
    },
    {
      "cell_type": "code",
      "source": [
        "test_set.shape[0]"
      ],
      "metadata": {
        "colab": {
          "base_uri": "https://localhost:8080/"
        },
        "id": "v4BWapd-GDSU",
        "outputId": "c0becb26-740c-40df-cc63-39c91652a007"
      },
      "execution_count": null,
      "outputs": [
        {
          "output_type": "execute_result",
          "data": {
            "text/plain": [
              "506691"
            ]
          },
          "metadata": {},
          "execution_count": 11
        }
      ]
    },
    {
      "cell_type": "code",
      "metadata": {
        "id": "accg_VDw8qs2"
      },
      "source": [
        "transaction_id = test_set['TransactionID']"
      ],
      "execution_count": null,
      "outputs": []
    },
    {
      "cell_type": "code",
      "metadata": {
        "id": "5PhDZZmt2RPA"
      },
      "source": [
        "for columnas in test_set:\n",
        "  test_set.rename(columns=lambda x: x.replace('id-', 'id_'), inplace = True)"
      ],
      "execution_count": null,
      "outputs": []
    },
    {
      "cell_type": "code",
      "metadata": {
        "id": "SUa-KsBd2Uzm"
      },
      "source": [
        "features_importantes_test = ['V101','id_27','V232','V40','V79','V233','V18','V81','V52','M4','M2','V17','V103','V281','V33','V231','V80','V16','V15',\n",
        " 'V34','V74','V39','V58','V51','V94','V93','V95','V85','DeviceType','C3','V73','V22','V43','V21','V27','V57','V28','V177','V92','V72','V60','V32','V31','V167',\n",
        " 'V89','V84','V64','V59','V42','V63','V71','V219','id_15','id_37','card6','id_04', 'TransactionAmt','TransactionDT', 'C1', 'C2','C4','C5','C6','C7','C8','C9','C10','C11','C12','C13',\n",
        " 'C14','card1','card2','card3','card4','card5','addr1','addr2','P_emaildomain','R_emaildomain','dist1','dist2', 'DeviceInfo', 'id_31', 'id_33', 'id_12', 'id_16',\n",
        " 'id_01', 'id_02', 'id_30', 'id_32', 'id_34','id_35','id_36','id_38', 'id_06','id_13','id_14','M3','M5','M6','M7','M8','M9', 'M1', 'id_28','id_29','id_11'] "
      ],
      "execution_count": null,
      "outputs": []
    },
    {
      "cell_type": "code",
      "metadata": {
        "id": "aKIVtCPF15n1"
      },
      "source": [
        "test_set = test_set.loc[:, features_importantes_test]"
      ],
      "execution_count": null,
      "outputs": []
    },
    {
      "cell_type": "markdown",
      "metadata": {
        "id": "vcj8MjNw-bVU"
      },
      "source": [
        "####Encoding"
      ]
    },
    {
      "cell_type": "code",
      "metadata": {
        "id": "AYx_0ahR1jnp"
      },
      "source": [
        "test_set['TransactionDT']= test_set['TransactionDT'] % 86400"
      ],
      "execution_count": null,
      "outputs": []
    },
    {
      "cell_type": "code",
      "metadata": {
        "id": "9-vQSxAILF5V"
      },
      "source": [
        "test_set['id_31'].fillna('Desconocido', inplace = True)\n",
        "matrix = vectorizer.transform(test_set['id_31'])\n",
        "df = pd.DataFrame(matrix.toarray(), columns=vectorizer.get_feature_names_out())\n",
        "test_set.reset_index(inplace = True, drop = True)\n",
        "for columna in df:\n",
        "  test_set[columna] = df[columna]\n",
        "del(df)"
      ],
      "execution_count": null,
      "outputs": []
    },
    {
      "cell_type": "code",
      "metadata": {
        "id": "zT3g6or11n8c"
      },
      "source": [
        "test_set = aplicar_one_hot_encoding(test_set, columnas_one_hot)"
      ],
      "execution_count": null,
      "outputs": []
    },
    {
      "cell_type": "code",
      "metadata": {
        "id": "qzIdEyhM1pTc"
      },
      "source": [
        "for columna in promedios_por_columna:\n",
        "   test_set[columna] = test_set[columna].map(promedios_por_columna)"
      ],
      "execution_count": null,
      "outputs": []
    },
    {
      "cell_type": "code",
      "metadata": {
        "id": "ZElNJrhS1qnP"
      },
      "source": [
        "for columna in promedios_numerica:\n",
        "  test_set[columna].fillna(promedios_numerica[columna], inplace = True)"
      ],
      "execution_count": null,
      "outputs": []
    },
    {
      "cell_type": "code",
      "metadata": {
        "id": "qUX6JbW61reo"
      },
      "source": [
        "for columna in train_set:\n",
        "  if columna not in test_set:\n",
        "    test_set[columna] = 0"
      ],
      "execution_count": null,
      "outputs": []
    },
    {
      "cell_type": "code",
      "metadata": {
        "id": "gPSKVZ6b1sla"
      },
      "source": [
        "test_set = test_set.reindex(columns=x_train.columns)"
      ],
      "execution_count": null,
      "outputs": []
    },
    {
      "cell_type": "markdown",
      "metadata": {
        "id": "P9AqY4R_m0r_"
      },
      "source": [
        "####Predicciones"
      ]
    },
    {
      "cell_type": "code",
      "metadata": {
        "colab": {
          "base_uri": "https://localhost:8080/"
        },
        "id": "tp-vyu0W1s2E",
        "outputId": "dc23d61a-c411-47b2-fc4e-6765202a8d34"
      },
      "source": [
        "rf_random.predict_proba(test_set.values)[:,1]"
      ],
      "execution_count": null,
      "outputs": [
        {
          "output_type": "execute_result",
          "data": {
            "text/plain": [
              "array([0.01841824, 0.03566089, 0.07055543, ..., 0.01084929, 0.01994674,\n",
              "       0.02762346])"
            ]
          },
          "metadata": {},
          "execution_count": 61
        }
      ]
    },
    {
      "cell_type": "markdown",
      "metadata": {
        "id": "TIipXzG5og5L"
      },
      "source": [
        "##Score de la competencia"
      ]
    },
    {
      "cell_type": "code",
      "metadata": {
        "id": "024OlTSzohs5"
      },
      "source": [
        "predicciones_fraude_random_forest = pd.DataFrame()\n",
        "predicciones_fraude_random_forest['isFraud'] = rf_random.predict_proba(test_set.values)[:,1]\n",
        "predicciones_fraude_random_forest['TransactionID']= transaction_id.values\n",
        "predicciones_fraude_random_forest.to_csv('predicciones_fraude_random_forest.csv', index=False)"
      ],
      "execution_count": null,
      "outputs": []
    },
    {
      "cell_type": "markdown",
      "metadata": {
        "id": "AFrvEDdCol_b"
      },
      "source": [
        "<img src= \"https://drive.google.com/uc?id=11hNMx06kP899a0a9brX4w3amqtD8rZch\" width=\"100%\">\n",
        "\n"
      ]
    },
    {
      "cell_type": "markdown",
      "metadata": {
        "id": "0KMkNv9DPLLm"
      },
      "source": [
        "##Matriz de confusion"
      ]
    },
    {
      "cell_type": "code",
      "metadata": {
        "id": "AIJDAWaHPGmr"
      },
      "source": [
        "predicciones = rf_random.predict(x_validation.values)\n",
        "target_real = y_validation\n"
      ],
      "execution_count": null,
      "outputs": []
    },
    {
      "cell_type": "code",
      "metadata": {
        "colab": {
          "base_uri": "https://localhost:8080/",
          "height": 296
        },
        "id": "qikMYe71NO9d",
        "outputId": "688d3cd5-2022-47a2-9978-2516649d2e32"
      },
      "source": [
        "matrix = confusion_matrix(target_real, predicciones)\n",
        "disp = ConfusionMatrixDisplay(matrix)\n",
        "disp.plot()"
      ],
      "execution_count": null,
      "outputs": [
        {
          "output_type": "execute_result",
          "data": {
            "text/plain": [
              "<sklearn.metrics._plot.confusion_matrix.ConfusionMatrixDisplay at 0x7f63492d0b10>"
            ]
          },
          "metadata": {},
          "execution_count": 68
        },
        {
          "output_type": "display_data",
          "data": {
            "image/png": "[encoded data removed]",
            "text/plain": [
              "<Figure size 432x288 with 2 Axes>"
            ]
          },
          "metadata": {
            "needs_background": "light"
          }
        }
      ]
    }
  ]
}