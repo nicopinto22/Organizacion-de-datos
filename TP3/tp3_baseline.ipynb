{
  "nbformat": 4,
  "nbformat_minor": 0,
  "metadata": {
    "colab": {
      "name": "tp3 datos parte 2.ipynb",
      "provenance": [],
      "collapsed_sections": [
        "zmZS6t4Xtme-",
        "8Qz4HMIrtqQl",
        "MoUjDSbivyOO",
        "gAYqt56UYBv7"
      ]
    },
    "kernelspec": {
      "display_name": "Python 3",
      "name": "python3"
    },
    "language_info": {
      "name": "python"
    }
  },
  "cells": [
    {
      "cell_type": "markdown",
      "metadata": {
        "id": "2U14YtP_tUUE"
      },
      "source": [
        "#Trabajo practico 3 Parte 2\n",
        "Pinto, Nicolas \\\n",
        "\n"
      ]
    },
    {
      "cell_type": "markdown",
      "metadata": {
        "id": "zmZS6t4Xtme-"
      },
      "source": [
        "##Imports"
      ]
    },
    {
      "cell_type": "code",
      "metadata": {
        "id": "DKbRt6-E9Ols"
      },
      "source": [
        "import pandas as pd\n",
        "import numpy as np\n",
        "import seaborn as sns\n",
        "import matplotlib.pyplot as plt\n",
        "from pydrive.auth import GoogleAuth\n",
        "from pydrive.drive import GoogleDrive\n",
        "from google.colab import auth\n",
        "from oauth2client.client import GoogleCredentials\n",
        "\n",
        "import math\n",
        "from tqdm import tqdm\n",
        "from __future__ import print_function\n",
        "from ipywidgets import interact, interactive, fixed, interact_manual\n",
        "import ipywidgets as widgets\n",
        "\n",
        "from sklearn.preprocessing import OneHotEncoder\n",
        "from sklearn import preprocessing\n",
        "from sklearn.linear_model import LogisticRegression\n",
        "from sklearn.model_selection import RandomizedSearchCV\n",
        "from sklearn.metrics import classification_report, accuracy_score, roc_auc_score, ConfusionMatrixDisplay, confusion_matrix\n",
        "from scipy.stats import uniform"
      ],
      "execution_count": null,
      "outputs": []
    },
    {
      "cell_type": "markdown",
      "metadata": {
        "id": "8Qz4HMIrtqQl"
      },
      "source": [
        "##Datasets"
      ]
    },
    {
      "cell_type": "code",
      "metadata": {
        "id": "re3lfBwj9Xlv"
      },
      "source": [
        "auth.authenticate_user()\n",
        "gauth = GoogleAuth()\n",
        "gauth.credentials = GoogleCredentials.get_application_default()\n",
        "drive = GoogleDrive(gauth)"
      ],
      "execution_count": null,
      "outputs": []
    },
    {
      "cell_type": "code",
      "metadata": {
        "id": "D7vVxIeJ9aBb"
      },
      "source": [
        "id= '1vAH4o97zYZ2RT8Mbgz3Be4AN2xxbA_4W'\n",
        "downloaded = drive.CreateFile({'id': id})\n",
        "downloaded.GetContentFile('train_transaction.csv')\n",
        "train_transaction = pd.read_csv('train_transaction.csv')"
      ],
      "execution_count": null,
      "outputs": []
    },
    {
      "cell_type": "code",
      "metadata": {
        "id": "YuAjYcEu9gak"
      },
      "source": [
        "id= '1YGDFxRvxm1wMVaL3E5GpgP2KQqun8OFj'\n",
        "downloaded = drive.CreateFile({'id': id})\n",
        "downloaded.GetContentFile('train_identity.csv')\n",
        "train_identity = pd.read_csv('train_identity.csv')"
      ],
      "execution_count": null,
      "outputs": []
    },
    {
      "cell_type": "markdown",
      "metadata": {
        "id": "oVX_fHyzOoJw"
      },
      "source": [
        "Para dividir el dataset es mejor hacerlo siguiendo un orden para evitar el time traveling, ya que no podemos agarrar datos al azar pues podriamos estar entrenando el modelo con datos que pasaron en el futuro y sacar conclusiones erroneas"
      ]
    },
    {
      "cell_type": "code",
      "metadata": {
        "id": "jqyZetWFOvk8"
      },
      "source": [
        "joineado = pd.merge(left=train_transaction, right=train_identity, left_on='TransactionID', right_on='TransactionID', how = 'left')\n",
        "del(train_transaction)\n",
        "del(train_identity)"
      ],
      "execution_count": null,
      "outputs": []
    },
    {
      "cell_type": "code",
      "metadata": {
        "id": "HHY7qjRdw7PY"
      },
      "source": [
        "largo_train = int((joineado.shape[0])*0.8)\n",
        "largo_validation = (joineado.shape[0]) - largo_train"
      ],
      "execution_count": null,
      "outputs": []
    },
    {
      "cell_type": "code",
      "metadata": {
        "id": "eHOUYquNt4zP"
      },
      "source": [
        "train_set = joineado.iloc[:int((joineado.shape[0])*0.8)].copy()"
      ],
      "execution_count": null,
      "outputs": []
    },
    {
      "cell_type": "code",
      "metadata": {
        "id": "fM9PR7O8xSmu"
      },
      "source": [
        "validation_set = joineado.iloc[largo_train:].copy()"
      ],
      "execution_count": null,
      "outputs": []
    },
    {
      "cell_type": "code",
      "metadata": {
        "id": "htAO9kul-Fxm"
      },
      "source": [
        "del(joineado)"
      ],
      "execution_count": null,
      "outputs": []
    },
    {
      "cell_type": "markdown",
      "metadata": {
        "id": "MoUjDSbivyOO"
      },
      "source": [
        "##Encoding"
      ]
    },
    {
      "cell_type": "code",
      "metadata": {
        "id": "faHCwkulkgqQ"
      },
      "source": [
        "def llenar_nan_con_promedio(df, columna, promedios_numerica):\n",
        "  promedio = df[columna].mean()\n",
        "  promedios_numerica[columna] = promedio\n",
        "  df[columna].fillna(promedio, inplace = True)"
      ],
      "execution_count": null,
      "outputs": []
    },
    {
      "cell_type": "code",
      "metadata": {
        "id": "2HCUUFixXgHR"
      },
      "source": [
        "def aplicar_mean_encoding(df, columna, promedios_por_columna):\n",
        "    df[columna].fillna('Desconocido', inplace = True)\n",
        "    dicc = df[columna].value_counts().to_dict()\n",
        "    df['aux'] = df[columna].map(dicc)\n",
        "    df.loc[df['aux']<500, columna]='Otro'\n",
        "    mean_encoded = df.groupby([columna])['isFraud'].mean().to_dict()\n",
        "    df[columna] = df[columna].map(mean_encoded)\n",
        "    train_set.drop(['aux'], axis=1, inplace = True)\n",
        "    promedios_por_columna[columna] = mean_encoded\n"
      ],
      "execution_count": null,
      "outputs": []
    },
    {
      "cell_type": "code",
      "metadata": {
        "id": "NtvEkNrQW2OU"
      },
      "source": [
        "def aplicar_one_hot_encoding(df, columnas):\n",
        "    return pd.get_dummies(df, dummy_na=True, drop_first=True, columns=columnas)    "
      ],
      "execution_count": null,
      "outputs": []
    },
    {
      "cell_type": "code",
      "metadata": {
        "id": "aqFe91wqjkm9"
      },
      "source": [
        "promedios_por_columna = {}\n",
        "for columna in train_set:\n",
        "  if(train_set[columna].dtype==object):\n",
        "    if(len(train_set[columna].value_counts()) > 5):\n",
        "       aplicar_mean_encoding(train_set, columna, promedios_por_columna)"
      ],
      "execution_count": null,
      "outputs": []
    },
    {
      "cell_type": "code",
      "metadata": {
        "id": "qoktpD6CqntC"
      },
      "source": [
        "columnas_one_hot = []\n",
        "for columna in train_set:\n",
        "  if(train_set[columna].dtype==object):\n",
        "    columnas_one_hot.append(columna)\n",
        "train_set = aplicar_one_hot_encoding(train_set, columnas_one_hot)"
      ],
      "execution_count": null,
      "outputs": []
    },
    {
      "cell_type": "code",
      "metadata": {
        "id": "Vc2xk0j_qy9c"
      },
      "source": [
        "promedios_numerica = {}\n",
        "llenar_nan_con_promedio(train_set, 'card1', promedios_numerica)\n",
        "for columna in train_set:\n",
        "  if(train_set[columna].dtype == float):\n",
        "    llenar_nan_con_promedio(train_set, columna, promedios_numerica)"
      ],
      "execution_count": null,
      "outputs": []
    },
    {
      "cell_type": "code",
      "metadata": {
        "id": "cZ67pgSvQP4D"
      },
      "source": [
        "for columna in promedios_por_columna:\n",
        "   promedios_numerica[columna] = promedios_por_columna[columna]['Desconocido']\n",
        "   validation_set[columna] = validation_set[columna].map(promedios_por_columna)"
      ],
      "execution_count": null,
      "outputs": []
    },
    {
      "cell_type": "code",
      "metadata": {
        "id": "2DHF7ACRQK-X"
      },
      "source": [
        "for columna in promedios_numerica:\n",
        "  validation_set[columna].fillna(promedios_numerica[columna], inplace = True)"
      ],
      "execution_count": null,
      "outputs": []
    },
    {
      "cell_type": "code",
      "metadata": {
        "id": "FrsKqNjYQ3EH"
      },
      "source": [
        "validation_set = aplicar_one_hot_encoding(validation_set, columnas_one_hot)"
      ],
      "execution_count": null,
      "outputs": []
    },
    {
      "cell_type": "code",
      "metadata": {
        "id": "lP_gl1FNuNWQ"
      },
      "source": [
        "for columna in train_set:\n",
        "  if columna not in validation_set:\n",
        "    validation_set[columna] = 0"
      ],
      "execution_count": null,
      "outputs": []
    },
    {
      "cell_type": "code",
      "metadata": {
        "id": "XxbG7ggtuQfd"
      },
      "source": [
        "train_set['TransactionDT']= train_set['TransactionDT'] % 86400\n",
        "validation_set['TransactionDT']= validation_set['TransactionDT'] % 86400"
      ],
      "execution_count": null,
      "outputs": []
    },
    {
      "cell_type": "markdown",
      "metadata": {
        "id": "gAYqt56UYBv7"
      },
      "source": [
        "##Dataset de train y de validacion"
      ]
    },
    {
      "cell_type": "code",
      "metadata": {
        "id": "k9uDf2gfXwY7"
      },
      "source": [
        "y_train = train_set['isFraud'].copy()\n",
        "train_set.drop(columns=['isFraud'],inplace=True)\n",
        "train_set.drop(columns=['TransactionID'],inplace=True)\n",
        "x_train = train_set"
      ],
      "execution_count": null,
      "outputs": []
    },
    {
      "cell_type": "code",
      "metadata": {
        "id": "NDJgsfyaG6gT"
      },
      "source": [
        "y_validation = validation_set['isFraud'].copy()\n",
        "validation_set.drop(columns=['isFraud'],inplace=True)\n",
        "validation_set.drop(columns=['TransactionID'],inplace=True)\n",
        "x_validation = validation_set"
      ],
      "execution_count": null,
      "outputs": []
    },
    {
      "cell_type": "markdown",
      "metadata": {
        "id": "dJ6PUzoPuQfh"
      },
      "source": [
        "##Regresion logistica"
      ]
    },
    {
      "cell_type": "code",
      "metadata": {
        "id": "sVAbmXzWYcPW"
      },
      "source": [
        "modelo = LogisticRegression(fit_intercept=True, C=0.8, max_iter=1000, random_state=1)"
      ],
      "execution_count": null,
      "outputs": []
    },
    {
      "cell_type": "code",
      "metadata": {
        "id": "hbAREAQ6cYOz"
      },
      "source": [
        "distributions = dict(C=uniform(loc=0, scale=4),penalty=['l2'])"
      ],
      "execution_count": null,
      "outputs": []
    },
    {
      "cell_type": "code",
      "metadata": {
        "id": "uDD1moOxbOx3"
      },
      "source": [
        "mejor_modelo = RandomizedSearchCV(modelo,distributions, n_iter=5, n_jobs= 1, scoring = 'roc_auc', cv=2, verbose = 100, random_state = 1)"
      ],
      "execution_count": null,
      "outputs": []
    },
    {
      "cell_type": "code",
      "metadata": {
        "colab": {
          "base_uri": "https://localhost:8080/"
        },
        "id": "gUlN2YmYbSkX",
        "outputId": "ee8bc6ab-46d9-4d1f-f6c6-92251a47fddf"
      },
      "source": [
        "mejor_modelo.fit(x_train.values, y_train.values)\n"
      ],
      "execution_count": null,
      "outputs": [
        {
          "output_type": "stream",
          "name": "stdout",
          "text": [
            "Fitting 2 folds for each of 5 candidates, totalling 10 fits\n",
            "[CV 1/2; 1/5] START C=1.668088018810296, penalty=l2.............................\n"
          ]
        },
        {
          "output_type": "stream",
          "name": "stderr",
          "text": [
            "/usr/local/lib/python3.7/dist-packages/sklearn/linear_model/_logistic.py:818: ConvergenceWarning: lbfgs failed to converge (status=1):\n",
            "STOP: TOTAL NO. of ITERATIONS REACHED LIMIT.\n",
            "\n",
            "Increase the number of iterations (max_iter) or scale the data as shown in:\n",
            "    https://scikit-learn.org/stable/modules/preprocessing.html\n",
            "Please also refer to the documentation for alternative solver options:\n",
            "    https://scikit-learn.org/stable/modules/linear_model.html#logistic-regression\n",
            "  extra_warning_msg=_LOGISTIC_SOLVER_CONVERGENCE_MSG,\n"
          ]
        },
        {
          "output_type": "stream",
          "name": "stdout",
          "text": [
            "[CV 1/2; 1/5] END C=1.668088018810296, penalty=l2;, score=0.746 total time= 5.6min\n",
            "[CV 2/2; 1/5] START C=1.668088018810296, penalty=l2.............................\n"
          ]
        },
        {
          "output_type": "stream",
          "name": "stderr",
          "text": [
            "/usr/local/lib/python3.7/dist-packages/sklearn/linear_model/_logistic.py:818: ConvergenceWarning: lbfgs failed to converge (status=1):\n",
            "STOP: TOTAL NO. of ITERATIONS REACHED LIMIT.\n",
            "\n",
            "Increase the number of iterations (max_iter) or scale the data as shown in:\n",
            "    https://scikit-learn.org/stable/modules/preprocessing.html\n",
            "Please also refer to the documentation for alternative solver options:\n",
            "    https://scikit-learn.org/stable/modules/linear_model.html#logistic-regression\n",
            "  extra_warning_msg=_LOGISTIC_SOLVER_CONVERGENCE_MSG,\n"
          ]
        },
        {
          "output_type": "stream",
          "name": "stdout",
          "text": [
            "[CV 2/2; 1/5] END C=1.668088018810296, penalty=l2;, score=0.760 total time= 5.5min\n",
            "[CV 1/2; 2/5] START C=2.8812979737686324, penalty=l2............................\n"
          ]
        },
        {
          "output_type": "stream",
          "name": "stderr",
          "text": [
            "/usr/local/lib/python3.7/dist-packages/sklearn/linear_model/_logistic.py:818: ConvergenceWarning: lbfgs failed to converge (status=1):\n",
            "STOP: TOTAL NO. of ITERATIONS REACHED LIMIT.\n",
            "\n",
            "Increase the number of iterations (max_iter) or scale the data as shown in:\n",
            "    https://scikit-learn.org/stable/modules/preprocessing.html\n",
            "Please also refer to the documentation for alternative solver options:\n",
            "    https://scikit-learn.org/stable/modules/linear_model.html#logistic-regression\n",
            "  extra_warning_msg=_LOGISTIC_SOLVER_CONVERGENCE_MSG,\n"
          ]
        },
        {
          "output_type": "stream",
          "name": "stdout",
          "text": [
            "[CV 1/2; 2/5] END C=2.8812979737686324, penalty=l2;, score=0.746 total time= 5.6min\n",
            "[CV 2/2; 2/5] START C=2.8812979737686324, penalty=l2............................\n"
          ]
        },
        {
          "output_type": "stream",
          "name": "stderr",
          "text": [
            "/usr/local/lib/python3.7/dist-packages/sklearn/linear_model/_logistic.py:818: ConvergenceWarning: lbfgs failed to converge (status=1):\n",
            "STOP: TOTAL NO. of ITERATIONS REACHED LIMIT.\n",
            "\n",
            "Increase the number of iterations (max_iter) or scale the data as shown in:\n",
            "    https://scikit-learn.org/stable/modules/preprocessing.html\n",
            "Please also refer to the documentation for alternative solver options:\n",
            "    https://scikit-learn.org/stable/modules/linear_model.html#logistic-regression\n",
            "  extra_warning_msg=_LOGISTIC_SOLVER_CONVERGENCE_MSG,\n"
          ]
        },
        {
          "output_type": "stream",
          "name": "stdout",
          "text": [
            "[CV 2/2; 2/5] END C=2.8812979737686324, penalty=l2;, score=0.759 total time= 5.6min\n",
            "[CV 1/2; 3/5] START C=0.00045749926937954655, penalty=l2........................\n"
          ]
        },
        {
          "output_type": "stream",
          "name": "stderr",
          "text": [
            "/usr/local/lib/python3.7/dist-packages/sklearn/linear_model/_logistic.py:818: ConvergenceWarning: lbfgs failed to converge (status=1):\n",
            "STOP: TOTAL NO. of ITERATIONS REACHED LIMIT.\n",
            "\n",
            "Increase the number of iterations (max_iter) or scale the data as shown in:\n",
            "    https://scikit-learn.org/stable/modules/preprocessing.html\n",
            "Please also refer to the documentation for alternative solver options:\n",
            "    https://scikit-learn.org/stable/modules/linear_model.html#logistic-regression\n",
            "  extra_warning_msg=_LOGISTIC_SOLVER_CONVERGENCE_MSG,\n"
          ]
        },
        {
          "output_type": "stream",
          "name": "stdout",
          "text": [
            "[CV 1/2; 3/5] END C=0.00045749926937954655, penalty=l2;, score=0.748 total time= 5.6min\n",
            "[CV 2/2; 3/5] START C=0.00045749926937954655, penalty=l2........................\n"
          ]
        },
        {
          "output_type": "stream",
          "name": "stderr",
          "text": [
            "/usr/local/lib/python3.7/dist-packages/sklearn/linear_model/_logistic.py:818: ConvergenceWarning: lbfgs failed to converge (status=1):\n",
            "STOP: TOTAL NO. of ITERATIONS REACHED LIMIT.\n",
            "\n",
            "Increase the number of iterations (max_iter) or scale the data as shown in:\n",
            "    https://scikit-learn.org/stable/modules/preprocessing.html\n",
            "Please also refer to the documentation for alternative solver options:\n",
            "    https://scikit-learn.org/stable/modules/linear_model.html#logistic-regression\n",
            "  extra_warning_msg=_LOGISTIC_SOLVER_CONVERGENCE_MSG,\n"
          ]
        },
        {
          "output_type": "stream",
          "name": "stdout",
          "text": [
            "[CV 2/2; 3/5] END C=0.00045749926937954655, penalty=l2;, score=0.758 total time= 5.5min\n",
            "[CV 1/2; 4/5] START C=1.209330290527359, penalty=l2.............................\n"
          ]
        },
        {
          "output_type": "stream",
          "name": "stderr",
          "text": [
            "/usr/local/lib/python3.7/dist-packages/sklearn/linear_model/_logistic.py:818: ConvergenceWarning: lbfgs failed to converge (status=1):\n",
            "STOP: TOTAL NO. of ITERATIONS REACHED LIMIT.\n",
            "\n",
            "Increase the number of iterations (max_iter) or scale the data as shown in:\n",
            "    https://scikit-learn.org/stable/modules/preprocessing.html\n",
            "Please also refer to the documentation for alternative solver options:\n",
            "    https://scikit-learn.org/stable/modules/linear_model.html#logistic-regression\n",
            "  extra_warning_msg=_LOGISTIC_SOLVER_CONVERGENCE_MSG,\n"
          ]
        },
        {
          "output_type": "stream",
          "name": "stdout",
          "text": [
            "[CV 1/2; 4/5] END C=1.209330290527359, penalty=l2;, score=0.746 total time= 5.7min\n",
            "[CV 2/2; 4/5] START C=1.209330290527359, penalty=l2.............................\n"
          ]
        },
        {
          "output_type": "stream",
          "name": "stderr",
          "text": [
            "/usr/local/lib/python3.7/dist-packages/sklearn/linear_model/_logistic.py:818: ConvergenceWarning: lbfgs failed to converge (status=1):\n",
            "STOP: TOTAL NO. of ITERATIONS REACHED LIMIT.\n",
            "\n",
            "Increase the number of iterations (max_iter) or scale the data as shown in:\n",
            "    https://scikit-learn.org/stable/modules/preprocessing.html\n",
            "Please also refer to the documentation for alternative solver options:\n",
            "    https://scikit-learn.org/stable/modules/linear_model.html#logistic-regression\n",
            "  extra_warning_msg=_LOGISTIC_SOLVER_CONVERGENCE_MSG,\n"
          ]
        },
        {
          "output_type": "stream",
          "name": "stdout",
          "text": [
            "[CV 2/2; 4/5] END C=1.209330290527359, penalty=l2;, score=0.760 total time= 5.5min\n",
            "[CV 1/2; 5/5] START C=0.5870235632684522, penalty=l2............................\n"
          ]
        },
        {
          "output_type": "stream",
          "name": "stderr",
          "text": [
            "/usr/local/lib/python3.7/dist-packages/sklearn/linear_model/_logistic.py:818: ConvergenceWarning: lbfgs failed to converge (status=1):\n",
            "STOP: TOTAL NO. of ITERATIONS REACHED LIMIT.\n",
            "\n",
            "Increase the number of iterations (max_iter) or scale the data as shown in:\n",
            "    https://scikit-learn.org/stable/modules/preprocessing.html\n",
            "Please also refer to the documentation for alternative solver options:\n",
            "    https://scikit-learn.org/stable/modules/linear_model.html#logistic-regression\n",
            "  extra_warning_msg=_LOGISTIC_SOLVER_CONVERGENCE_MSG,\n"
          ]
        },
        {
          "output_type": "stream",
          "name": "stdout",
          "text": [
            "[CV 1/2; 5/5] END C=0.5870235632684522, penalty=l2;, score=0.746 total time= 5.7min\n",
            "[CV 2/2; 5/5] START C=0.5870235632684522, penalty=l2............................\n"
          ]
        },
        {
          "output_type": "stream",
          "name": "stderr",
          "text": [
            "/usr/local/lib/python3.7/dist-packages/sklearn/linear_model/_logistic.py:818: ConvergenceWarning: lbfgs failed to converge (status=1):\n",
            "STOP: TOTAL NO. of ITERATIONS REACHED LIMIT.\n",
            "\n",
            "Increase the number of iterations (max_iter) or scale the data as shown in:\n",
            "    https://scikit-learn.org/stable/modules/preprocessing.html\n",
            "Please also refer to the documentation for alternative solver options:\n",
            "    https://scikit-learn.org/stable/modules/linear_model.html#logistic-regression\n",
            "  extra_warning_msg=_LOGISTIC_SOLVER_CONVERGENCE_MSG,\n"
          ]
        },
        {
          "output_type": "stream",
          "name": "stdout",
          "text": [
            "[CV 2/2; 5/5] END C=0.5870235632684522, penalty=l2;, score=0.755 total time= 5.5min\n"
          ]
        },
        {
          "output_type": "stream",
          "name": "stderr",
          "text": [
            "/usr/local/lib/python3.7/dist-packages/sklearn/linear_model/_logistic.py:818: ConvergenceWarning: lbfgs failed to converge (status=1):\n",
            "STOP: TOTAL NO. of ITERATIONS REACHED LIMIT.\n",
            "\n",
            "Increase the number of iterations (max_iter) or scale the data as shown in:\n",
            "    https://scikit-learn.org/stable/modules/preprocessing.html\n",
            "Please also refer to the documentation for alternative solver options:\n",
            "    https://scikit-learn.org/stable/modules/linear_model.html#logistic-regression\n",
            "  extra_warning_msg=_LOGISTIC_SOLVER_CONVERGENCE_MSG,\n"
          ]
        },
        {
          "output_type": "execute_result",
          "data": {
            "text/plain": [
              "RandomizedSearchCV(cv=2,\n",
              "                   estimator=LogisticRegression(C=0.8, max_iter=1500,\n",
              "                                                random_state=1),\n",
              "                   n_iter=5, n_jobs=1,\n",
              "                   param_distributions={'C': <scipy.stats._distn_infrastructure.rv_frozen object at 0x7f5a75bf6a10>,\n",
              "                                        'penalty': ['l2']},\n",
              "                   random_state=1, scoring='roc_auc', verbose=100)"
            ]
          },
          "metadata": {},
          "execution_count": 26
        }
      ]
    },
    {
      "cell_type": "code",
      "metadata": {
        "id": "q5-G-hqJtZ_U"
      },
      "source": [
        "import pickle\n",
        "with open('model_backup', 'wb') as model_backup_file:\n",
        "  pickle.dump(mejor_modelo, model_backup_file)"
      ],
      "execution_count": null,
      "outputs": []
    },
    {
      "cell_type": "code",
      "metadata": {
        "id": "IlrmLQ8WtdeC"
      },
      "source": [
        "import pickle \n",
        "with open('model_backup', 'rb') as file:\n",
        "  mejor_modelo = pickle.load(file)"
      ],
      "execution_count": null,
      "outputs": []
    },
    {
      "cell_type": "markdown",
      "metadata": {
        "id": "tiWHSIIJE2ib"
      },
      "source": [
        "##Validation set"
      ]
    },
    {
      "cell_type": "code",
      "metadata": {
        "id": "1sLdnW20Hxo1"
      },
      "source": [
        "x_validation = x_validation.reindex(columns=x_train.columns)"
      ],
      "execution_count": null,
      "outputs": []
    },
    {
      "cell_type": "code",
      "metadata": {
        "colab": {
          "base_uri": "https://localhost:8080/"
        },
        "id": "xbP4LyqRPLMF",
        "outputId": "5d5d0647-2721-4587-9665-b9ebcd9ff7b9"
      },
      "source": [
        "print(classification_report(y_validation.values, mejor_modelo.predict(x_validation.values)))"
      ],
      "execution_count": null,
      "outputs": [
        {
          "output_type": "stream",
          "name": "stdout",
          "text": [
            "              precision    recall  f1-score   support\n",
            "\n",
            "           0       0.97      1.00      0.98    114044\n",
            "           1       0.42      0.05      0.08      4064\n",
            "\n",
            "    accuracy                           0.96    118108\n",
            "   macro avg       0.69      0.52      0.53    118108\n",
            "weighted avg       0.95      0.96      0.95    118108\n",
            "\n"
          ]
        }
      ]
    },
    {
      "cell_type": "code",
      "metadata": {
        "colab": {
          "base_uri": "https://localhost:8080/"
        },
        "id": "LhjSxtpzE16l",
        "outputId": "67a59182-126b-4b32-8238-53646cf85e80"
      },
      "source": [
        "print(\"Mejor score de validacion:\", roc_auc_score(y_validation.values, mejor_modelo.predict_proba(x_validation.values)[:,1]))"
      ],
      "execution_count": null,
      "outputs": [
        {
          "output_type": "stream",
          "name": "stdout",
          "text": [
            "Mejor score de validacion: 0.7687619363551352\n"
          ]
        }
      ]
    },
    {
      "cell_type": "markdown",
      "metadata": {
        "id": "ABbvbwSljhy1"
      },
      "source": [
        "##Test set"
      ]
    },
    {
      "cell_type": "markdown",
      "metadata": {
        "id": "fDcquxMgfaDA"
      },
      "source": [
        "###Datasets"
      ]
    },
    {
      "cell_type": "code",
      "metadata": {
        "id": "NfUCsmEUju4V"
      },
      "source": [
        "id= '16HGAtDL8NdWSnqE-5WThosY2q0QIoeX-'\n",
        "downloaded = drive.CreateFile({'id': id})\n",
        "downloaded.GetContentFile('test_identity.csv')\n",
        "test_identity = pd.read_csv('test_identity.csv')"
      ],
      "execution_count": null,
      "outputs": []
    },
    {
      "cell_type": "code",
      "metadata": {
        "id": "G8wrKbL1kzIU"
      },
      "source": [
        "id= '1w-hO21eHxYs8NgW_NhXZpckfGuQEL22j'\n",
        "downloaded = drive.CreateFile({'id': id})\n",
        "downloaded.GetContentFile('test_transaction.csv')\n",
        "test_transaction = pd.read_csv('test_transaction.csv')"
      ],
      "execution_count": null,
      "outputs": []
    },
    {
      "cell_type": "code",
      "metadata": {
        "id": "cWKZy_ZBlLjA"
      },
      "source": [
        "test_set = pd.merge(left=test_transaction, right=test_identity, left_on='TransactionID', right_on='TransactionID', how = 'left')\n",
        "del(test_transaction)\n",
        "del(test_identity)"
      ],
      "execution_count": null,
      "outputs": []
    },
    {
      "cell_type": "markdown",
      "metadata": {
        "id": "rZkSLBGAfc8Y"
      },
      "source": [
        "###Encoding"
      ]
    },
    {
      "cell_type": "code",
      "metadata": {
        "id": "PUvwh1KfNvTC"
      },
      "source": [
        "transaction_id = test_set['TransactionID']"
      ],
      "execution_count": null,
      "outputs": []
    },
    {
      "cell_type": "code",
      "metadata": {
        "id": "osmhymaprA6v"
      },
      "source": [
        "test_set.drop(columns=['TransactionID'],inplace=True)"
      ],
      "execution_count": null,
      "outputs": []
    },
    {
      "cell_type": "code",
      "metadata": {
        "id": "mKO9JN7e_cK0"
      },
      "source": [
        "test_set['TransactionDT']= test_set['TransactionDT'] % 86400"
      ],
      "execution_count": null,
      "outputs": []
    },
    {
      "cell_type": "code",
      "metadata": {
        "id": "efzp2mIkuVeo"
      },
      "source": [
        "for columnas in test_set:\n",
        "  test_set.rename(columns=lambda x: x.replace('id-', 'id_'), inplace = True)"
      ],
      "execution_count": null,
      "outputs": []
    },
    {
      "cell_type": "code",
      "metadata": {
        "id": "CxBEMyQNtwy6"
      },
      "source": [
        "test_set = aplicar_one_hot_encoding(test_set, columnas_one_hot)"
      ],
      "execution_count": null,
      "outputs": []
    },
    {
      "cell_type": "code",
      "metadata": {
        "id": "0MK9Gwt6n4rD"
      },
      "source": [
        "for columna in promedios_por_columna:\n",
        "   test_set[columna] = test_set[columna].map(promedios_por_columna)"
      ],
      "execution_count": null,
      "outputs": []
    },
    {
      "cell_type": "code",
      "metadata": {
        "id": "J40RjA35aNPA"
      },
      "source": [
        "for columna in promedios_numerica:\n",
        "  test_set[columna].fillna(promedios_numerica[columna], inplace = True)"
      ],
      "execution_count": null,
      "outputs": []
    },
    {
      "cell_type": "code",
      "metadata": {
        "id": "XdUGNanstxIA"
      },
      "source": [
        "for columna in train_set:\n",
        "  if columna not in test_set:\n",
        "    test_set[columna] = 0"
      ],
      "execution_count": null,
      "outputs": []
    },
    {
      "cell_type": "code",
      "metadata": {
        "id": "wg1i0glXsOPt"
      },
      "source": [
        "test_set = test_set.reindex(columns=x_train.columns)"
      ],
      "execution_count": null,
      "outputs": []
    },
    {
      "cell_type": "markdown",
      "metadata": {
        "id": "Ho1flso35s4L"
      },
      "source": [
        "###Probabilidad"
      ]
    },
    {
      "cell_type": "code",
      "metadata": {
        "id": "H8qWgImwlq09",
        "colab": {
          "base_uri": "https://localhost:8080/"
        },
        "outputId": "177e11eb-ef72-4ad6-dfbc-6ce69a3ecc5c"
      },
      "source": [
        " mejor_modelo.predict_proba(test_set.values)[:,1]"
      ],
      "execution_count": null,
      "outputs": [
        {
          "output_type": "execute_result",
          "data": {
            "text/plain": [
              "array([0.00599291, 0.02974556, 0.03172907, ..., 0.01957888, 0.01933572,\n",
              "       0.11959084])"
            ]
          },
          "metadata": {},
          "execution_count": 63
        }
      ]
    },
    {
      "cell_type": "markdown",
      "metadata": {
        "id": "Wuu-8P-Cmxtc"
      },
      "source": [
        "##Features mas importantes"
      ]
    },
    {
      "cell_type": "code",
      "metadata": {
        "id": "2A2HjJLwnfF9"
      },
      "source": [
        "coeficientes = mejor_modelo.best_estimator_.coef_[0].copy()"
      ],
      "execution_count": null,
      "outputs": []
    },
    {
      "cell_type": "code",
      "metadata": {
        "id": "qNSlO8_dnrdR"
      },
      "source": [
        "arr = []\n",
        "for columna in train_set:\n",
        "  arr.append(train_set[columna].mean())"
      ],
      "execution_count": null,
      "outputs": []
    },
    {
      "cell_type": "code",
      "metadata": {
        "id": "JQ8x1JQzqe8u"
      },
      "source": [
        "for i in range (len(arr)):\n",
        "  if arr[i] != 0:\n",
        "    coeficientes[i] = coeficientes[i]/arr[i]"
      ],
      "execution_count": null,
      "outputs": []
    },
    {
      "cell_type": "code",
      "metadata": {
        "id": "XAOHERrvPRR4"
      },
      "source": [
        "coeficientes_modulo = np.absolute(coeficientes)\n",
        "max_index = (-coeficientes_modulo).argsort()[:10]"
      ],
      "execution_count": null,
      "outputs": []
    },
    {
      "cell_type": "code",
      "metadata": {
        "id": "czZsCeLORN9F"
      },
      "source": [
        "features_importantes_reducido = []\n",
        "scores = []\n",
        "for i in max_index:\n",
        "  features_importantes_reducido.append(x_train.columns[i])\n",
        "  scores.append(coeficientes[i])\n",
        "\n",
        "features_importantes_con_scores_reducido = pd.DataFrame(scores, features_importantes_reducido)\n",
        "features_importantes_con_scores_reducido.reset_index(inplace = True)\n",
        "features_importantes_con_scores_reducido.rename(columns={'index': 'feature', 0: 'score'},inplace = True)"
      ],
      "execution_count": null,
      "outputs": []
    },
    {
      "cell_type": "code",
      "metadata": {
        "colab": {
          "base_uri": "https://localhost:8080/",
          "height": 363
        },
        "id": "ndrSd6qqWTrZ",
        "outputId": "50dc1002-6b84-4c86-a92c-0f10c96314b1"
      },
      "source": [
        "features_importantes_con_scores_reducido[\"Color\"] = np.where(features_importantes_con_scores_reducido[\"score\"]<0, 'blue', 'orange')\n",
        "features_importantes_con_scores_reducido[\"Signo\"] = np.where(features_importantes_con_scores_reducido['Color'] == 'blue', 'Negativo', 'Positivo')\n",
        "features_importantes_con_scores_reducido['score'] = abs(features_importantes_con_scores_reducido['score'])\n",
        "features_importantes_con_scores_reducido"
      ],
      "execution_count": null,
      "outputs": [
        {
          "output_type": "execute_result",
          "data": {
            "text/html": [
              "<div>\n",
              "<style scoped>\n",
              "    .dataframe tbody tr th:only-of-type {\n",
              "        vertical-align: middle;\n",
              "    }\n",
              "\n",
              "    .dataframe tbody tr th {\n",
              "        vertical-align: top;\n",
              "    }\n",
              "\n",
              "    .dataframe thead th {\n",
              "        text-align: right;\n",
              "    }\n",
              "</style>\n",
              "<table border=\"1\" class=\"dataframe\">\n",
              "  <thead>\n",
              "    <tr style=\"text-align: right;\">\n",
              "      <th></th>\n",
              "      <th>feature</th>\n",
              "      <th>score</th>\n",
              "      <th>Color</th>\n",
              "      <th>Signo</th>\n",
              "    </tr>\n",
              "  </thead>\n",
              "  <tbody>\n",
              "    <tr>\n",
              "      <th>0</th>\n",
              "      <td>id_27_NotFound</td>\n",
              "      <td>0.001449</td>\n",
              "      <td>blue</td>\n",
              "      <td>Negativo</td>\n",
              "    </tr>\n",
              "    <tr>\n",
              "      <th>1</th>\n",
              "      <td>V101</td>\n",
              "      <td>0.001216</td>\n",
              "      <td>orange</td>\n",
              "      <td>Positivo</td>\n",
              "    </tr>\n",
              "    <tr>\n",
              "      <th>2</th>\n",
              "      <td>V103</td>\n",
              "      <td>0.000881</td>\n",
              "      <td>orange</td>\n",
              "      <td>Positivo</td>\n",
              "    </tr>\n",
              "    <tr>\n",
              "      <th>3</th>\n",
              "      <td>V232</td>\n",
              "      <td>0.000866</td>\n",
              "      <td>orange</td>\n",
              "      <td>Positivo</td>\n",
              "    </tr>\n",
              "    <tr>\n",
              "      <th>4</th>\n",
              "      <td>V40</td>\n",
              "      <td>0.000865</td>\n",
              "      <td>orange</td>\n",
              "      <td>Positivo</td>\n",
              "    </tr>\n",
              "    <tr>\n",
              "      <th>5</th>\n",
              "      <td>V79</td>\n",
              "      <td>0.000838</td>\n",
              "      <td>orange</td>\n",
              "      <td>Positivo</td>\n",
              "    </tr>\n",
              "    <tr>\n",
              "      <th>6</th>\n",
              "      <td>V52</td>\n",
              "      <td>0.000837</td>\n",
              "      <td>orange</td>\n",
              "      <td>Positivo</td>\n",
              "    </tr>\n",
              "    <tr>\n",
              "      <th>7</th>\n",
              "      <td>V233</td>\n",
              "      <td>0.000825</td>\n",
              "      <td>orange</td>\n",
              "      <td>Positivo</td>\n",
              "    </tr>\n",
              "    <tr>\n",
              "      <th>8</th>\n",
              "      <td>V81</td>\n",
              "      <td>0.000821</td>\n",
              "      <td>orange</td>\n",
              "      <td>Positivo</td>\n",
              "    </tr>\n",
              "    <tr>\n",
              "      <th>9</th>\n",
              "      <td>V18</td>\n",
              "      <td>0.000820</td>\n",
              "      <td>orange</td>\n",
              "      <td>Positivo</td>\n",
              "    </tr>\n",
              "  </tbody>\n",
              "</table>\n",
              "</div>"
            ],
            "text/plain": [
              "          feature     score   Color     Signo\n",
              "0  id_27_NotFound  0.001449    blue  Negativo\n",
              "1            V101  0.001216  orange  Positivo\n",
              "2            V103  0.000881  orange  Positivo\n",
              "3            V232  0.000866  orange  Positivo\n",
              "4             V40  0.000865  orange  Positivo\n",
              "5             V79  0.000838  orange  Positivo\n",
              "6             V52  0.000837  orange  Positivo\n",
              "7            V233  0.000825  orange  Positivo\n",
              "8             V81  0.000821  orange  Positivo\n",
              "9             V18  0.000820  orange  Positivo"
            ]
          },
          "metadata": {},
          "execution_count": 72
        }
      ]
    },
    {
      "cell_type": "code",
      "metadata": {
        "colab": {
          "base_uri": "https://localhost:8080/",
          "height": 501
        },
        "id": "3Q3ovQiuUfC-",
        "outputId": "af38c5aa-4f34-43dd-e129-4742a6a3b195"
      },
      "source": [
        "plt.figure(dpi = 100)\n",
        "barplot = sns.barplot(x=features_importantes_con_scores_reducido['feature'], y = features_importantes_con_scores_reducido['score'],\n",
        "                      data = features_importantes_con_scores_reducido, palette=features_importantes_con_scores_reducido['Color'], saturation = .65, hue='Signo')\n",
        "barplot.set(xlabel='Feature', ylabel='Score', title = 'Scores obtenidos en los features mas importantes')\n",
        "plt.xticks(rotation = 90)\n",
        "\n",
        "plt.show()"
      ],
      "execution_count": null,
      "outputs": [
        {
          "output_type": "display_data",
          "data": {
            "image/png": "[encoded data removed]",
            "text/plain": [
              "<Figure size 600x400 with 1 Axes>"
            ]
          },
          "metadata": {
            "needs_background": "light"
          }
        }
      ]
    },
    {
      "cell_type": "markdown",
      "metadata": {
        "id": "TR-7VrZFvQuH"
      },
      "source": [
        "##Otros features importantes"
      ]
    },
    {
      "cell_type": "code",
      "metadata": {
        "id": "c4153ti3ILFg"
      },
      "source": [
        "coeficientes_modulo = np.absolute(coeficientes)\n",
        "max_index = (-coeficientes_modulo).argsort()[:80]"
      ],
      "execution_count": null,
      "outputs": []
    },
    {
      "cell_type": "code",
      "metadata": {
        "id": "3bRj-IInIKy4"
      },
      "source": [
        "features_importantes = []\n",
        "scores = []\n",
        "for i in max_index:\n",
        "  features_importantes.append(x_train.columns[i])\n",
        "  scores.append(coeficientes[i])\n",
        "features_importantes_con_scores = pd.DataFrame(scores, features_importantes)"
      ],
      "execution_count": null,
      "outputs": []
    },
    {
      "cell_type": "code",
      "metadata": {
        "id": "mKi_o0U2IQSW"
      },
      "source": [
        "features_importantes_con_scores.reset_index(inplace = True)\n",
        "features_importantes_con_scores.rename(columns={'index': 'feature', 0: 'score'},inplace = True)"
      ],
      "execution_count": null,
      "outputs": []
    },
    {
      "cell_type": "code",
      "metadata": {
        "id": "nKbSqDKLGkaj",
        "colab": {
          "base_uri": "https://localhost:8080/"
        },
        "outputId": "ce357cd1-d33e-4cc6-9128-ee1710ed8349"
      },
      "source": [
        "features_importantes_con_scores['feature'].to_list()"
      ],
      "execution_count": null,
      "outputs": [
        {
          "output_type": "execute_result",
          "data": {
            "text/plain": [
              "['id_27_NotFound',\n",
              " 'V101',\n",
              " 'V103',\n",
              " 'V232',\n",
              " 'V40',\n",
              " 'V79',\n",
              " 'V52',\n",
              " 'V233',\n",
              " 'V81',\n",
              " 'V18',\n",
              " 'M4_M2',\n",
              " 'V17',\n",
              " 'V281',\n",
              " 'C3',\n",
              " 'V27',\n",
              " 'V28',\n",
              " 'V95',\n",
              " 'V33',\n",
              " 'V34',\n",
              " 'V231',\n",
              " 'V80',\n",
              " 'V89',\n",
              " 'V16',\n",
              " 'V15',\n",
              " 'V39',\n",
              " 'V74',\n",
              " 'V51',\n",
              " 'V58',\n",
              " 'V94',\n",
              " 'DeviceType_mobile',\n",
              " 'V93',\n",
              " 'V85',\n",
              " 'V43',\n",
              " 'V73',\n",
              " 'V68',\n",
              " 'V22',\n",
              " 'V177',\n",
              " 'V57',\n",
              " 'V21',\n",
              " 'V92',\n",
              " 'V72',\n",
              " 'V32',\n",
              " 'V31',\n",
              " 'id_15_Unknown',\n",
              " 'V60',\n",
              " 'V102',\n",
              " 'card6_debit or credit',\n",
              " 'V84',\n",
              " 'V219',\n",
              " 'card4_discover',\n",
              " 'V42',\n",
              " 'V64',\n",
              " 'V179',\n",
              " 'V71',\n",
              " 'V59',\n",
              " 'V217',\n",
              " 'V63',\n",
              " 'V239',\n",
              " 'V218',\n",
              " 'V311',\n",
              " 'V50',\n",
              " 'V303',\n",
              " 'V301',\n",
              " 'V147',\n",
              " 'V97',\n",
              " 'V178',\n",
              " 'id_04',\n",
              " 'V106',\n",
              " 'V237',\n",
              " 'V185',\n",
              " 'V236',\n",
              " 'V304',\n",
              " 'card6_credit',\n",
              " 'V167',\n",
              " 'V104',\n",
              " 'V299',\n",
              " 'V238',\n",
              " 'id_37_T',\n",
              " 'V235',\n",
              " 'V302']"
            ]
          },
          "metadata": {},
          "execution_count": 77
        }
      ]
    },
    {
      "cell_type": "markdown",
      "metadata": {
        "id": "zjTxtJF1MzZx"
      },
      "source": [
        "##Score de la competencia"
      ]
    },
    {
      "cell_type": "code",
      "metadata": {
        "id": "SZAVDJTAMzGb"
      },
      "source": [
        "predicciones_fraude = pd.DataFrame()\n",
        "predicciones_fraude['isFraud'] = mejor_modelo.predict_proba(test_set.values)[:,1]\n",
        "predicciones_fraude['TransactionID']= transaction_id.values\n",
        "predicciones_fraude.to_csv('predicciones_fraude.csv', index=False)"
      ],
      "execution_count": null,
      "outputs": []
    },
    {
      "cell_type": "markdown",
      "metadata": {
        "id": "DoxkptchN0FG"
      },
      "source": [
        "<img src= \"https://drive.google.com/uc?id=1HJMXQucSOX6H89IBoxAyNxlL8u_OVF-s\" width=\"100%\">\n"
      ]
    }
  ]
}
