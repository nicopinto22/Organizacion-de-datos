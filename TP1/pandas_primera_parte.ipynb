{
  "nbformat": 4,
  "nbformat_minor": 0,
  "metadata": {
    "colab": {
      "name": "tp1.ipynb",
      "provenance": [],
      "collapsed_sections": [
        "6E1g-yiT_CMO",
        "LeVSmS7VpJZc"
      ]
    },
    "kernelspec": {
      "name": "python3",
      "display_name": "Python 3"
    },
    "language_info": {
      "name": "python"
    }
  },
  "cells": [
    {
      "cell_type": "markdown",
      "metadata": {
        "id": "qoSvZQsfM2B8"
      },
      "source": [
        "# Trabajo Practico 1"
      ]
    },
    {
      "cell_type": "markdown",
      "metadata": {
        "id": "mXcSPbxftTct"
      },
      "source": [
        "Ejercios a entregar: 21 7 20 23 30 57 60"
      ]
    },
    {
      "cell_type": "markdown",
      "metadata": {
        "id": "0vjebb0-GwtZ"
      },
      "source": [
        "##Imports y datasets"
      ]
    },
    {
      "cell_type": "code",
      "metadata": {
        "id": "oAh8R5RwtyrI"
      },
      "source": [
        "import pandas as pd\n",
        "import numpy as np\n",
        "import seaborn as sns\n",
        "import matplotlib.pyplot as plt\n",
        "import nltk\n",
        "import collections\n",
        "from datetime import datetime\n",
        "from string import punctuation\n",
        "from collections import Counter\n",
        "from scipy.special import rel_entr\n",
        "from scipy.special import entr\n",
        "from nltk import word_tokenize\n",
        "from nltk import trigrams\n",
        "from nltk.util import ngrams\n",
        "from pydrive.auth import GoogleAuth\n",
        "from pydrive.drive import GoogleDrive\n",
        "from google.colab import auth\n",
        "from oauth2client.client import GoogleCredentials\n",
        "from sklearn.feature_extraction.text import CountVectorizer\n"
      ],
      "execution_count": null,
      "outputs": []
    },
    {
      "cell_type": "code",
      "metadata": {
        "id": "xrNlxcdBu2pa"
      },
      "source": [
        "auth.authenticate_user()\n",
        "gauth = GoogleAuth()\n",
        "gauth.credentials = GoogleCredentials.get_application_default()\n",
        "drive = GoogleDrive(gauth)"
      ],
      "execution_count": null,
      "outputs": []
    },
    {
      "cell_type": "code",
      "metadata": {
        "id": "Wn6glLPUG-9o"
      },
      "source": [
        "id='12KNPiAF8AsGTLGRSpMUw2XdwYXwSosr3'\n",
        "downloaded = drive.CreateFile({'id': id})\n",
        "downloaded.GetContentFile('geo_tags.csv')\n",
        "geo_tags = pd.read_csv('geo_tags.csv')"
      ],
      "execution_count": null,
      "outputs": []
    },
    {
      "cell_type": "code",
      "metadata": {
        "id": "4tAsJKxuBu1H"
      },
      "source": [
        "id='1Nxk1FhbEpwAqM9070I-0ESVa4wKEVMaB'\n",
        "downloaded = drive.CreateFile({'id': id})\n",
        "downloaded.GetContentFile('contents.csv')\n",
        "contents = pd.read_csv('contents.csv')"
      ],
      "execution_count": null,
      "outputs": []
    },
    {
      "cell_type": "code",
      "metadata": {
        "id": "bVY6GWfVit0R"
      },
      "source": [
        "id= '1RILGHMiAuB3n3Nc1n1cHshOR4QkQLDmb'\n",
        "downloaded = drive.CreateFile({'id': id})\n",
        "downloaded.GetContentFile('languages.csv')\n",
        "languages = pd.read_csv('languages.csv')"
      ],
      "execution_count": null,
      "outputs": []
    },
    {
      "cell_type": "code",
      "metadata": {
        "colab": {
          "base_uri": "https://localhost:8080/"
        },
        "id": "40uQkIXsDn-m",
        "outputId": "30f2d1a1-0ea2-4bd5-ad46-a67ab61e1190"
      },
      "source": [
        "id='1E1HtTbXVdwJJW7Z7XeyMf9H-GQVgD0OK'\n",
        "downloaded = drive.CreateFile({'id': id})\n",
        "downloaded.GetContentFile('logs.csv')\n",
        "logs = pd.read_csv('logs.csv',dtype={'comment':\"string\"})"
      ],
      "execution_count": null,
      "outputs": [
        {
          "output_type": "stream",
          "name": "stderr",
          "text": [
            "/usr/local/lib/python3.7/dist-packages/IPython/core/interactiveshell.py:2718: DtypeWarning: Columns (4) have mixed types.Specify dtype option on import or set low_memory=False.\n",
            "  interactivity=interactivity, compiler=compiler, result=result)\n"
          ]
        }
      ]
    },
    {
      "cell_type": "code",
      "metadata": {
        "id": "Vwz_ix0HnozU"
      },
      "source": [
        "id='14B07LGSE60-P423xMrTVQAzGvLXsqm_2'\n",
        "downloaded = drive.CreateFile({'id': id})\n",
        "downloaded.GetContentFile('contents_sample.csv')\n",
        "contents_sample = pd.read_csv('contents_sample.csv')"
      ],
      "execution_count": null,
      "outputs": []
    },
    {
      "cell_type": "markdown",
      "metadata": {
        "id": "6E1g-yiT_CMO"
      },
      "source": [
        "## 21) ¿Dónde está la referencia geográfica más repetida en la tierra de toda la Wikipedia\n",
        "Español?"
      ]
    },
    {
      "cell_type": "markdown",
      "metadata": {
        "id": "fRwYsbr0VlGT"
      },
      "source": [
        ""
      ]
    },
    {
      "cell_type": "markdown",
      "metadata": {
        "id": "JeDWVSWYAAoc"
      },
      "source": [
        "Asumo que la referencia geografica es una ubicacion con una respectiva latitud y longitud y busco la latitud y longitud mas repetida"
      ]
    },
    {
      "cell_type": "code",
      "metadata": {
        "colab": {
          "base_uri": "https://localhost:8080/"
        },
        "id": "xd8TWg1FWigV",
        "outputId": "1641281a-8b98-4d0d-c35d-a947408b6d70"
      },
      "source": [
        "geo_tags_earth = geo_tags[geo_tags['gt_globe']=='earth']\n",
        "ordenado_por_referencias = pd.DataFrame(geo_tags_earth.value_counts(['gt_lat','gt_lon']))\n",
        "ordenado_por_referencias.reset_index(inplace = True)\n",
        "mas_repetida = ordenado_por_referencias.iloc[0]\n",
        "print(f\"La referencia geografica mas repetida esta en latitud: {mas_repetida['gt_lat']}, longitud: {mas_repetida['gt_lon']} y se repite un total de {mas_repetida[0]} veces\")"
      ],
      "execution_count": null,
      "outputs": [
        {
          "output_type": "stream",
          "name": "stdout",
          "text": [
            "La referencia geografica mas repetida esta en latitud: -30.5, longitud: -64.5 y se repite un total de 255.0 veces\n"
          ]
        }
      ]
    },
    {
      "cell_type": "markdown",
      "metadata": {
        "id": "jcqweBFO5Rkt"
      },
      "source": [
        "## 7) La antigüedad promedio de la última edición de los artículos cuyo título contenga tu apellido (si no hay, tu nombre y si tampoco hay usa Cafferata)"
      ]
    },
    {
      "cell_type": "markdown",
      "metadata": {
        "id": "Cq1HYBpUaidt"
      },
      "source": [
        "Veo cuantos titulos son nulos y los saco del dataframe"
      ]
    },
    {
      "cell_type": "code",
      "metadata": {
        "id": "5LkTTHHEh06H",
        "colab": {
          "base_uri": "https://localhost:8080/",
          "height": 357
        },
        "outputId": "8e7d9955-b756-4fd2-80c7-2878133afa2a"
      },
      "source": [
        "dfNulos = pd.DataFrame({'Cantidad de nulos': contents.isnull().sum(), 'Porcentaje de nulos': (contents.isnull().mean() * 100)})\n",
        "dfNulos"
      ],
      "execution_count": null,
      "outputs": [
        {
          "output_type": "execute_result",
          "data": {
            "text/html": [
              "<div>\n",
              "<style scoped>\n",
              "    .dataframe tbody tr th:only-of-type {\n",
              "        vertical-align: middle;\n",
              "    }\n",
              "\n",
              "    .dataframe tbody tr th {\n",
              "        vertical-align: top;\n",
              "    }\n",
              "\n",
              "    .dataframe thead th {\n",
              "        text-align: right;\n",
              "    }\n",
              "</style>\n",
              "<table border=\"1\" class=\"dataframe\">\n",
              "  <thead>\n",
              "    <tr style=\"text-align: right;\">\n",
              "      <th></th>\n",
              "      <th>Cantidad de nulos</th>\n",
              "      <th>Porcentaje de nulos</th>\n",
              "    </tr>\n",
              "  </thead>\n",
              "  <tbody>\n",
              "    <tr>\n",
              "      <th>title</th>\n",
              "      <td>4</td>\n",
              "      <td>0.000097</td>\n",
              "    </tr>\n",
              "    <tr>\n",
              "      <th>id</th>\n",
              "      <td>0</td>\n",
              "      <td>0.000000</td>\n",
              "    </tr>\n",
              "    <tr>\n",
              "      <th>namespace</th>\n",
              "      <td>0</td>\n",
              "      <td>0.000000</td>\n",
              "    </tr>\n",
              "    <tr>\n",
              "      <th>revision_id</th>\n",
              "      <td>0</td>\n",
              "      <td>0.000000</td>\n",
              "    </tr>\n",
              "    <tr>\n",
              "      <th>parent_revision</th>\n",
              "      <td>1483218</td>\n",
              "      <td>35.894461</td>\n",
              "    </tr>\n",
              "    <tr>\n",
              "      <th>revision_timestamp</th>\n",
              "      <td>0</td>\n",
              "      <td>0.000000</td>\n",
              "    </tr>\n",
              "    <tr>\n",
              "      <th>revisor_username</th>\n",
              "      <td>193287</td>\n",
              "      <td>4.677622</td>\n",
              "    </tr>\n",
              "    <tr>\n",
              "      <th>revisor_id</th>\n",
              "      <td>193287</td>\n",
              "      <td>4.677622</td>\n",
              "    </tr>\n",
              "    <tr>\n",
              "      <th>revisor_ip</th>\n",
              "      <td>3938878</td>\n",
              "      <td>95.322402</td>\n",
              "    </tr>\n",
              "    <tr>\n",
              "      <th>revisor_comment</th>\n",
              "      <td>469224</td>\n",
              "      <td>11.355406</td>\n",
              "    </tr>\n",
              "  </tbody>\n",
              "</table>\n",
              "</div>"
            ],
            "text/plain": [
              "                    Cantidad de nulos  Porcentaje de nulos\n",
              "title                               4             0.000097\n",
              "id                                  0             0.000000\n",
              "namespace                           0             0.000000\n",
              "revision_id                         0             0.000000\n",
              "parent_revision               1483218            35.894461\n",
              "revision_timestamp                  0             0.000000\n",
              "revisor_username               193287             4.677622\n",
              "revisor_id                     193287             4.677622\n",
              "revisor_ip                    3938878            95.322402\n",
              "revisor_comment                469224            11.355406"
            ]
          },
          "metadata": {},
          "execution_count": 9
        }
      ]
    },
    {
      "cell_type": "code",
      "metadata": {
        "id": "huOI7N8pij22"
      },
      "source": [
        "contents.dropna(subset=['title'],inplace=True)"
      ],
      "execution_count": null,
      "outputs": []
    },
    {
      "cell_type": "markdown",
      "metadata": {
        "id": "-1Qx_1Y2b71q"
      },
      "source": [
        "Me quedo con los elementos del dataframe que contienen el apellido y con las columnas que voy a utilizar, luego para hallar la antiguedad resto la fecha actual con la fecha que fue publicado el contenido y tomo el promedio"
      ]
    },
    {
      "cell_type": "code",
      "metadata": {
        "id": "mmcizl5m6RMq",
        "colab": {
          "base_uri": "https://localhost:8080/"
        },
        "outputId": "cf42b1ea-464a-48ad-9685-570f3d0a42e3"
      },
      "source": [
        "contents_reducido = contents.loc[contents['title'].str.contains(\"Cafferata\"), ['title','revision_timestamp']].reset_index(drop=True) \n",
        "fecha_actual = pd.to_datetime(\"now\",utc=True)\n",
        "contents_reducido['antiguedad'] = fecha_actual - pd.to_datetime(contents_reducido.revision_timestamp)\n",
        "promedio_antiguedad = contents_reducido.antiguedad.mean()\n",
        "print(\"The average is\", promedio_antiguedad)"
      ],
      "execution_count": null,
      "outputs": [
        {
          "output_type": "stream",
          "name": "stdout",
          "text": [
            "The average is 980 days 04:26:12.552664672\n"
          ]
        }
      ]
    },
    {
      "cell_type": "markdown",
      "metadata": {
        "id": "eh0ImB6pBgUM"
      },
      "source": [
        "## 23)¿Qué porcentaje de los contenidos contienen a su mismo título en el texto?"
      ]
    },
    {
      "cell_type": "code",
      "metadata": {
        "id": "VveJMx8Uor7J"
      },
      "source": [
        "contents_sample.dropna(subset=['text'],inplace=True)"
      ],
      "execution_count": null,
      "outputs": []
    },
    {
      "cell_type": "markdown",
      "metadata": {
        "id": "cRYgbzD9dkyz"
      },
      "source": [
        "Paso todo a minusculas y armo una serie booleana con los que tienen al titulo en su texto, despues tomo porcentaje"
      ]
    },
    {
      "cell_type": "code",
      "metadata": {
        "id": "F4YcVejInZcc",
        "colab": {
          "base_uri": "https://localhost:8080/"
        },
        "outputId": "131eeb20-2890-48f1-9e6d-16c2ea1b728b"
      },
      "source": [
        "titulo_en_texto = contents_sample.apply(lambda row: row['title'].lower() in row['text'].lower(), axis=1)\n",
        "porcentaje = titulo_en_texto.mean()*100\n",
        "print(\"El porcentaje es \", porcentaje)"
      ],
      "execution_count": null,
      "outputs": [
        {
          "output_type": "stream",
          "name": "stdout",
          "text": [
            "El porcentaje es  38.3809293320426\n"
          ]
        }
      ]
    },
    {
      "cell_type": "markdown",
      "metadata": {
        "id": "v1RyxGHOq4sa"
      },
      "source": [
        "## 30)  La 3-upla de palabras más común en los comentarios de los logs"
      ]
    },
    {
      "cell_type": "markdown",
      "metadata": {
        "id": "D6m13RPJfPtF"
      },
      "source": [
        "Saque los comentarios nulos ya que logicamente no servian, luego tome una sample de comentarios de 500000 por falta de RAM. Hice mi propia lista para poder tokenizar los textos, sacando algunos simbolos y despues aplique word tokenize para tener las palabras separadas"
      ]
    },
    {
      "cell_type": "code",
      "metadata": {
        "id": "RkprD-YXJCm2"
      },
      "source": [
        "comments = pd.DataFrame(logs.comment)\n",
        "comments.dropna(subset=['comment'],inplace=True)"
      ],
      "execution_count": null,
      "outputs": []
    },
    {
      "cell_type": "code",
      "metadata": {
        "id": "Ai8b2mJ1eufx"
      },
      "source": [
        "serie_sample = comments['comment'].sample(500000)"
      ],
      "execution_count": null,
      "outputs": []
    },
    {
      "cell_type": "code",
      "metadata": {
        "id": "0wGTydKXRjUJ"
      },
      "source": [
        "lista = [\"[\", \"]\", \"'\", \"{\", \"}\", \"#\", \"|\", \":\", \";\", \"&\", \"*\", \".\", \"(\", \")\", \"=\", \"%\", \"$\", \"/\", \"«\", \"»\", \",\", \"``\", \"--\", \"-\", \">\", \"<\", \"?\",\"``\"]\n",
        "for x in lista:\n",
        "  serie_sample = serie_sample.str.replace(x, \" \")\n"
      ],
      "execution_count": null,
      "outputs": []
    },
    {
      "cell_type": "markdown",
      "metadata": {
        "id": "WvF7MZekiVcS"
      },
      "source": [
        "Tokenizo la serie para tener todos los comentarios separados por palabras"
      ]
    },
    {
      "cell_type": "code",
      "metadata": {
        "id": "T-Do3VSIj6HI",
        "colab": {
          "base_uri": "https://localhost:8080/"
        },
        "outputId": "aae83777-9b1b-4cbb-d274-e2379adb0dfe"
      },
      "source": [
        "#nltk.download('punkt')"
      ],
      "execution_count": null,
      "outputs": [
        {
          "output_type": "stream",
          "name": "stdout",
          "text": [
            "[nltk_data] Downloading package punkt to /root/nltk_data...\n",
            "[nltk_data]   Unzipping tokenizers/punkt.zip.\n"
          ]
        },
        {
          "output_type": "execute_result",
          "data": {
            "text/plain": [
              "True"
            ]
          },
          "metadata": {},
          "execution_count": 17
        }
      ]
    },
    {
      "cell_type": "code",
      "metadata": {
        "id": "PjawdeljQBSF"
      },
      "source": [
        "serie_tokenizada = serie_sample.apply(word_tokenize)\n",
        "dataframe_tokenizado = pd.DataFrame(serie_tokenizada)"
      ],
      "execution_count": null,
      "outputs": []
    },
    {
      "cell_type": "markdown",
      "metadata": {
        "id": "A2IkmJCXfs1e"
      },
      "source": [
        "Busco los ngramas y los coloco en un Counter, y de ahi busco el mas repetido"
      ]
    },
    {
      "cell_type": "code",
      "metadata": {
        "id": "OQ4kCA49GcLf",
        "colab": {
          "base_uri": "https://localhost:8080/"
        },
        "outputId": "ca3c619c-55f2-4bcc-f685-892582fba172"
      },
      "source": [
        "contador = Counter()\n",
        "for x in dataframe_tokenizado['comment']:\n",
        "  if len(x)>1:\n",
        "    contador.update(list(ngrams(x,3)))\n",
        "print(\"La triupla mas comun es\", contador.most_common(1))"
      ],
      "execution_count": null,
      "outputs": [
        {
          "output_type": "stream",
          "name": "stdout",
          "text": [
            "La triupla mas comun es [(('el', 'contenido', 'era'), 106512)]\n"
          ]
        }
      ]
    },
    {
      "cell_type": "markdown",
      "metadata": {
        "id": "LeVSmS7VpJZc"
      },
      "source": [
        "## 20)¿Cuál es el segundo contenido con más referencias geográficas asignadas?"
      ]
    },
    {
      "cell_type": "markdown",
      "metadata": {
        "id": "59yY7ny5kmcr"
      },
      "source": [
        "Me quedo unicamente con los ids de geo tags que estan en contents, luego veo los ids de referencias geograficas en contenidos que mas se repitan y devuelvo el titulo del mas repetido"
      ]
    },
    {
      "cell_type": "code",
      "metadata": {
        "id": "avZnnD5W1DGE"
      },
      "source": [
        "geo_tags_en_contents = geo_tags['gt_page_id'].isin(contents['id'])\n",
        "geo_tags_filtrado = geo_tags[geo_tags_en_contents]"
      ],
      "execution_count": null,
      "outputs": []
    },
    {
      "cell_type": "code",
      "metadata": {
        "colab": {
          "base_uri": "https://localhost:8080/"
        },
        "id": "pjtlnR7JlpZ9",
        "outputId": "672e4b31-e5f4-44e7-d868-3a512d27fff6"
      },
      "source": [
        "id_contenidos = geo_tags_filtrado.value_counts(['gt_page_id'])\n",
        "id_mas_contenidos = id_contenidos.index[1][0]\n",
        "mas_repetido = contents.loc[contents['id']==id_mas_contenidos,'title'].reset_index(drop=True)\n",
        "print(\"El segundo contenido con mas referencias geograficas es\",mas_repetido[0])"
      ],
      "execution_count": null,
      "outputs": [
        {
          "output_type": "stream",
          "name": "stdout",
          "text": [
            "El segundo contenido con mas referencias geograficas es Wikiproyecto:Madrid/Artículos/Wikidata\n"
          ]
        }
      ]
    },
    {
      "cell_type": "markdown",
      "metadata": {
        "id": "34lS1qvkAtOp"
      },
      "source": [
        "## 57). Calcule la probabilidad de que una acción en general se realice según día de la semana. Calcule también para los días de la semana la probabilidad de que la última edición de un contenido sea realizada ese día. Calcule la entropía de ambas y la divergencia de Kullback Leibler entre ellas."
      ]
    },
    {
      "cell_type": "markdown",
      "metadata": {
        "id": "h6hV0bQioHeA"
      },
      "source": [
        "Saco las acciones nulas, y creo una nueva columna que contenga en que dia de la semana se realizo cada accion"
      ]
    },
    {
      "cell_type": "code",
      "metadata": {
        "id": "ppKuIk8ztf39"
      },
      "source": [
        "logs.dropna(subset=['action'],inplace=True)"
      ],
      "execution_count": null,
      "outputs": []
    },
    {
      "cell_type": "code",
      "metadata": {
        "id": "3zeunildA3LB"
      },
      "source": [
        "logs['timestamp'] = pd.to_datetime(logs['timestamp']) \n",
        "logs['weekday'] = logs.agg({'timestamp':datetime.weekday})  \n"
      ],
      "execution_count": null,
      "outputs": []
    },
    {
      "cell_type": "markdown",
      "metadata": {
        "id": "wlzFk6cGpSRg"
      },
      "source": [
        "Cuento cuantas acciones se realizaron por dia de semana"
      ]
    },
    {
      "cell_type": "markdown",
      "metadata": {
        "id": "FTV9eWXPpc-D"
      },
      "source": [
        "Creo una nueva columna que contenga la probabilidad de que cada accion se realice en cada dia de la semana, divido las acciones de cada dia por el total de acciones"
      ]
    },
    {
      "cell_type": "code",
      "metadata": {
        "colab": {
          "base_uri": "https://localhost:8080/"
        },
        "id": "fYnFZNV8lFzw",
        "outputId": "132b9a45-a697-451f-d7b5-f2d2bb67dff8"
      },
      "source": [
        "ediciones_por_dia = logs['weekday'].value_counts()\n",
        "probabilidad_acciones = (ediciones_por_dia)/np.asarray(ediciones_por_dia.sum())\n",
        "probabilidad_acciones"
      ],
      "execution_count": null,
      "outputs": [
        {
          "output_type": "execute_result",
          "data": {
            "text/plain": [
              "6    0.159515\n",
              "1    0.148865\n",
              "2    0.148164\n",
              "0    0.145012\n",
              "3    0.144631\n",
              "4    0.132325\n",
              "5    0.121488\n",
              "Name: weekday, dtype: float64"
            ]
          },
          "metadata": {},
          "execution_count": 24
        }
      ]
    },
    {
      "cell_type": "markdown",
      "metadata": {
        "id": "86SIj505hTfu"
      },
      "source": [
        "Ahora calculo la otra probabilidad que piden de manera analoga"
      ]
    },
    {
      "cell_type": "code",
      "metadata": {
        "id": "AHHXULOXUw-s"
      },
      "source": [
        "contents['revision_timestamp'] = pd.to_datetime(contents['revision_timestamp'])  \n",
        "contents['weekday'] = contents.agg({'revision_timestamp':datetime.weekday})     "
      ],
      "execution_count": null,
      "outputs": []
    },
    {
      "cell_type": "markdown",
      "metadata": {
        "id": "kkDrVL_phhH1"
      },
      "source": [
        "Veo cuantas ediciones se hicieron por dia y saco la probabilidad"
      ]
    },
    {
      "cell_type": "code",
      "metadata": {
        "colab": {
          "base_uri": "https://localhost:8080/"
        },
        "id": "EozBD3wyjE8v",
        "outputId": "469587e0-be32-4a6e-ad46-f8ee85e04dbd"
      },
      "source": [
        "ediciones_por_dia = contents['weekday'].value_counts()\n",
        "probabilidad_ediciones = (ediciones_por_dia)/np.asarray(ediciones_por_dia.sum())\n",
        "probabilidad_ediciones"
      ],
      "execution_count": null,
      "outputs": [
        {
          "output_type": "execute_result",
          "data": {
            "text/plain": [
              "1    0.154101\n",
              "0    0.151421\n",
              "3    0.149396\n",
              "2    0.149237\n",
              "6    0.132654\n",
              "5    0.132125\n",
              "4    0.131066\n",
              "Name: weekday, dtype: float64"
            ]
          },
          "metadata": {},
          "execution_count": 26
        }
      ]
    },
    {
      "cell_type": "code",
      "metadata": {
        "id": "WTXxnX3VhbRT",
        "colab": {
          "base_uri": "https://localhost:8080/"
        },
        "outputId": "dc7b45a5-ea76-4373-99ae-da431d40b916"
      },
      "source": [
        "divergencia = rel_entr(probabilidad_ediciones, probabilidad_acciones)\n",
        "print (\"La divergencia es\",divergencia.sum())"
      ],
      "execution_count": null,
      "outputs": [
        {
          "output_type": "stream",
          "name": "stdout",
          "text": [
            "La divergencia es 0.0031711468019571983\n"
          ]
        }
      ]
    },
    {
      "cell_type": "code",
      "metadata": {
        "id": "TLXeSwzZpIib",
        "colab": {
          "base_uri": "https://localhost:8080/"
        },
        "outputId": "b20a7133-b580-46b1-ccf4-26721badefef"
      },
      "source": [
        "divergencia = rel_entr(probabilidad_acciones, probabilidad_ediciones)\n",
        "print (\"La divergencia es\",divergencia.sum())"
      ],
      "execution_count": null,
      "outputs": [
        {
          "output_type": "stream",
          "name": "stdout",
          "text": [
            "La divergencia es 0.0033069182785994966\n"
          ]
        }
      ]
    },
    {
      "cell_type": "code",
      "metadata": {
        "id": "EwHgIcpIn5b2",
        "colab": {
          "base_uri": "https://localhost:8080/"
        },
        "outputId": "6bb83e5d-478b-4690-ebbe-10173a5bc325"
      },
      "source": [
        "entropia_acciones = entr(probabilidad_acciones)\n",
        "print (\"La entropia de las acciones es\",entropia_acciones.sum())"
      ],
      "execution_count": null,
      "outputs": [
        {
          "output_type": "stream",
          "name": "stdout",
          "text": [
            "La entropia de las acciones es 1.9426429437598134\n"
          ]
        }
      ]
    },
    {
      "cell_type": "code",
      "metadata": {
        "id": "DCgspdAKoM5T",
        "colab": {
          "base_uri": "https://localhost:8080/"
        },
        "outputId": "8157d3a7-62ed-4cde-9ff4-53463558a697"
      },
      "source": [
        "entropia_ediciones = entr(probabilidad_ediciones)\n",
        "print (\"La entropia de las ediciones es\",entropia_ediciones.sum())"
      ],
      "execution_count": null,
      "outputs": [
        {
          "output_type": "stream",
          "name": "stdout",
          "text": [
            "La entropia de las ediciones es 1.943651772615871\n"
          ]
        }
      ]
    },
    {
      "cell_type": "markdown",
      "metadata": {
        "id": "fX7wHDTutRGl"
      },
      "source": [
        "## 60) . Si decimos que un usuario sabe un idioma cuando tiene un nivel de babel mayor o igual a 1, para aquellos que editaron una de las versiones actuales del contenido, ¿Cuál es la cantidad de agradecimientos promedio que reciben en función de los idiomas que saben?"
      ]
    },
    {
      "cell_type": "markdown",
      "metadata": {
        "id": "WMI2Q3pal2uU"
      },
      "source": [
        "Como no especifica que pasa para los usuarios que tienen N(nativo) en el nivel de babel, lo tomo como que tambien saben ese idioma, asique los agregue, luego filtro los que tienen nivel en cero y me quedo solamente que esten en contents"
      ]
    },
    {
      "cell_type": "code",
      "metadata": {
        "id": "I_7_HEvkk7vp"
      },
      "source": [
        "languages.loc[languages['babel_level'] == 'N', 'babel_level'] = 1\n",
        "usuarios_con_idioma = languages.loc[(languages[('babel_level')]).astype('int')>0,:]\n",
        "esta_en_contents = usuarios_con_idioma['babel_user'].isin(contents['revisor_id'])\n",
        "usuarios_en_contents = usuarios_con_idioma[esta_en_contents]                "
      ],
      "execution_count": null,
      "outputs": []
    },
    {
      "cell_type": "markdown",
      "metadata": {
        "id": "xCgxDJA_mdFM"
      },
      "source": [
        "Agrupo estos usuarios y cuento cuantos idiomas sabe cada uno"
      ]
    },
    {
      "cell_type": "code",
      "metadata": {
        "id": "dkMSPU62-MRK",
        "colab": {
          "base_uri": "https://localhost:8080/",
          "height": 447
        },
        "outputId": "e88f9dae-fce9-4b0e-9463-2fdcde35ba58"
      },
      "source": [
        "usuarios_agrupados_por_lenguaje = usuarios_en_contents.groupby('babel_user').agg({'babel_lang':'count'})  \n",
        "usuarios_agrupados_por_lenguaje.rename(columns={'babel_lang': 'cantidad_de_idiomas'},inplace=True) \n",
        "usuarios_agrupados_por_lenguaje"
      ],
      "execution_count": null,
      "outputs": [
        {
          "output_type": "execute_result",
          "data": {
            "text/html": [
              "<div>\n",
              "<style scoped>\n",
              "    .dataframe tbody tr th:only-of-type {\n",
              "        vertical-align: middle;\n",
              "    }\n",
              "\n",
              "    .dataframe tbody tr th {\n",
              "        vertical-align: top;\n",
              "    }\n",
              "\n",
              "    .dataframe thead th {\n",
              "        text-align: right;\n",
              "    }\n",
              "</style>\n",
              "<table border=\"1\" class=\"dataframe\">\n",
              "  <thead>\n",
              "    <tr style=\"text-align: right;\">\n",
              "      <th></th>\n",
              "      <th>cantidad_de_idiomas</th>\n",
              "    </tr>\n",
              "    <tr>\n",
              "      <th>babel_user</th>\n",
              "      <th></th>\n",
              "    </tr>\n",
              "  </thead>\n",
              "  <tbody>\n",
              "    <tr>\n",
              "      <th>30</th>\n",
              "      <td>9</td>\n",
              "    </tr>\n",
              "    <tr>\n",
              "      <th>38</th>\n",
              "      <td>2</td>\n",
              "    </tr>\n",
              "    <tr>\n",
              "      <th>311</th>\n",
              "      <td>6</td>\n",
              "    </tr>\n",
              "    <tr>\n",
              "      <th>322</th>\n",
              "      <td>3</td>\n",
              "    </tr>\n",
              "    <tr>\n",
              "      <th>373</th>\n",
              "      <td>7</td>\n",
              "    </tr>\n",
              "    <tr>\n",
              "      <th>...</th>\n",
              "      <td>...</td>\n",
              "    </tr>\n",
              "    <tr>\n",
              "      <th>6306637</th>\n",
              "      <td>1</td>\n",
              "    </tr>\n",
              "    <tr>\n",
              "      <th>6315666</th>\n",
              "      <td>1</td>\n",
              "    </tr>\n",
              "    <tr>\n",
              "      <th>6318249</th>\n",
              "      <td>3</td>\n",
              "    </tr>\n",
              "    <tr>\n",
              "      <th>6327193</th>\n",
              "      <td>2</td>\n",
              "    </tr>\n",
              "    <tr>\n",
              "      <th>6331490</th>\n",
              "      <td>3</td>\n",
              "    </tr>\n",
              "  </tbody>\n",
              "</table>\n",
              "<p>4631 rows × 1 columns</p>\n",
              "</div>"
            ],
            "text/plain": [
              "            cantidad_de_idiomas\n",
              "babel_user                     \n",
              "30                            9\n",
              "38                            2\n",
              "311                           6\n",
              "322                           3\n",
              "373                           7\n",
              "...                         ...\n",
              "6306637                       1\n",
              "6315666                       1\n",
              "6318249                       3\n",
              "6327193                       2\n",
              "6331490                       3\n",
              "\n",
              "[4631 rows x 1 columns]"
            ]
          },
          "metadata": {},
          "execution_count": 32
        }
      ]
    },
    {
      "cell_type": "markdown",
      "metadata": {
        "id": "Seq9OUOdnsE9"
      },
      "source": [
        "Ahora me quedo con todos los usuarios que hayan hecho al menos una revision en contents"
      ]
    },
    {
      "cell_type": "code",
      "metadata": {
        "id": "4Ehkf_2x_zHe",
        "colab": {
          "base_uri": "https://localhost:8080/",
          "height": 417
        },
        "outputId": "4cea2aaa-cdbd-4035-8143-ca9547a90e33"
      },
      "source": [
        "contents_reducido = contents[['revisor_id','revisor_username']].copy()\n",
        "contents_reducido.dropna(subset=['revisor_id'],inplace=True)\n",
        "contents_reducido.drop_duplicates(inplace=True)\n",
        "contents_reducido       "
      ],
      "execution_count": null,
      "outputs": [
        {
          "output_type": "execute_result",
          "data": {
            "text/html": [
              "<div>\n",
              "<style scoped>\n",
              "    .dataframe tbody tr th:only-of-type {\n",
              "        vertical-align: middle;\n",
              "    }\n",
              "\n",
              "    .dataframe tbody tr th {\n",
              "        vertical-align: top;\n",
              "    }\n",
              "\n",
              "    .dataframe thead th {\n",
              "        text-align: right;\n",
              "    }\n",
              "</style>\n",
              "<table border=\"1\" class=\"dataframe\">\n",
              "  <thead>\n",
              "    <tr style=\"text-align: right;\">\n",
              "      <th></th>\n",
              "      <th>revisor_id</th>\n",
              "      <th>revisor_username</th>\n",
              "    </tr>\n",
              "  </thead>\n",
              "  <tbody>\n",
              "    <tr>\n",
              "      <th>0</th>\n",
              "      <td>1708233.0</td>\n",
              "      <td>Metrónomo</td>\n",
              "    </tr>\n",
              "    <tr>\n",
              "      <th>2</th>\n",
              "      <td>4642283.0</td>\n",
              "      <td>Traitrich</td>\n",
              "    </tr>\n",
              "    <tr>\n",
              "      <th>3</th>\n",
              "      <td>5338508.0</td>\n",
              "      <td>Lojwe</td>\n",
              "    </tr>\n",
              "    <tr>\n",
              "      <th>4</th>\n",
              "      <td>3615366.0</td>\n",
              "      <td>Jialxv</td>\n",
              "    </tr>\n",
              "    <tr>\n",
              "      <th>5</th>\n",
              "      <td>689866.0</td>\n",
              "      <td>PatriHorrillo</td>\n",
              "    </tr>\n",
              "    <tr>\n",
              "      <th>...</th>\n",
              "      <td>...</td>\n",
              "      <td>...</td>\n",
              "    </tr>\n",
              "    <tr>\n",
              "      <th>4131723</th>\n",
              "      <td>6332400.0</td>\n",
              "      <td>Templajaen</td>\n",
              "    </tr>\n",
              "    <tr>\n",
              "      <th>4131771</th>\n",
              "      <td>6291332.0</td>\n",
              "      <td>Islasazules</td>\n",
              "    </tr>\n",
              "    <tr>\n",
              "      <th>4131957</th>\n",
              "      <td>6331508.0</td>\n",
              "      <td>BlockchainWolf</td>\n",
              "    </tr>\n",
              "    <tr>\n",
              "      <th>4132053</th>\n",
              "      <td>6252228.0</td>\n",
              "      <td>Pommelito crazy</td>\n",
              "    </tr>\n",
              "    <tr>\n",
              "      <th>4132118</th>\n",
              "      <td>6209030.0</td>\n",
              "      <td>Andres Cuesta Guerra</td>\n",
              "    </tr>\n",
              "  </tbody>\n",
              "</table>\n",
              "<p>44537 rows × 2 columns</p>\n",
              "</div>"
            ],
            "text/plain": [
              "         revisor_id      revisor_username\n",
              "0         1708233.0             Metrónomo\n",
              "2         4642283.0             Traitrich\n",
              "3         5338508.0                 Lojwe\n",
              "4         3615366.0                Jialxv\n",
              "5          689866.0         PatriHorrillo\n",
              "...             ...                   ...\n",
              "4131723   6332400.0            Templajaen\n",
              "4131771   6291332.0           Islasazules\n",
              "4131957   6331508.0        BlockchainWolf\n",
              "4132053   6252228.0       Pommelito crazy\n",
              "4132118   6209030.0  Andres Cuesta Guerra\n",
              "\n",
              "[44537 rows x 2 columns]"
            ]
          },
          "metadata": {},
          "execution_count": 33
        }
      ]
    },
    {
      "cell_type": "markdown",
      "metadata": {
        "id": "boY6vCc9uXOt"
      },
      "source": [
        "Junto todos los que hayan hecho una revision con los que tienen nivel de babel mayor a 1 o nativos"
      ]
    },
    {
      "cell_type": "code",
      "metadata": {
        "id": "7_CNQ0QeRdGZ",
        "colab": {
          "base_uri": "https://localhost:8080/",
          "height": 417
        },
        "outputId": "eda47250-474b-43de-90a1-7e25a1ebaf28"
      },
      "source": [
        "contents_con_idiomas = pd.merge(left=contents_reducido, right=usuarios_agrupados_por_lenguaje, left_on='revisor_id', right_on='babel_user')\n",
        "contents_con_idiomas"
      ],
      "execution_count": null,
      "outputs": [
        {
          "output_type": "execute_result",
          "data": {
            "text/html": [
              "<div>\n",
              "<style scoped>\n",
              "    .dataframe tbody tr th:only-of-type {\n",
              "        vertical-align: middle;\n",
              "    }\n",
              "\n",
              "    .dataframe tbody tr th {\n",
              "        vertical-align: top;\n",
              "    }\n",
              "\n",
              "    .dataframe thead th {\n",
              "        text-align: right;\n",
              "    }\n",
              "</style>\n",
              "<table border=\"1\" class=\"dataframe\">\n",
              "  <thead>\n",
              "    <tr style=\"text-align: right;\">\n",
              "      <th></th>\n",
              "      <th>revisor_id</th>\n",
              "      <th>revisor_username</th>\n",
              "      <th>cantidad_de_idiomas</th>\n",
              "    </tr>\n",
              "  </thead>\n",
              "  <tbody>\n",
              "    <tr>\n",
              "      <th>0</th>\n",
              "      <td>4642283.0</td>\n",
              "      <td>Traitrich</td>\n",
              "      <td>5</td>\n",
              "    </tr>\n",
              "    <tr>\n",
              "      <th>1</th>\n",
              "      <td>3615366.0</td>\n",
              "      <td>Jialxv</td>\n",
              "      <td>4</td>\n",
              "    </tr>\n",
              "    <tr>\n",
              "      <th>2</th>\n",
              "      <td>689866.0</td>\n",
              "      <td>PatriHorrillo</td>\n",
              "      <td>3</td>\n",
              "    </tr>\n",
              "    <tr>\n",
              "      <th>3</th>\n",
              "      <td>6048511.0</td>\n",
              "      <td>LOLAOMI</td>\n",
              "      <td>1</td>\n",
              "    </tr>\n",
              "    <tr>\n",
              "      <th>4</th>\n",
              "      <td>936194.0</td>\n",
              "      <td>Jkbw</td>\n",
              "      <td>5</td>\n",
              "    </tr>\n",
              "    <tr>\n",
              "      <th>...</th>\n",
              "      <td>...</td>\n",
              "      <td>...</td>\n",
              "      <td>...</td>\n",
              "    </tr>\n",
              "    <tr>\n",
              "      <th>4626</th>\n",
              "      <td>1495557.0</td>\n",
              "      <td>Rafamol</td>\n",
              "      <td>6</td>\n",
              "    </tr>\n",
              "    <tr>\n",
              "      <th>4627</th>\n",
              "      <td>6116537.0</td>\n",
              "      <td>Farmengol</td>\n",
              "      <td>2</td>\n",
              "    </tr>\n",
              "    <tr>\n",
              "      <th>4628</th>\n",
              "      <td>5130327.0</td>\n",
              "      <td>Dhneil</td>\n",
              "      <td>7</td>\n",
              "    </tr>\n",
              "    <tr>\n",
              "      <th>4629</th>\n",
              "      <td>5913066.0</td>\n",
              "      <td>Dr Salvus</td>\n",
              "      <td>3</td>\n",
              "    </tr>\n",
              "    <tr>\n",
              "      <th>4630</th>\n",
              "      <td>3977113.0</td>\n",
              "      <td>Alejofon27</td>\n",
              "      <td>4</td>\n",
              "    </tr>\n",
              "  </tbody>\n",
              "</table>\n",
              "<p>4631 rows × 3 columns</p>\n",
              "</div>"
            ],
            "text/plain": [
              "      revisor_id revisor_username  cantidad_de_idiomas\n",
              "0      4642283.0        Traitrich                    5\n",
              "1      3615366.0           Jialxv                    4\n",
              "2       689866.0    PatriHorrillo                    3\n",
              "3      6048511.0          LOLAOMI                    1\n",
              "4       936194.0             Jkbw                    5\n",
              "...          ...              ...                  ...\n",
              "4626   1495557.0          Rafamol                    6\n",
              "4627   6116537.0        Farmengol                    2\n",
              "4628   5130327.0           Dhneil                    7\n",
              "4629   5913066.0        Dr Salvus                    3\n",
              "4630   3977113.0       Alejofon27                    4\n",
              "\n",
              "[4631 rows x 3 columns]"
            ]
          },
          "metadata": {},
          "execution_count": 34
        }
      ]
    },
    {
      "cell_type": "markdown",
      "metadata": {
        "id": "phucTy7kuhtw"
      },
      "source": [
        "Filtro todos los agradecimientos recibidos y me fijo que todos se identifiquen por nombre de usuario y no por IP"
      ]
    },
    {
      "cell_type": "code",
      "metadata": {
        "id": "7zJrWLu70RQN",
        "colab": {
          "base_uri": "https://localhost:8080/"
        },
        "outputId": "86c01645-1882-4c15-bd3e-2999bd523fdf"
      },
      "source": [
        "filtrados_por_agradecimiento = logs.loc[logs[('action')]==\"thank\",:]\n",
        "usuarios_agradecidos = filtrados_por_agradecimiento['title']\n",
        "contienen_usuario = usuarios_agradecidos.str.contains(\"Usuario\")\n",
        "contienen_usuario.value_counts \n"
      ],
      "execution_count": null,
      "outputs": [
        {
          "output_type": "execute_result",
          "data": {
            "text/plain": [
              "<bound method IndexOpsMixin.value_counts of 5089429     True\n",
              "5089430     True\n",
              "5089443     True\n",
              "5089554     True\n",
              "5089560     True\n",
              "            ... \n",
              "12188876    True\n",
              "12188903    True\n",
              "12188905    True\n",
              "12188919    True\n",
              "12188922    True\n",
              "Name: title, Length: 241948, dtype: object>"
            ]
          },
          "metadata": {},
          "execution_count": 35
        }
      ]
    },
    {
      "cell_type": "code",
      "metadata": {
        "id": "2zgzH29BrlPk"
      },
      "source": [
        "usuarios_agradecidos = usuarios_agradecidos.str.replace(\"Usuario:\", \"\")"
      ],
      "execution_count": null,
      "outputs": []
    },
    {
      "cell_type": "markdown",
      "metadata": {
        "id": "VnS4adIKusCJ"
      },
      "source": [
        "Armo un dataframe con todos los agradecimientos que recibieron los usuarios"
      ]
    },
    {
      "cell_type": "code",
      "metadata": {
        "id": "cF4olY5Uqj4q",
        "colab": {
          "base_uri": "https://localhost:8080/",
          "height": 417
        },
        "outputId": "99a0135c-a40f-4fa2-8b09-a7f6a5f49ba6"
      },
      "source": [
        "df_usuarios_agradecidos = usuarios_agradecidos.to_frame(name = \"recibio_agradecimiento\").reset_index(drop=True) \n",
        "df_usuarios_agradecidos"
      ],
      "execution_count": null,
      "outputs": [
        {
          "output_type": "execute_result",
          "data": {
            "text/html": [
              "<div>\n",
              "<style scoped>\n",
              "    .dataframe tbody tr th:only-of-type {\n",
              "        vertical-align: middle;\n",
              "    }\n",
              "\n",
              "    .dataframe tbody tr th {\n",
              "        vertical-align: top;\n",
              "    }\n",
              "\n",
              "    .dataframe thead th {\n",
              "        text-align: right;\n",
              "    }\n",
              "</style>\n",
              "<table border=\"1\" class=\"dataframe\">\n",
              "  <thead>\n",
              "    <tr style=\"text-align: right;\">\n",
              "      <th></th>\n",
              "      <th>recibio_agradecimiento</th>\n",
              "    </tr>\n",
              "  </thead>\n",
              "  <tbody>\n",
              "    <tr>\n",
              "      <th>0</th>\n",
              "      <td>Isha</td>\n",
              "    </tr>\n",
              "    <tr>\n",
              "      <th>1</th>\n",
              "      <td>Osado</td>\n",
              "    </tr>\n",
              "    <tr>\n",
              "      <th>2</th>\n",
              "      <td>Fabrice Florin</td>\n",
              "    </tr>\n",
              "    <tr>\n",
              "      <th>3</th>\n",
              "      <td>Sala Zero</td>\n",
              "    </tr>\n",
              "    <tr>\n",
              "      <th>4</th>\n",
              "      <td>StockZXD</td>\n",
              "    </tr>\n",
              "    <tr>\n",
              "      <th>...</th>\n",
              "      <td>...</td>\n",
              "    </tr>\n",
              "    <tr>\n",
              "      <th>241943</th>\n",
              "      <td>Tector</td>\n",
              "    </tr>\n",
              "    <tr>\n",
              "      <th>241944</th>\n",
              "      <td>Latothy99</td>\n",
              "    </tr>\n",
              "    <tr>\n",
              "      <th>241945</th>\n",
              "      <td>JulioW4rrior00</td>\n",
              "    </tr>\n",
              "    <tr>\n",
              "      <th>241946</th>\n",
              "      <td>Alpinu</td>\n",
              "    </tr>\n",
              "    <tr>\n",
              "      <th>241947</th>\n",
              "      <td>Alpinu</td>\n",
              "    </tr>\n",
              "  </tbody>\n",
              "</table>\n",
              "<p>241948 rows × 1 columns</p>\n",
              "</div>"
            ],
            "text/plain": [
              "       recibio_agradecimiento\n",
              "0                        Isha\n",
              "1                       Osado\n",
              "2              Fabrice Florin\n",
              "3                   Sala Zero\n",
              "4                    StockZXD\n",
              "...                       ...\n",
              "241943                 Tector\n",
              "241944              Latothy99\n",
              "241945         JulioW4rrior00\n",
              "241946                 Alpinu\n",
              "241947                 Alpinu\n",
              "\n",
              "[241948 rows x 1 columns]"
            ]
          },
          "metadata": {},
          "execution_count": 37
        }
      ]
    },
    {
      "cell_type": "code",
      "metadata": {
        "colab": {
          "base_uri": "https://localhost:8080/",
          "height": 417
        },
        "id": "EM9smCZH24LW",
        "outputId": "bcac68f6-83b2-4227-b2b4-a9f60cbccc84"
      },
      "source": [
        "prueba = df_usuarios_agradecidos.value_counts()\n",
        "usuarios_agradecidos_con_cantidad = pd.DataFrame(prueba, columns=['cantidad_de_agradecimientos'])\n",
        "usuarios_agradecidos_con_cantidad.reset_index(inplace = True)\n",
        "usuarios_agradecidos_con_cantidad"
      ],
      "execution_count": null,
      "outputs": [
        {
          "output_type": "execute_result",
          "data": {
            "text/html": [
              "<div>\n",
              "<style scoped>\n",
              "    .dataframe tbody tr th:only-of-type {\n",
              "        vertical-align: middle;\n",
              "    }\n",
              "\n",
              "    .dataframe tbody tr th {\n",
              "        vertical-align: top;\n",
              "    }\n",
              "\n",
              "    .dataframe thead th {\n",
              "        text-align: right;\n",
              "    }\n",
              "</style>\n",
              "<table border=\"1\" class=\"dataframe\">\n",
              "  <thead>\n",
              "    <tr style=\"text-align: right;\">\n",
              "      <th></th>\n",
              "      <th>recibio_agradecimiento</th>\n",
              "      <th>cantidad_de_agradecimientos</th>\n",
              "    </tr>\n",
              "  </thead>\n",
              "  <tbody>\n",
              "    <tr>\n",
              "      <th>0</th>\n",
              "      <td>Ontzak</td>\n",
              "      <td>4975</td>\n",
              "    </tr>\n",
              "    <tr>\n",
              "      <th>1</th>\n",
              "      <td>Marcelo</td>\n",
              "      <td>4372</td>\n",
              "    </tr>\n",
              "    <tr>\n",
              "      <th>2</th>\n",
              "      <td>Geom</td>\n",
              "      <td>2793</td>\n",
              "    </tr>\n",
              "    <tr>\n",
              "      <th>3</th>\n",
              "      <td>Fixertool</td>\n",
              "      <td>2778</td>\n",
              "    </tr>\n",
              "    <tr>\n",
              "      <th>4</th>\n",
              "      <td>Taichi</td>\n",
              "      <td>2747</td>\n",
              "    </tr>\n",
              "    <tr>\n",
              "      <th>...</th>\n",
              "      <td>...</td>\n",
              "      <td>...</td>\n",
              "    </tr>\n",
              "    <tr>\n",
              "      <th>22377</th>\n",
              "      <td>Luis Eugenio Panza</td>\n",
              "      <td>1</td>\n",
              "    </tr>\n",
              "    <tr>\n",
              "      <th>22378</th>\n",
              "      <td>Luis Crespí de Valldaura</td>\n",
              "      <td>1</td>\n",
              "    </tr>\n",
              "    <tr>\n",
              "      <th>22379</th>\n",
              "      <td>Luis Cheetos</td>\n",
              "      <td>1</td>\n",
              "    </tr>\n",
              "    <tr>\n",
              "      <th>22380</th>\n",
              "      <td>Luis Cedeño Rodríguez</td>\n",
              "      <td>1</td>\n",
              "    </tr>\n",
              "    <tr>\n",
              "      <th>22381</th>\n",
              "      <td>\"viviapari1981\"</td>\n",
              "      <td>1</td>\n",
              "    </tr>\n",
              "  </tbody>\n",
              "</table>\n",
              "<p>22382 rows × 2 columns</p>\n",
              "</div>"
            ],
            "text/plain": [
              "         recibio_agradecimiento  cantidad_de_agradecimientos\n",
              "0                        Ontzak                         4975\n",
              "1                       Marcelo                         4372\n",
              "2                          Geom                         2793\n",
              "3                     Fixertool                         2778\n",
              "4                        Taichi                         2747\n",
              "...                         ...                          ...\n",
              "22377        Luis Eugenio Panza                            1\n",
              "22378  Luis Crespí de Valldaura                            1\n",
              "22379              Luis Cheetos                            1\n",
              "22380     Luis Cedeño Rodríguez                            1\n",
              "22381           \"viviapari1981\"                            1\n",
              "\n",
              "[22382 rows x 2 columns]"
            ]
          },
          "metadata": {},
          "execution_count": 38
        }
      ]
    },
    {
      "cell_type": "code",
      "metadata": {
        "colab": {
          "base_uri": "https://localhost:8080/",
          "height": 417
        },
        "id": "jMmRuDd230HL",
        "outputId": "614207dd-9494-456b-f581-73f486fe4555"
      },
      "source": [
        "contents_con_idiomas_y_agradecimientos = pd.merge(left=contents_con_idiomas, right=usuarios_agradecidos_con_cantidad, left_on='revisor_username', right_on='recibio_agradecimiento', how = 'left')\n",
        "contents_con_idiomas_y_agradecimientos.fillna(0, inplace = True)\n",
        "contents_con_idiomas_y_agradecimientos "
      ],
      "execution_count": null,
      "outputs": [
        {
          "output_type": "execute_result",
          "data": {
            "text/html": [
              "<div>\n",
              "<style scoped>\n",
              "    .dataframe tbody tr th:only-of-type {\n",
              "        vertical-align: middle;\n",
              "    }\n",
              "\n",
              "    .dataframe tbody tr th {\n",
              "        vertical-align: top;\n",
              "    }\n",
              "\n",
              "    .dataframe thead th {\n",
              "        text-align: right;\n",
              "    }\n",
              "</style>\n",
              "<table border=\"1\" class=\"dataframe\">\n",
              "  <thead>\n",
              "    <tr style=\"text-align: right;\">\n",
              "      <th></th>\n",
              "      <th>revisor_id</th>\n",
              "      <th>revisor_username</th>\n",
              "      <th>cantidad_de_idiomas</th>\n",
              "      <th>recibio_agradecimiento</th>\n",
              "      <th>cantidad_de_agradecimientos</th>\n",
              "    </tr>\n",
              "  </thead>\n",
              "  <tbody>\n",
              "    <tr>\n",
              "      <th>0</th>\n",
              "      <td>4642283.0</td>\n",
              "      <td>Traitrich</td>\n",
              "      <td>5</td>\n",
              "      <td>Traitrich</td>\n",
              "      <td>30.0</td>\n",
              "    </tr>\n",
              "    <tr>\n",
              "      <th>1</th>\n",
              "      <td>3615366.0</td>\n",
              "      <td>Jialxv</td>\n",
              "      <td>4</td>\n",
              "      <td>Jialxv</td>\n",
              "      <td>100.0</td>\n",
              "    </tr>\n",
              "    <tr>\n",
              "      <th>2</th>\n",
              "      <td>689866.0</td>\n",
              "      <td>PatriHorrillo</td>\n",
              "      <td>3</td>\n",
              "      <td>PatriHorrillo</td>\n",
              "      <td>198.0</td>\n",
              "    </tr>\n",
              "    <tr>\n",
              "      <th>3</th>\n",
              "      <td>6048511.0</td>\n",
              "      <td>LOLAOMI</td>\n",
              "      <td>1</td>\n",
              "      <td>0</td>\n",
              "      <td>0.0</td>\n",
              "    </tr>\n",
              "    <tr>\n",
              "      <th>4</th>\n",
              "      <td>936194.0</td>\n",
              "      <td>Jkbw</td>\n",
              "      <td>5</td>\n",
              "      <td>Jkbw</td>\n",
              "      <td>1247.0</td>\n",
              "    </tr>\n",
              "    <tr>\n",
              "      <th>...</th>\n",
              "      <td>...</td>\n",
              "      <td>...</td>\n",
              "      <td>...</td>\n",
              "      <td>...</td>\n",
              "      <td>...</td>\n",
              "    </tr>\n",
              "    <tr>\n",
              "      <th>4626</th>\n",
              "      <td>1495557.0</td>\n",
              "      <td>Rafamol</td>\n",
              "      <td>6</td>\n",
              "      <td>0</td>\n",
              "      <td>0.0</td>\n",
              "    </tr>\n",
              "    <tr>\n",
              "      <th>4627</th>\n",
              "      <td>6116537.0</td>\n",
              "      <td>Farmengol</td>\n",
              "      <td>2</td>\n",
              "      <td>0</td>\n",
              "      <td>0.0</td>\n",
              "    </tr>\n",
              "    <tr>\n",
              "      <th>4628</th>\n",
              "      <td>5130327.0</td>\n",
              "      <td>Dhneil</td>\n",
              "      <td>7</td>\n",
              "      <td>Dhneil</td>\n",
              "      <td>1.0</td>\n",
              "    </tr>\n",
              "    <tr>\n",
              "      <th>4629</th>\n",
              "      <td>5913066.0</td>\n",
              "      <td>Dr Salvus</td>\n",
              "      <td>3</td>\n",
              "      <td>0</td>\n",
              "      <td>0.0</td>\n",
              "    </tr>\n",
              "    <tr>\n",
              "      <th>4630</th>\n",
              "      <td>3977113.0</td>\n",
              "      <td>Alejofon27</td>\n",
              "      <td>4</td>\n",
              "      <td>0</td>\n",
              "      <td>0.0</td>\n",
              "    </tr>\n",
              "  </tbody>\n",
              "</table>\n",
              "<p>4631 rows × 5 columns</p>\n",
              "</div>"
            ],
            "text/plain": [
              "      revisor_id  ... cantidad_de_agradecimientos\n",
              "0      4642283.0  ...                        30.0\n",
              "1      3615366.0  ...                       100.0\n",
              "2       689866.0  ...                       198.0\n",
              "3      6048511.0  ...                         0.0\n",
              "4       936194.0  ...                      1247.0\n",
              "...          ...  ...                         ...\n",
              "4626   1495557.0  ...                         0.0\n",
              "4627   6116537.0  ...                         0.0\n",
              "4628   5130327.0  ...                         1.0\n",
              "4629   5913066.0  ...                         0.0\n",
              "4630   3977113.0  ...                         0.0\n",
              "\n",
              "[4631 rows x 5 columns]"
            ]
          },
          "metadata": {},
          "execution_count": 39
        }
      ]
    },
    {
      "cell_type": "markdown",
      "metadata": {
        "id": "IXO369Vox-kO"
      },
      "source": [
        "Una vez que tengo los agradecimientos por usuario y la cantidad de idiomas que hablo saco el promedio de agradecimientos que reciben por cantidad de idiomas que saben"
      ]
    },
    {
      "cell_type": "code",
      "metadata": {
        "id": "z0lPC91yvFQa",
        "colab": {
          "base_uri": "https://localhost:8080/",
          "height": 788
        },
        "outputId": "2a355d9b-69be-4ad3-c917-be3301d33a13"
      },
      "source": [
        "promedio = contents_con_idiomas_y_agradecimientos.groupby('cantidad_de_idiomas').agg({'cantidad_de_agradecimientos':'mean'})\n",
        "promedio.rename(columns={'cantidad_de_agradecimientos': 'cantidad_de_agradecimientos_promedio'},inplace=True)\n",
        "promedio"
      ],
      "execution_count": null,
      "outputs": [
        {
          "output_type": "execute_result",
          "data": {
            "text/html": [
              "<div>\n",
              "<style scoped>\n",
              "    .dataframe tbody tr th:only-of-type {\n",
              "        vertical-align: middle;\n",
              "    }\n",
              "\n",
              "    .dataframe tbody tr th {\n",
              "        vertical-align: top;\n",
              "    }\n",
              "\n",
              "    .dataframe thead th {\n",
              "        text-align: right;\n",
              "    }\n",
              "</style>\n",
              "<table border=\"1\" class=\"dataframe\">\n",
              "  <thead>\n",
              "    <tr style=\"text-align: right;\">\n",
              "      <th></th>\n",
              "      <th>cantidad_de_agradecimientos_promedio</th>\n",
              "    </tr>\n",
              "    <tr>\n",
              "      <th>cantidad_de_idiomas</th>\n",
              "      <th></th>\n",
              "    </tr>\n",
              "  </thead>\n",
              "  <tbody>\n",
              "    <tr>\n",
              "      <th>1</th>\n",
              "      <td>10.028986</td>\n",
              "    </tr>\n",
              "    <tr>\n",
              "      <th>2</th>\n",
              "      <td>14.607743</td>\n",
              "    </tr>\n",
              "    <tr>\n",
              "      <th>3</th>\n",
              "      <td>19.784810</td>\n",
              "    </tr>\n",
              "    <tr>\n",
              "      <th>4</th>\n",
              "      <td>17.932895</td>\n",
              "    </tr>\n",
              "    <tr>\n",
              "      <th>5</th>\n",
              "      <td>18.717949</td>\n",
              "    </tr>\n",
              "    <tr>\n",
              "      <th>6</th>\n",
              "      <td>20.355932</td>\n",
              "    </tr>\n",
              "    <tr>\n",
              "      <th>7</th>\n",
              "      <td>29.989130</td>\n",
              "    </tr>\n",
              "    <tr>\n",
              "      <th>8</th>\n",
              "      <td>15.704918</td>\n",
              "    </tr>\n",
              "    <tr>\n",
              "      <th>9</th>\n",
              "      <td>1.730769</td>\n",
              "    </tr>\n",
              "    <tr>\n",
              "      <th>10</th>\n",
              "      <td>19.250000</td>\n",
              "    </tr>\n",
              "    <tr>\n",
              "      <th>11</th>\n",
              "      <td>3.200000</td>\n",
              "    </tr>\n",
              "    <tr>\n",
              "      <th>12</th>\n",
              "      <td>57.769231</td>\n",
              "    </tr>\n",
              "    <tr>\n",
              "      <th>13</th>\n",
              "      <td>0.000000</td>\n",
              "    </tr>\n",
              "    <tr>\n",
              "      <th>14</th>\n",
              "      <td>33.333333</td>\n",
              "    </tr>\n",
              "    <tr>\n",
              "      <th>15</th>\n",
              "      <td>2.000000</td>\n",
              "    </tr>\n",
              "    <tr>\n",
              "      <th>16</th>\n",
              "      <td>5.333333</td>\n",
              "    </tr>\n",
              "    <tr>\n",
              "      <th>17</th>\n",
              "      <td>1.500000</td>\n",
              "    </tr>\n",
              "    <tr>\n",
              "      <th>18</th>\n",
              "      <td>1.666667</td>\n",
              "    </tr>\n",
              "    <tr>\n",
              "      <th>21</th>\n",
              "      <td>1.000000</td>\n",
              "    </tr>\n",
              "    <tr>\n",
              "      <th>22</th>\n",
              "      <td>23.000000</td>\n",
              "    </tr>\n",
              "    <tr>\n",
              "      <th>23</th>\n",
              "      <td>0.000000</td>\n",
              "    </tr>\n",
              "    <tr>\n",
              "      <th>24</th>\n",
              "      <td>28.000000</td>\n",
              "    </tr>\n",
              "    <tr>\n",
              "      <th>34</th>\n",
              "      <td>13.500000</td>\n",
              "    </tr>\n",
              "  </tbody>\n",
              "</table>\n",
              "</div>"
            ],
            "text/plain": [
              "                     cantidad_de_agradecimientos_promedio\n",
              "cantidad_de_idiomas                                      \n",
              "1                                               10.028986\n",
              "2                                               14.607743\n",
              "3                                               19.784810\n",
              "4                                               17.932895\n",
              "5                                               18.717949\n",
              "6                                               20.355932\n",
              "7                                               29.989130\n",
              "8                                               15.704918\n",
              "9                                                1.730769\n",
              "10                                              19.250000\n",
              "11                                               3.200000\n",
              "12                                              57.769231\n",
              "13                                               0.000000\n",
              "14                                              33.333333\n",
              "15                                               2.000000\n",
              "16                                               5.333333\n",
              "17                                               1.500000\n",
              "18                                               1.666667\n",
              "21                                               1.000000\n",
              "22                                              23.000000\n",
              "23                                               0.000000\n",
              "24                                              28.000000\n",
              "34                                              13.500000"
            ]
          },
          "metadata": {},
          "execution_count": 40
        }
      ]
    }
  ]
}
